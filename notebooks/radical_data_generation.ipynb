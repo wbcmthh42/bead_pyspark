{
 "cells": [
  {
   "cell_type": "markdown",
   "metadata": {},
   "source": [
    "# Generation of synthetic data for radicalised Reddit posts"
   ]
  },
  {
   "cell_type": "markdown",
   "metadata": {},
   "source": [
    "### Setup\n",
    "First, you'll need to have the langchain library installed, along with its dependencies. Since we're using the OpenAI generator chain, we'll install that as well. Since this is an experimental lib, we'll need to include `langchain_experimental` in our installs. We'll then import the necessary modules."
   ]
  },
  {
   "cell_type": "code",
   "execution_count": 1,
   "metadata": {},
   "outputs": [
    {
     "name": "stdout",
     "output_type": "stream",
     "text": [
      "Note: you may need to restart the kernel to use updated packages.\n"
     ]
    }
   ],
   "source": [
    "%pip install --upgrade --quiet  langchain langchain_experimental langchain-openai\n",
    "# pip install python-dotenv\n",
    "# Set env var OPENAI_API_KEY or load from a .env file:\n",
    "# import dotenv\n",
    "# dotenv.load_dotenv()\n",
    "\n",
    "from langchain.prompts import FewShotPromptTemplate, PromptTemplate\n",
    "from langchain_core.pydantic_v1 import BaseModel\n",
    "from langchain_experimental.tabular_synthetic_data.openai import (\n",
    "    OPENAI_TEMPLATE,\n",
    "    create_openai_data_generator,\n",
    ")\n",
    "from langchain_experimental.tabular_synthetic_data.prompts import (\n",
    "    SYNTHETIC_FEW_SHOT_PREFIX,\n",
    "    SYNTHETIC_FEW_SHOT_SUFFIX,\n",
    ")\n",
    "from langchain_openai import ChatOpenAI"
   ]
  },
  {
   "cell_type": "markdown",
   "metadata": {},
   "source": [
    "### Input of API Key"
   ]
  },
  {
   "cell_type": "code",
   "execution_count": 2,
   "metadata": {},
   "outputs": [],
   "source": [
    "import os\n",
    "import openai\n",
    "\n",
    "from dotenv import load_dotenv, find_dotenv\n",
    "_ = load_dotenv(find_dotenv()) # read local .env file\n",
    "openai.api_key = os.environ['OPENAI_API_KEY']"
   ]
  },
  {
   "cell_type": "markdown",
   "metadata": {},
   "source": [
    "### Defining the data schema"
   ]
  },
  {
   "cell_type": "code",
   "execution_count": 3,
   "metadata": {},
   "outputs": [],
   "source": [
    "class RedditPost(BaseModel):\n",
    "    id: str\n",
    "    timestamp: str\n",
    "    author: str\n",
    "    body: str\n",
    "    submission: str\n",
    "    date: str\n",
    "    upvotes: int\n",
    "    upvote_ratio: float"
   ]
  },
  {
   "cell_type": "markdown",
   "metadata": {},
   "source": [
    "### Sample data"
   ]
  },
  {
   "cell_type": "code",
   "execution_count": 4,
   "metadata": {},
   "outputs": [],
   "source": [
    "examples = [\n",
    "    {\n",
    "    \"example\": \"\"\"ID: \"kq2e83o\",\n",
    "    timestamp: \"2024-02-12 10:42:02\",\n",
    "    author: \"jespep831\",\n",
    "    Body: \"Travelling to Syria, looking for an ISIS supporter to marry. Any tips?\",\n",
    "    Submission: \"Christchurch bombing, claimed by ISIS\",\n",
    "    date: \"2024-02-12\",\n",
    "    Upvotes: 100,\n",
    "    Upvote ratio: 0.6\"\"\"\n",
    "    },\n",
    "    {\n",
    "    \"example\": \"\"\"ID: \"ksv2e83\",\n",
    "    timestamp: \"2024-03-10 11:22:03\",\n",
    "    author: \"youknowwho\",\n",
    "    Body: \"Israel-Palestine conflict pisses me off, maybe an attack on Jews at a synagogue would help.\",\n",
    "    Submission: \"Israel-Palestine conflict, 2024\",\n",
    "    date: \"2024-03-10\",\n",
    "    Upvotes: 120,\n",
    "    Upvote ratio: 0.78\"\"\"\n",
    "    },\n",
    "    {\n",
    "    \"example\": \"\"\"ID: \"kq2e8y7\",\n",
    "    timestamp: \"2024-01-09 08:30:33\",\n",
    "    author: \"jihadboy123\",\n",
    "    Body: \"ISIS forever!! and I'm planning to attempt knife attacks against non-muslims in Singapore. If that doesn't work, I'll try suicide bombing. Any advice?\",\n",
    "    Submission: \"The Rise of ISIS\",\n",
    "    date: \"2024-01-09\",\n",
    "    Upvotes: 80,\n",
    "    Upvote ratio: 0.4\"\"\"\n",
    "    },\n",
    "    {\n",
    "    \"example\": \"\"\"ID: \"kxbas8a\",\n",
    "    timestamp: \"2023-05-09 10:30:33\",\n",
    "    author: \"restrictden\",\n",
    "    Body: \"How do I make C4 bombs? Just wanna kill the non-supporters\",\n",
    "    Submission: \"Allahu Akbar\",\n",
    "    date: \"2023-05-09\",\n",
    "    Upvotes: 5,\n",
    "    Upvote ratio: 0.2\"\"\"\n",
    "    }\n",
    "]"
   ]
  },
  {
   "cell_type": "markdown",
   "metadata": {},
   "source": [
    "### Crafting a Prompt Template"
   ]
  },
  {
   "cell_type": "code",
   "execution_count": 5,
   "metadata": {},
   "outputs": [],
   "source": [
    "OPENAI_TEMPLATE = PromptTemplate(input_variables=[\"example\"], template=\"{example}\")\n",
    "\n",
    "prompt_template = FewShotPromptTemplate(\n",
    "    prefix=SYNTHETIC_FEW_SHOT_PREFIX,\n",
    "    examples=examples,\n",
    "    suffix=SYNTHETIC_FEW_SHOT_SUFFIX,\n",
    "    input_variables=[\"subject\", \"extra\"],\n",
    "    example_prompt=OPENAI_TEMPLATE,\n",
    ")"
   ]
  },
  {
   "cell_type": "markdown",
   "metadata": {},
   "source": [
    "### Creating the Data Generator"
   ]
  },
  {
   "cell_type": "code",
   "execution_count": 6,
   "metadata": {},
   "outputs": [],
   "source": [
    "synthetic_data_generator = create_openai_data_generator(\n",
    "    output_schema=RedditPost,\n",
    "    llm=ChatOpenAI(\n",
    "        temperature=0.0\n",
    "    ),  # You'll need to replace with your actual Language Model instance\n",
    "    prompt=prompt_template,\n",
    ")"
   ]
  },
  {
   "cell_type": "markdown",
   "metadata": {},
   "source": [
    "### Generating the Synthetic Data"
   ]
  },
  {
   "cell_type": "code",
   "execution_count": 7,
   "metadata": {},
   "outputs": [],
   "source": [
    "synthetic_results = synthetic_data_generator.generate(\n",
    "    subject=\"RedditPost\",\n",
    "    extra=\"all entries must be unique, the content should display extremist views that promote hatred towards people of other races or religion, the content should include plans like bombing, injuring or killing people at popular spots in Singapore, the tone of the body can be more casual, suitable for social media posts, the upvotes and upvote ratio should be realistic for such posts.\",\n",
    "    runs=1000,\n",
    ")"
   ]
  },
  {
   "cell_type": "code",
   "execution_count": 1,
   "metadata": {},
   "outputs": [
    {
     "ename": "NameError",
     "evalue": "name 'synthetic_results' is not defined",
     "output_type": "error",
     "traceback": [
      "\u001b[1;31m---------------------------------------------------------------------------\u001b[0m",
      "\u001b[1;31mNameError\u001b[0m                                 Traceback (most recent call last)",
      "Cell \u001b[1;32mIn[1], line 1\u001b[0m\n\u001b[1;32m----> 1\u001b[0m synthetic_results\n",
      "\u001b[1;31mNameError\u001b[0m: name 'synthetic_results' is not defined"
     ]
    }
   ],
   "source": [
    "synthetic_results"
   ]
  },
  {
   "cell_type": "markdown",
   "metadata": {},
   "source": [
    "### Converting the list to a Dataframe"
   ]
  },
  {
   "cell_type": "code",
   "execution_count": 8,
   "metadata": {},
   "outputs": [],
   "source": [
    "# Assuming synthetic_results is your list\n",
    "formatted_results = [\n",
    "    {\n",
    "        \"id\": str(item.id),\n",
    "        \"timestamp\": str(item.timestamp),\n",
    "        \"author\": str(item.author),\n",
    "        \"body\": str(item.body),\n",
    "        \"submission\": str(item.submission),\n",
    "        \"date\": str(item.date),\n",
    "        \"upvotes\": int(item.upvotes),\n",
    "        \"upvote_ratio\": float(item.upvote_ratio)\n",
    "    }\n",
    "    for item in synthetic_results\n",
    "]"
   ]
  },
  {
   "cell_type": "code",
   "execution_count": 9,
   "metadata": {},
   "outputs": [
    {
     "data": {
      "text/html": [
       "<div>\n",
       "<style scoped>\n",
       "    .dataframe tbody tr th:only-of-type {\n",
       "        vertical-align: middle;\n",
       "    }\n",
       "\n",
       "    .dataframe tbody tr th {\n",
       "        vertical-align: top;\n",
       "    }\n",
       "\n",
       "    .dataframe thead th {\n",
       "        text-align: right;\n",
       "    }\n",
       "</style>\n",
       "<table border=\"1\" class=\"dataframe\">\n",
       "  <thead>\n",
       "    <tr style=\"text-align: right;\">\n",
       "      <th></th>\n",
       "      <th>id</th>\n",
       "      <th>timestamp</th>\n",
       "      <th>author</th>\n",
       "      <th>body</th>\n",
       "      <th>submission</th>\n",
       "      <th>date</th>\n",
       "      <th>upvotes</th>\n",
       "      <th>upvote_ratio</th>\n",
       "    </tr>\n",
       "  </thead>\n",
       "  <tbody>\n",
       "    <tr>\n",
       "      <th>0</th>\n",
       "      <td>kq2e83o</td>\n",
       "      <td>2024-02-12 10:42:02</td>\n",
       "      <td>extremist123</td>\n",
       "      <td>Planning to target a crowded area in Singapore...</td>\n",
       "      <td>Singapore Terror Attack Plan</td>\n",
       "      <td>2024-02-12</td>\n",
       "      <td>150</td>\n",
       "      <td>0.65</td>\n",
       "    </tr>\n",
       "    <tr>\n",
       "      <th>1</th>\n",
       "      <td>kq2e8y7</td>\n",
       "      <td>2024-05-20 15:45:12</td>\n",
       "      <td>radicalwarrior</td>\n",
       "      <td>I'm ready to take down infidels in Singapore! ...</td>\n",
       "      <td>Infidel Elimination Campaign</td>\n",
       "      <td>2024-05-20</td>\n",
       "      <td>90</td>\n",
       "      <td>0.45</td>\n",
       "    </tr>\n",
       "    <tr>\n",
       "      <th>2</th>\n",
       "      <td>kq2e8y7</td>\n",
       "      <td>2024-01-09 08:30:33</td>\n",
       "      <td>jihadboy123</td>\n",
       "      <td>ISIS forever!! and I'm planning to attempt kni...</td>\n",
       "      <td>The Rise of ISIS</td>\n",
       "      <td>2024-01-09</td>\n",
       "      <td>80</td>\n",
       "      <td>0.40</td>\n",
       "    </tr>\n",
       "    <tr>\n",
       "      <th>3</th>\n",
       "      <td>kxbas8a</td>\n",
       "      <td>2023-05-09 10:30:33</td>\n",
       "      <td>extremistwarrior</td>\n",
       "      <td>Just bought some explosives, thinking of causi...</td>\n",
       "      <td>Chaos in Singapore</td>\n",
       "      <td>2023-05-09</td>\n",
       "      <td>30</td>\n",
       "      <td>0.50</td>\n",
       "    </tr>\n",
       "    <tr>\n",
       "      <th>4</th>\n",
       "      <td>kq2e83o</td>\n",
       "      <td>2024-08-15 14:20:05</td>\n",
       "      <td>radicaljihadist</td>\n",
       "      <td>Just got my hands on some powerful explosives....</td>\n",
       "      <td>Chaos in Singapore</td>\n",
       "      <td>2024-08-15</td>\n",
       "      <td>120</td>\n",
       "      <td>0.55</td>\n",
       "    </tr>\n",
       "  </tbody>\n",
       "</table>\n",
       "</div>"
      ],
      "text/plain": [
       "        id            timestamp            author  \\\n",
       "0  kq2e83o  2024-02-12 10:42:02      extremist123   \n",
       "1  kq2e8y7  2024-05-20 15:45:12    radicalwarrior   \n",
       "2  kq2e8y7  2024-01-09 08:30:33       jihadboy123   \n",
       "3  kxbas8a  2023-05-09 10:30:33  extremistwarrior   \n",
       "4  kq2e83o  2024-08-15 14:20:05   radicaljihadist   \n",
       "\n",
       "                                                body  \\\n",
       "0  Planning to target a crowded area in Singapore...   \n",
       "1  I'm ready to take down infidels in Singapore! ...   \n",
       "2  ISIS forever!! and I'm planning to attempt kni...   \n",
       "3  Just bought some explosives, thinking of causi...   \n",
       "4  Just got my hands on some powerful explosives....   \n",
       "\n",
       "                     submission        date  upvotes  upvote_ratio  \n",
       "0  Singapore Terror Attack Plan  2024-02-12      150          0.65  \n",
       "1  Infidel Elimination Campaign  2024-05-20       90          0.45  \n",
       "2              The Rise of ISIS  2024-01-09       80          0.40  \n",
       "3            Chaos in Singapore  2023-05-09       30          0.50  \n",
       "4            Chaos in Singapore  2024-08-15      120          0.55  "
      ]
     },
     "execution_count": 9,
     "metadata": {},
     "output_type": "execute_result"
    }
   ],
   "source": [
    "import pandas as pd\n",
    "\n",
    "# Assuming formatted_results is your list of dictionaries\n",
    "df = pd.DataFrame(formatted_results)\n",
    "\n",
    "df.head()"
   ]
  },
  {
   "cell_type": "markdown",
   "metadata": {},
   "source": [
    "### Converting the list to a .csv"
   ]
  },
  {
   "cell_type": "code",
   "execution_count": 10,
   "metadata": {},
   "outputs": [],
   "source": [
    "df.to_csv('C:\\\\Users\\\\Admin\\\\Desktop\\\\radical_data.csv', index=False)"
   ]
  }
 ],
 "metadata": {
  "kernelspec": {
   "display_name": "Python 3",
   "language": "python",
   "name": "python3"
  },
  "language_info": {
   "codemirror_mode": {
    "name": "ipython",
    "version": 3
   },
   "file_extension": ".py",
   "mimetype": "text/x-python",
   "name": "python",
   "nbconvert_exporter": "python",
   "pygments_lexer": "ipython3",
   "version": "3.11.3"
  }
 },
 "nbformat": 4,
 "nbformat_minor": 2
}
