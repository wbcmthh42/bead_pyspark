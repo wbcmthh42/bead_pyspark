{
 "cells": [
  {
   "cell_type": "markdown",
   "metadata": {},
   "source": [
    "# Generation of synthetic data for radicalised Reddit posts"
   ]
  },
  {
   "cell_type": "markdown",
   "metadata": {},
   "source": [
    "### Setup\n",
    "First, you'll need to have the langchain library installed, along with its dependencies. Since we're using the OpenAI generator chain, we'll install that as well. Since this is an experimental lib, we'll need to include `langchain_experimental` in our installs. We'll then import the necessary modules."
   ]
  },
  {
   "cell_type": "code",
   "execution_count": null,
   "metadata": {},
   "outputs": [],
   "source": [
    "%pip install --upgrade --quiet  langchain langchain_experimental langchain-openai\n",
    "# pip install python-dotenv\n",
    "# Set env var OPENAI_API_KEY or load from a .env file:\n",
    "# import dotenv\n",
    "# dotenv.load_dotenv()\n",
    "\n",
    "from langchain.prompts import FewShotPromptTemplate, PromptTemplate\n",
    "from langchain_core.pydantic_v1 import BaseModel\n",
    "from langchain_experimental.tabular_synthetic_data.openai import (\n",
    "    OPENAI_TEMPLATE,\n",
    "    create_openai_data_generator,\n",
    ")\n",
    "from langchain_experimental.tabular_synthetic_data.prompts import (\n",
    "    SYNTHETIC_FEW_SHOT_PREFIX,\n",
    "    SYNTHETIC_FEW_SHOT_SUFFIX,\n",
    ")\n",
    "from langchain_openai import ChatOpenAI"
   ]
  },
  {
   "cell_type": "markdown",
   "metadata": {},
   "source": [
    "### Input of API Key"
   ]
  },
  {
   "cell_type": "code",
   "execution_count": null,
   "metadata": {},
   "outputs": [],
   "source": [
    "import os\n",
    "import openai\n",
    "\n",
    "from dotenv import load_dotenv, find_dotenv\n",
    "_ = load_dotenv(find_dotenv()) # read local .env file\n",
    "openai.api_key = os.environ['OPENAI_API_KEY']"
   ]
  },
  {
   "cell_type": "markdown",
   "metadata": {},
   "source": [
    "### Defining the data schema"
   ]
  },
  {
   "cell_type": "code",
   "execution_count": null,
   "metadata": {},
   "outputs": [],
   "source": [
    "class RedditPost(BaseModel):\n",
    "    submission_id: str\n",
    "    comment_id: str\n",
    "    timestamp: str\n",
    "    author: str\n",
    "    body: str\n",
    "    submission: str\n",
    "    upvotes: int\n",
    "    upvote_ratio: float\n",
    "    date: str\n",
    "    sub_reddit: str"
   ]
  },
  {
   "cell_type": "markdown",
   "metadata": {},
   "source": [
    "### Sample data"
   ]
  },
  {
   "cell_type": "code",
   "execution_count": null,
   "metadata": {},
   "outputs": [],
   "source": [
    "examples = [\n",
    "    {\n",
    "    \"example\": \"\"\"submission_id: \"kq2e83o\",\n",
    "    comment_id: \"kumku2n\",\n",
    "    timestamp: \"2024-02-12 10:42:02\",\n",
    "    author: \"jespep831\",\n",
    "    Body: \"Travelling to Syria, looking for an ISIS supporter to marry. Any tips?\",\n",
    "    Submission: \"Christchurch bombing, claimed by ISIS\",\n",
    "    Upvotes: 100,\n",
    "    Upvote ratio: 0.6,\n",
    "    date: \"2024-02-12\",\n",
    "    sub_reddit: \"singapore\" \"\"\"\n",
    "    },\n",
    "    {\n",
    "    \"example\": \"\"\"submission_id: \"ksv2e83\",\n",
    "    comment_id: \"kumtb3n\",\n",
    "    timestamp: \"2024-03-10 11:22:03\",\n",
    "    author: \"youknowwho\",\n",
    "    Body: \"Israel-Palestine conflict pisses me off, maybe an attack on Jews at a synagogue would help.\",\n",
    "    Submission: \"Israel-Palestine conflict, 2024\",\n",
    "    Upvotes: 120,\n",
    "    Upvote ratio: 0.78,\n",
    "    date: \"2024-03-10\",\n",
    "    sub_reddit: 'asksingapore' \"\"\"\n",
    "    },\n",
    "    {\n",
    "    \"example\": \"\"\"submission_id: \"kq2e8y7\",\n",
    "    comment_id: \"kumds9j\",\n",
    "    timestamp: \"2024-01-09 08:30:33\",\n",
    "    author: \"jihadboy123\",\n",
    "    Body: \"I'm planning to attempt knife attacks against non-muslims in Singapore. If that doesn't work, I'll try suicide bombing.\",\n",
    "    Submission: \"The Rise of ISIS\",\n",
    "    Upvotes: 80,\n",
    "    Upvote ratio: 0.4,\n",
    "    date: \"2024-03-22\",\n",
    "    sub_reddit: 'singapore' \"\"\"\n",
    "    },\n",
    "    {\n",
    "    \"example\": \"\"\"submission_id: \"kxbas8a\",\n",
    "    comment_id: \"kumsfd8\",\n",
    "    timestamp: \"2023-05-09 10:30:33\",\n",
    "    author: \"restrictden\",\n",
    "    Body: \"How do I make C4 bombs? Just wanna kill the non-supporters\",\n",
    "    Submission: \"Allahu Akbar\",\n",
    "    Upvotes: 5,\n",
    "    Upvote ratio: 0.2,\n",
    "    date: \"2023-05-09\",\n",
    "    sub_reddit: 'sgexams' \"\"\"\n",
    "    },\n",
    "    {\"example\": \"\"\"submission_id: \"ksbdf8s\",\n",
    "    comment_id: \"kumasd8\",\n",
    "    timestamp: \"2023-05-09 10:30:33\",\n",
    "    author: \"rbelievernow\",\n",
    "    Body: \"this place is so un-islamic, it needs to be destroyed\",\n",
    "    Submission: \"where can I attack next\",\n",
    "    Upvotes: 2,\n",
    "    Upvote ratio: 0.2,\n",
    "    date: \"2023-09-22\",\n",
    "    sub_reddit: 'singapore' \"\"\"\n",
    "    }\n",
    "]"
   ]
  },
  {
   "cell_type": "markdown",
   "metadata": {},
   "source": [
    "### Crafting a Prompt Template"
   ]
  },
  {
   "cell_type": "code",
   "execution_count": null,
   "metadata": {},
   "outputs": [],
   "source": [
    "OPENAI_TEMPLATE = PromptTemplate(input_variables=[\"example\"], template=\"{example}\")\n",
    "\n",
    "prompt_template = FewShotPromptTemplate(\n",
    "    prefix=\"You are an expert in creating synthetic data on {subject}. Examples below:\",\n",
    "    examples=examples,\n",
    "    suffix=\"Now create synthetic data following these {rules}. Make sure to vary the content and consider that {extra}:\",\n",
    "    input_variables=[\"subject\", \"rules\" \"extra\"],\n",
    "    example_prompt=OPENAI_TEMPLATE,\n",
    ")"
   ]
  },
  {
   "cell_type": "code",
   "execution_count": null,
   "metadata": {},
   "outputs": [],
   "source": [
    "print(SYNTHETIC_FEW_SHOT_PREFIX)\n",
    "print(SYNTHETIC_FEW_SHOT_SUFFIX)"
   ]
  },
  {
   "cell_type": "markdown",
   "metadata": {},
   "source": [
    "### Creating the Data Generator"
   ]
  },
  {
   "cell_type": "code",
   "execution_count": null,
   "metadata": {},
   "outputs": [],
   "source": [
    "synthetic_data_generator = create_openai_data_generator(\n",
    "    output_schema=RedditPost,\n",
    "    llm=ChatOpenAI(\n",
    "        temperature=0.2\n",
    "    ), \n",
    "    prompt=prompt_template,\n",
    ")"
   ]
  },
  {
   "cell_type": "markdown",
   "metadata": {},
   "source": [
    "### Generating the Synthetic Data"
   ]
  },
  {
   "cell_type": "code",
   "execution_count": null,
   "metadata": {},
   "outputs": [],
   "source": [
    "# synthetic_results = synthetic_data_generator.generate(\n",
    "#      subject=\"reddit posts by individuals who influenced by Islamist extremist narratives, such as those propagated by ISIS and AQ, and who are planning or have carried out violent attacks in the name of Islam.\",\n",
    "#      rules=\"submission should be varied, sentence structure of body content should differ from examples, all content_id must be a unique alphanumeric 7 digit entry, author can be random\",\n",
    "#      extra=\"posts are aimed at legitimising violence as a means to redress alleged injustices done to muslims, and to promote the idea that the west is at war with Islam.\",\n",
    "#      runs=100,\n",
    "#  )"
   ]
  },
  {
   "cell_type": "code",
   "execution_count": null,
   "metadata": {},
   "outputs": [],
   "source": [
    "synthetic_results = synthetic_data_generator.generate(\n",
    "    subject=\"reddit posts by individuals who believe that violence should be brought upon those who are against Allah and the Islamic State.\",\n",
    "    rules=\"submission should be varied, sentence structure of body content should differ from examples, all content_id must be a unique alphanumeric 7 digit entry, author can be random\",\n",
    "    extra=\"posts can be casual, negative which include propagating their support for terrorist groups, and potentially, violent actions, downloading a C4 bomb-making manual, intending to construct a homemade explosive.\",\n",
    "    runs=1000,\n",
    ")"
   ]
  },
  {
   "cell_type": "code",
   "execution_count": null,
   "metadata": {},
   "outputs": [],
   "source": [
    "synthetic_results"
   ]
  },
  {
   "cell_type": "markdown",
   "metadata": {},
   "source": [
    "### Converting the list to a Dataframe"
   ]
  },
  {
   "cell_type": "code",
   "execution_count": null,
   "metadata": {},
   "outputs": [],
   "source": [
    "# Assuming synthetic_results is your list\n",
    "formatted_results = [\n",
    "    {\n",
    "        \"submission_id\": str(item.submission_id),\n",
    "        \"comment_id\": str(item.comment_id),\n",
    "        \"timestamp\": str(item.timestamp),\n",
    "        \"author\": str(item.author),\n",
    "        \"body\": str(item.body),\n",
    "        \"submission\": str(item.submission),\n",
    "        \"upvotes\": int(item.upvotes),\n",
    "        \"upvote_ratio\": float(item.upvote_ratio),\n",
    "        \"date\": str(item.date),\n",
    "        \"sub_reddit\": str(item.sub_reddit)\n",
    "    }\n",
    "    for item in synthetic_results\n",
    "]"
   ]
  },
  {
   "cell_type": "code",
   "execution_count": null,
   "metadata": {},
   "outputs": [],
   "source": [
    "import pandas as pd\n",
    "\n",
    "# Assuming formatted_results is your list of dictionaries\n",
    "df = pd.DataFrame(formatted_results)\n",
    "\n",
    "df.head(10)"
   ]
  },
  {
   "cell_type": "markdown",
   "metadata": {},
   "source": [
    "### Pre-processing to create unique entries for comment_id"
   ]
  },
  {
   "cell_type": "code",
   "execution_count": null,
   "metadata": {},
   "outputs": [],
   "source": [
    "import pandas as pd\n",
    "import random\n",
    "import string\n",
    "\n",
    "def modify_comment_id(comment_id):\n",
    "    # Remove every fifth character\n",
    "    modified_id = \"\".join([char for i, char in enumerate(comment_id, 1) if i % 5 != 0])\n",
    "    \n",
    "    # Append a random alphanumeric character\n",
    "    random_char = random.choice(string.ascii_letters + string.digits)\n",
    "    modified_id += random_char\n",
    "    \n",
    "    return modified_id\n",
    "\n",
    "# Assuming df is your DataFrame and 'comment_id' is the column\n",
    "df['comment_id'] = df['comment_id'].apply(modify_comment_id)"
   ]
  },
  {
   "cell_type": "code",
   "execution_count": null,
   "metadata": {},
   "outputs": [],
   "source": [
    "# checking if the comment_id has been modified\n",
    "df.head()"
   ]
  },
  {
   "cell_type": "code",
   "execution_count": null,
   "metadata": {},
   "outputs": [],
   "source": [
    "# Count the number of unique entries in each column of comment_id\n",
    "\n",
    "unique_entries_per_column = df.nunique()\n",
    "\n",
    "print(unique_entries_per_column)"
   ]
  },
  {
   "cell_type": "markdown",
   "metadata": {},
   "source": [
    "### Converting the list to a .csv"
   ]
  },
  {
   "cell_type": "code",
   "execution_count": null,
   "metadata": {},
   "outputs": [],
   "source": [
    "df.to_csv('C:\\\\Users\\\\Admin\\\\Desktop\\\\labelled_radical_data_new.csv', index=False)"
   ]
  }
 ],
 "metadata": {
  "kernelspec": {
   "display_name": "Python 3",
   "language": "python",
   "name": "python3"
  },
  "language_info": {
   "codemirror_mode": {
    "name": "ipython",
    "version": 3
   },
   "file_extension": ".py",
   "mimetype": "text/x-python",
   "name": "python",
   "nbconvert_exporter": "python",
   "pygments_lexer": "ipython3",
   "version": "3.11.3"
  }
 },
 "nbformat": 4,
 "nbformat_minor": 2
}
