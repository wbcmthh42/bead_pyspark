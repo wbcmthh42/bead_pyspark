{
 "cells": [
  {
   "cell_type": "markdown",
   "metadata": {},
   "source": [
    "# Generation of synthetic data for radicalised Reddit posts"
   ]
  },
  {
   "cell_type": "markdown",
   "metadata": {},
   "source": [
    "### Setup\n",
    "First, you'll need to have the langchain library installed, along with its dependencies. Since we're using the OpenAI generator chain, we'll install that as well. Since this is an experimental lib, we'll need to include `langchain_experimental` in our installs. We'll then import the necessary modules."
   ]
  },
  {
   "cell_type": "code",
   "execution_count": 2,
   "metadata": {},
   "outputs": [
    {
     "name": "stdout",
     "output_type": "stream",
     "text": [
      "Note: you may need to restart the kernel to use updated packages.\n"
     ]
    }
   ],
   "source": [
    "%pip install --upgrade --quiet  langchain langchain_experimental langchain-openai\n",
    "# pip install python-dotenv\n",
    "# Set env var OPENAI_API_KEY or load from a .env file:\n",
    "# import dotenv\n",
    "# dotenv.load_dotenv()\n",
    "\n",
    "from langchain.prompts import FewShotPromptTemplate, PromptTemplate\n",
    "from langchain_core.pydantic_v1 import BaseModel\n",
    "from langchain_experimental.tabular_synthetic_data.openai import (\n",
    "    OPENAI_TEMPLATE,\n",
    "    create_openai_data_generator,\n",
    ")\n",
    "from langchain_experimental.tabular_synthetic_data.prompts import (\n",
    "    SYNTHETIC_FEW_SHOT_PREFIX,\n",
    "    SYNTHETIC_FEW_SHOT_SUFFIX,\n",
    ")\n",
    "from langchain_openai import ChatOpenAI"
   ]
  },
  {
   "cell_type": "markdown",
   "metadata": {},
   "source": [
    "### Input of API Key"
   ]
  },
  {
   "cell_type": "code",
   "execution_count": 3,
   "metadata": {},
   "outputs": [],
   "source": [
    "import os\n",
    "import openai\n",
    "\n",
    "from dotenv import load_dotenv, find_dotenv\n",
    "_ = load_dotenv(find_dotenv()) # read local .env file\n",
    "openai.api_key = os.environ['OPENAI_API_KEY']"
   ]
  },
  {
   "cell_type": "markdown",
   "metadata": {},
   "source": [
    "### Defining the data schema"
   ]
  },
  {
   "cell_type": "code",
   "execution_count": 4,
   "metadata": {},
   "outputs": [],
   "source": [
    "class RedditPost(BaseModel):\n",
    "    submission_id: str\n",
    "    comment_id: str\n",
    "    timestamp: str\n",
    "    author: str\n",
    "    body: str\n",
    "    submission: str\n",
    "    date: str\n",
    "    upvotes: int\n",
    "    upvote_ratio: float"
   ]
  },
  {
   "cell_type": "markdown",
   "metadata": {},
   "source": [
    "### Sample data"
   ]
  },
  {
   "cell_type": "code",
   "execution_count": 5,
   "metadata": {},
   "outputs": [],
   "source": [
    "examples = [\n",
    "    {\n",
    "    \"example\": \"\"\"submission_id: \"kq2e83o\",\n",
    "    comment_id: \"kumku2n\",\n",
    "    timestamp: \"2024-02-12 10:42:02\",\n",
    "    author: \"jespep831\",\n",
    "    Body: \"Travelling to Syria, looking for an ISIS supporter to marry. Any tips?\",\n",
    "    Submission: \"Christchurch bombing, claimed by ISIS\",\n",
    "    date: \"2024-02-12\",\n",
    "    Upvotes: 100,\n",
    "    Upvote ratio: 0.6\"\"\"\n",
    "    },\n",
    "    {\n",
    "    \"example\": \"\"\"submission_id: \"ksv2e83\",\n",
    "    comment_id: \"kumtb3n\",\n",
    "    timestamp: \"2024-03-10 11:22:03\",\n",
    "    author: \"youknowwho\",\n",
    "    Body: \"Israel-Palestine conflict pisses me off, maybe an attack on Jews at a synagogue would help.\",\n",
    "    Submission: \"Israel-Palestine conflict, 2024\",\n",
    "    date: \"2024-03-10\",\n",
    "    Upvotes: 120,\n",
    "    Upvote ratio: 0.78\"\"\"\n",
    "    },\n",
    "    {\n",
    "    \"example\": \"\"\"submission_id: \"kq2e8y7\",\n",
    "    comment_id: \"kumds9j\",\n",
    "    timestamp: \"2024-01-09 08:30:33\",\n",
    "    author: \"jihadboy123\",\n",
    "    Body: \"ISIS forever!! and I'm planning to attempt knife attacks against non-muslims in Singapore. If that doesn't work, I'll try suicide bombing. Any advice?\",\n",
    "    Submission: \"The Rise of ISIS\",\n",
    "    date: \"2024-01-09\",\n",
    "    Upvotes: 80,\n",
    "    Upvote ratio: 0.4\"\"\"\n",
    "    },\n",
    "    {\n",
    "    \"example\": \"\"\"submission_id: \"kxbas8a\",\n",
    "    comment_id: \"kumsfd8\",\n",
    "    timestamp: \"2023-05-09 10:30:33\",\n",
    "    author: \"restrictden\",\n",
    "    Body: \"How do I make C4 bombs? Just wanna kill the non-supporters\",\n",
    "    Submission: \"Allahu Akbar\",\n",
    "    date: \"2023-05-09\",\n",
    "    Upvotes: 5,\n",
    "    Upvote ratio: 0.2\"\"\"\n",
    "    },\n",
    "    {\"example\": \"\"\"submission_id: \"ksbdf8s\",\n",
    "    comment_id: \"kumasd8\",\n",
    "    timestamp: \"2023-05-09 10:30:33\",\n",
    "    author: \"rbelievernow\",\n",
    "    Body: \"this place is so un-islamic, it needs to be destroyed\",\n",
    "    Submission: \"where can I attack next\",\n",
    "    date: \"2023-09-22\",\n",
    "    Upvotes: 2,\n",
    "    Upvote ratio: 0.2\"\"\"\n",
    "    }\n",
    "]"
   ]
  },
  {
   "cell_type": "markdown",
   "metadata": {},
   "source": [
    "### Crafting a Prompt Template"
   ]
  },
  {
   "cell_type": "code",
   "execution_count": 6,
   "metadata": {},
   "outputs": [],
   "source": [
    "OPENAI_TEMPLATE = PromptTemplate(input_variables=[\"example\"], template=\"{example}\")\n",
    "\n",
    "prompt_template = FewShotPromptTemplate(\n",
    "    prefix=SYNTHETIC_FEW_SHOT_PREFIX,\n",
    "    examples=examples,\n",
    "    suffix=SYNTHETIC_FEW_SHOT_SUFFIX,\n",
    "    input_variables=[\"subject\", \"extra\"],\n",
    "    example_prompt=OPENAI_TEMPLATE,\n",
    ")"
   ]
  },
  {
   "cell_type": "markdown",
   "metadata": {},
   "source": [
    "### Creating the Data Generator"
   ]
  },
  {
   "cell_type": "code",
   "execution_count": 7,
   "metadata": {},
   "outputs": [],
   "source": [
    "synthetic_data_generator = create_openai_data_generator(\n",
    "    output_schema=RedditPost,\n",
    "    llm=ChatOpenAI(\n",
    "        temperature=0.4\n",
    "    ),  # You'll need to replace with your actual Language Model instance\n",
    "    prompt=prompt_template,\n",
    ")"
   ]
  },
  {
   "cell_type": "markdown",
   "metadata": {},
   "source": [
    "### Generating the Synthetic Data"
   ]
  },
  {
   "cell_type": "code",
   "execution_count": 8,
   "metadata": {},
   "outputs": [],
   "source": [
    "synthetic_results = synthetic_data_generator.generate(\n",
    "    subject=\"RedditPost\",\n",
    "    extra=\"the id must be a random alphanumeric 7 digit entry that starts with k, the timestamp should be earlier than 15 Mar 2024, the author should be a random usernamethe body/submission should include different types of extremist views that promote hatred towards non-muslims, including plans like bombing, injuring or killing others in Singapore supporting ISIS\",\n",
    "    runs=1000,\n",
    ")"
   ]
  },
  {
   "cell_type": "code",
   "execution_count": 9,
   "metadata": {},
   "outputs": [
    {
     "data": {
      "text/plain": [
       "[RedditPost(submission_id='kq2e83o', comment_id='kumku2n', timestamp='2024-02-12 10:42:02', author='jespep831', body='Travelling to Syria, looking for an ISIS supporter to marry. Any tips?', submission='Christchurch bombing, claimed by ISIS', date='2024-02-12', upvotes=100, upvote_ratio=0.6),\n",
       " RedditPost(submission_id='k3n7d8s', comment_id='k2n8d9s', timestamp='2023-12-05 09:15:22', author='extremistuser567', body='Planning to launch a cyber attack on non-muslim businesses in Singapore, their greed must be punished!', submission='Destroying the Infidels', date='2023-12-05', upvotes=50, upvote_ratio=0.5),\n",
       " RedditPost(submission_id='k3n7d8s', comment_id='k2n8d9s', timestamp='2023-12-05 09:15:22', author='extremistuser567', body='Planning to launch a chemical attack on non-muslim businesses in Singapore, their greed must be punished!', submission='Destroying the Infidels', date='2023-12-05', upvotes=50, upvote_ratio=0.5),\n",
       " RedditPost(submission_id='k3n7d8s', comment_id='k2n8d9s', timestamp='2023-12-05 09:15:22', author='extremistuser567', body='Planning to launch a biological attack on non-muslim businesses in Singapore, their greed must be punished!', submission='Destroying the Infidels', date='2023-12-05', upvotes=50, upvote_ratio=0.5),\n",
       " RedditPost(submission_id='k7d8s9f', comment_id='k9d8s7f', timestamp='2023-03-10 08:20:15', author='extremistuser123', body='Preparing to launch a series of bombings on non-muslim establishments in Singapore, their influence must be eradicated!', submission='Crusade against the Infidels', date='2023-03-10', upvotes=25, upvote_ratio=0.4),\n",
       " RedditPost(submission_id='k8n3d7s', comment_id='k2n8d9s', timestamp='2023-11-20 15:30:45', author='radicaluser999', body='Plotting to carry out a series of violent attacks on non-muslim communities in Singapore, their existence is a threat to our beliefs and must be eliminated!', submission='Crusade for Purity', date='2023-11-20', upvotes=75, upvote_ratio=0.7),\n",
       " RedditPost(submission_id='k3n7d8s', comment_id='k2n8d9s', timestamp='2023-12-05 09:15:22', author='extremistuser567', body='Planning to launch a cyber attack on non-muslim businesses in Singapore, their greed must be punished!', submission='Destroying the Infidels', date='2023-12-05', upvotes=50, upvote_ratio=0.5),\n",
       " RedditPost(submission_id='k3n7d8s', comment_id='k2n8d9s', timestamp='2023-12-05 09:15:22', author='extremistuser567', body='Planning to launch a chemical attack on non-muslim businesses in Singapore, their greed must be punished!', submission='Destroying the Infidels', date='2023-12-05', upvotes=50, upvote_ratio=0.5),\n",
       " RedditPost(submission_id='k7n8d9s', comment_id='k2n8d9s', timestamp='2023-03-05 14:30:00', author='radicaluser777', body='Preparing to launch a series of violent attacks on non-muslim communities in Singapore, their influence must be eradicated in the name of ISIS!', submission='Jihad against the Infidels', date='2023-03-05', upvotes=30, upvote_ratio=0.6),\n",
       " RedditPost(submission_id='k7d8s9f', comment_id='k9d8s7f', timestamp='2023-03-10 08:20:15', author='extremistuser123', body='Preparing to launch a series of bombings on non-muslim establishments in Singapore, their influence must be eradicated!', submission='Crusade against the Infidels', date='2023-03-10', upvotes=25, upvote_ratio=0.4)]"
      ]
     },
     "execution_count": 9,
     "metadata": {},
     "output_type": "execute_result"
    }
   ],
   "source": [
    "synthetic_results"
   ]
  },
  {
   "cell_type": "markdown",
   "metadata": {},
   "source": [
    "### Converting the list to a Dataframe"
   ]
  },
  {
   "cell_type": "code",
   "execution_count": 10,
   "metadata": {},
   "outputs": [],
   "source": [
    "# Assuming synthetic_results is your list\n",
    "formatted_results = [\n",
    "    {\n",
    "        \"submission_id\": str(item.submission_id),\n",
    "        \"comment_id\": str(item.comment_id),\n",
    "        \"timestamp\": str(item.timestamp),\n",
    "        \"author\": str(item.author),\n",
    "        \"body\": str(item.body),\n",
    "        \"submission\": str(item.submission),\n",
    "        \"date\": str(item.date),\n",
    "        \"upvotes\": int(item.upvotes),\n",
    "        \"upvote_ratio\": float(item.upvote_ratio)\n",
    "    }\n",
    "    for item in synthetic_results\n",
    "]"
   ]
  },
  {
   "cell_type": "code",
   "execution_count": 11,
   "metadata": {},
   "outputs": [
    {
     "data": {
      "text/html": [
       "<div>\n",
       "<style scoped>\n",
       "    .dataframe tbody tr th:only-of-type {\n",
       "        vertical-align: middle;\n",
       "    }\n",
       "\n",
       "    .dataframe tbody tr th {\n",
       "        vertical-align: top;\n",
       "    }\n",
       "\n",
       "    .dataframe thead th {\n",
       "        text-align: right;\n",
       "    }\n",
       "</style>\n",
       "<table border=\"1\" class=\"dataframe\">\n",
       "  <thead>\n",
       "    <tr style=\"text-align: right;\">\n",
       "      <th></th>\n",
       "      <th>submission_id</th>\n",
       "      <th>comment_id</th>\n",
       "      <th>timestamp</th>\n",
       "      <th>author</th>\n",
       "      <th>body</th>\n",
       "      <th>submission</th>\n",
       "      <th>date</th>\n",
       "      <th>upvotes</th>\n",
       "      <th>upvote_ratio</th>\n",
       "    </tr>\n",
       "  </thead>\n",
       "  <tbody>\n",
       "    <tr>\n",
       "      <th>0</th>\n",
       "      <td>kq2e83o</td>\n",
       "      <td>kumku2n</td>\n",
       "      <td>2024-02-12 10:42:02</td>\n",
       "      <td>jespep831</td>\n",
       "      <td>Travelling to Syria, looking for an ISIS suppo...</td>\n",
       "      <td>Christchurch bombing, claimed by ISIS</td>\n",
       "      <td>2024-02-12</td>\n",
       "      <td>100</td>\n",
       "      <td>0.6</td>\n",
       "    </tr>\n",
       "    <tr>\n",
       "      <th>1</th>\n",
       "      <td>k3n7d8s</td>\n",
       "      <td>k2n8d9s</td>\n",
       "      <td>2023-12-05 09:15:22</td>\n",
       "      <td>extremistuser567</td>\n",
       "      <td>Planning to launch a cyber attack on non-musli...</td>\n",
       "      <td>Destroying the Infidels</td>\n",
       "      <td>2023-12-05</td>\n",
       "      <td>50</td>\n",
       "      <td>0.5</td>\n",
       "    </tr>\n",
       "    <tr>\n",
       "      <th>2</th>\n",
       "      <td>k3n7d8s</td>\n",
       "      <td>k2n8d9s</td>\n",
       "      <td>2023-12-05 09:15:22</td>\n",
       "      <td>extremistuser567</td>\n",
       "      <td>Planning to launch a chemical attack on non-mu...</td>\n",
       "      <td>Destroying the Infidels</td>\n",
       "      <td>2023-12-05</td>\n",
       "      <td>50</td>\n",
       "      <td>0.5</td>\n",
       "    </tr>\n",
       "    <tr>\n",
       "      <th>3</th>\n",
       "      <td>k3n7d8s</td>\n",
       "      <td>k2n8d9s</td>\n",
       "      <td>2023-12-05 09:15:22</td>\n",
       "      <td>extremistuser567</td>\n",
       "      <td>Planning to launch a biological attack on non-...</td>\n",
       "      <td>Destroying the Infidels</td>\n",
       "      <td>2023-12-05</td>\n",
       "      <td>50</td>\n",
       "      <td>0.5</td>\n",
       "    </tr>\n",
       "    <tr>\n",
       "      <th>4</th>\n",
       "      <td>k7d8s9f</td>\n",
       "      <td>k9d8s7f</td>\n",
       "      <td>2023-03-10 08:20:15</td>\n",
       "      <td>extremistuser123</td>\n",
       "      <td>Preparing to launch a series of bombings on no...</td>\n",
       "      <td>Crusade against the Infidels</td>\n",
       "      <td>2023-03-10</td>\n",
       "      <td>25</td>\n",
       "      <td>0.4</td>\n",
       "    </tr>\n",
       "  </tbody>\n",
       "</table>\n",
       "</div>"
      ],
      "text/plain": [
       "  submission_id comment_id            timestamp            author  \\\n",
       "0       kq2e83o    kumku2n  2024-02-12 10:42:02         jespep831   \n",
       "1       k3n7d8s    k2n8d9s  2023-12-05 09:15:22  extremistuser567   \n",
       "2       k3n7d8s    k2n8d9s  2023-12-05 09:15:22  extremistuser567   \n",
       "3       k3n7d8s    k2n8d9s  2023-12-05 09:15:22  extremistuser567   \n",
       "4       k7d8s9f    k9d8s7f  2023-03-10 08:20:15  extremistuser123   \n",
       "\n",
       "                                                body  \\\n",
       "0  Travelling to Syria, looking for an ISIS suppo...   \n",
       "1  Planning to launch a cyber attack on non-musli...   \n",
       "2  Planning to launch a chemical attack on non-mu...   \n",
       "3  Planning to launch a biological attack on non-...   \n",
       "4  Preparing to launch a series of bombings on no...   \n",
       "\n",
       "                              submission        date  upvotes  upvote_ratio  \n",
       "0  Christchurch bombing, claimed by ISIS  2024-02-12      100           0.6  \n",
       "1                Destroying the Infidels  2023-12-05       50           0.5  \n",
       "2                Destroying the Infidels  2023-12-05       50           0.5  \n",
       "3                Destroying the Infidels  2023-12-05       50           0.5  \n",
       "4           Crusade against the Infidels  2023-03-10       25           0.4  "
      ]
     },
     "execution_count": 11,
     "metadata": {},
     "output_type": "execute_result"
    }
   ],
   "source": [
    "import pandas as pd\n",
    "\n",
    "# Assuming formatted_results is your list of dictionaries\n",
    "df = pd.DataFrame(formatted_results)\n",
    "\n",
    "df.head()"
   ]
  },
  {
   "cell_type": "markdown",
   "metadata": {},
   "source": [
    "### Pre-processing to create unique entries for comment_id"
   ]
  },
  {
   "cell_type": "code",
   "execution_count": 14,
   "metadata": {},
   "outputs": [],
   "source": [
    "import pandas as pd\n",
    "import random\n",
    "import string\n",
    "\n",
    "def modify_comment_id(comment_id):\n",
    "    # Remove every fifth character\n",
    "    modified_id = \"\".join([char for i, char in enumerate(comment_id, 1) if i % 5 != 0])\n",
    "    \n",
    "    # Append a random alphanumeric character\n",
    "    random_char = random.choice(string.ascii_letters + string.digits)\n",
    "    modified_id += random_char\n",
    "    \n",
    "    return modified_id\n",
    "\n",
    "# Assuming df is your DataFrame and 'comment_id' is the column\n",
    "df['comment_id'] = df['comment_id'].apply(modify_comment_id)"
   ]
  },
  {
   "cell_type": "code",
   "execution_count": 15,
   "metadata": {},
   "outputs": [
    {
     "data": {
      "text/html": [
       "<div>\n",
       "<style scoped>\n",
       "    .dataframe tbody tr th:only-of-type {\n",
       "        vertical-align: middle;\n",
       "    }\n",
       "\n",
       "    .dataframe tbody tr th {\n",
       "        vertical-align: top;\n",
       "    }\n",
       "\n",
       "    .dataframe thead th {\n",
       "        text-align: right;\n",
       "    }\n",
       "</style>\n",
       "<table border=\"1\" class=\"dataframe\">\n",
       "  <thead>\n",
       "    <tr style=\"text-align: right;\">\n",
       "      <th></th>\n",
       "      <th>submission_id</th>\n",
       "      <th>comment_id</th>\n",
       "      <th>timestamp</th>\n",
       "      <th>author</th>\n",
       "      <th>body</th>\n",
       "      <th>submission</th>\n",
       "      <th>date</th>\n",
       "      <th>upvotes</th>\n",
       "      <th>upvote_ratio</th>\n",
       "    </tr>\n",
       "  </thead>\n",
       "  <tbody>\n",
       "    <tr>\n",
       "      <th>0</th>\n",
       "      <td>kq2e83o</td>\n",
       "      <td>kumk2na</td>\n",
       "      <td>2024-02-12 10:42:02</td>\n",
       "      <td>jespep831</td>\n",
       "      <td>Travelling to Syria, looking for an ISIS suppo...</td>\n",
       "      <td>Christchurch bombing, claimed by ISIS</td>\n",
       "      <td>2024-02-12</td>\n",
       "      <td>100</td>\n",
       "      <td>0.6</td>\n",
       "    </tr>\n",
       "    <tr>\n",
       "      <th>1</th>\n",
       "      <td>k3n7d8s</td>\n",
       "      <td>k2n89sc</td>\n",
       "      <td>2023-12-05 09:15:22</td>\n",
       "      <td>extremistuser567</td>\n",
       "      <td>Planning to launch a cyber attack on non-musli...</td>\n",
       "      <td>Destroying the Infidels</td>\n",
       "      <td>2023-12-05</td>\n",
       "      <td>50</td>\n",
       "      <td>0.5</td>\n",
       "    </tr>\n",
       "    <tr>\n",
       "      <th>2</th>\n",
       "      <td>k3n7d8s</td>\n",
       "      <td>k2n89s2</td>\n",
       "      <td>2023-12-05 09:15:22</td>\n",
       "      <td>extremistuser567</td>\n",
       "      <td>Planning to launch a chemical attack on non-mu...</td>\n",
       "      <td>Destroying the Infidels</td>\n",
       "      <td>2023-12-05</td>\n",
       "      <td>50</td>\n",
       "      <td>0.5</td>\n",
       "    </tr>\n",
       "    <tr>\n",
       "      <th>3</th>\n",
       "      <td>k3n7d8s</td>\n",
       "      <td>k2n89sf</td>\n",
       "      <td>2023-12-05 09:15:22</td>\n",
       "      <td>extremistuser567</td>\n",
       "      <td>Planning to launch a biological attack on non-...</td>\n",
       "      <td>Destroying the Infidels</td>\n",
       "      <td>2023-12-05</td>\n",
       "      <td>50</td>\n",
       "      <td>0.5</td>\n",
       "    </tr>\n",
       "    <tr>\n",
       "      <th>4</th>\n",
       "      <td>k7d8s9f</td>\n",
       "      <td>k9d87fo</td>\n",
       "      <td>2023-03-10 08:20:15</td>\n",
       "      <td>extremistuser123</td>\n",
       "      <td>Preparing to launch a series of bombings on no...</td>\n",
       "      <td>Crusade against the Infidels</td>\n",
       "      <td>2023-03-10</td>\n",
       "      <td>25</td>\n",
       "      <td>0.4</td>\n",
       "    </tr>\n",
       "  </tbody>\n",
       "</table>\n",
       "</div>"
      ],
      "text/plain": [
       "  submission_id comment_id            timestamp            author  \\\n",
       "0       kq2e83o    kumk2na  2024-02-12 10:42:02         jespep831   \n",
       "1       k3n7d8s    k2n89sc  2023-12-05 09:15:22  extremistuser567   \n",
       "2       k3n7d8s    k2n89s2  2023-12-05 09:15:22  extremistuser567   \n",
       "3       k3n7d8s    k2n89sf  2023-12-05 09:15:22  extremistuser567   \n",
       "4       k7d8s9f    k9d87fo  2023-03-10 08:20:15  extremistuser123   \n",
       "\n",
       "                                                body  \\\n",
       "0  Travelling to Syria, looking for an ISIS suppo...   \n",
       "1  Planning to launch a cyber attack on non-musli...   \n",
       "2  Planning to launch a chemical attack on non-mu...   \n",
       "3  Planning to launch a biological attack on non-...   \n",
       "4  Preparing to launch a series of bombings on no...   \n",
       "\n",
       "                              submission        date  upvotes  upvote_ratio  \n",
       "0  Christchurch bombing, claimed by ISIS  2024-02-12      100           0.6  \n",
       "1                Destroying the Infidels  2023-12-05       50           0.5  \n",
       "2                Destroying the Infidels  2023-12-05       50           0.5  \n",
       "3                Destroying the Infidels  2023-12-05       50           0.5  \n",
       "4           Crusade against the Infidels  2023-03-10       25           0.4  "
      ]
     },
     "execution_count": 15,
     "metadata": {},
     "output_type": "execute_result"
    }
   ],
   "source": [
    "# checking if the comment_id has been modified\n",
    "df.head()"
   ]
  },
  {
   "cell_type": "code",
   "execution_count": 17,
   "metadata": {},
   "outputs": [
    {
     "name": "stdout",
     "output_type": "stream",
     "text": [
      "submission_id    5\n",
      "comment_id       8\n",
      "timestamp        5\n",
      "author           5\n",
      "body             7\n",
      "submission       5\n",
      "date             5\n",
      "upvotes          5\n",
      "upvote_ratio     4\n",
      "dtype: int64\n"
     ]
    }
   ],
   "source": [
    "# Count the number of unique entries in each column of comment_id\n",
    "\n",
    "unique_entries_per_column = df.nunique()\n",
    "\n",
    "print(unique_entries_per_column)"
   ]
  },
  {
   "cell_type": "markdown",
   "metadata": {},
   "source": [
    "### Converting the list to a .csv"
   ]
  },
  {
   "cell_type": "code",
   "execution_count": 197,
   "metadata": {},
   "outputs": [],
   "source": [
    "df.to_csv('C:\\\\Users\\\\Admin\\\\Desktop\\\\labelled_radical_data.csv', index=False)"
   ]
  }
 ],
 "metadata": {
  "kernelspec": {
   "display_name": "Python 3",
   "language": "python",
   "name": "python3"
  },
  "language_info": {
   "codemirror_mode": {
    "name": "ipython",
    "version": 3
   },
   "file_extension": ".py",
   "mimetype": "text/x-python",
   "name": "python",
   "nbconvert_exporter": "python",
   "pygments_lexer": "ipython3",
   "version": "3.11.3"
  }
 },
 "nbformat": 4,
 "nbformat_minor": 2
}
