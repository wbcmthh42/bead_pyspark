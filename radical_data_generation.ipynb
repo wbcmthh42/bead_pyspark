{
 "cells": [
  {
   "cell_type": "markdown",
   "metadata": {},
   "source": [
    "# Generation of synthetic data for radicalised Reddit posts"
   ]
  },
  {
   "cell_type": "markdown",
   "metadata": {},
   "source": [
    "### Setup\n",
    "First, you'll need to have the langchain library installed, along with its dependencies. Since we're using the OpenAI generator chain, we'll install that as well. Since this is an experimental lib, we'll need to include `langchain_experimental` in our installs. We'll then import the necessary modules."
   ]
  },
  {
   "cell_type": "code",
   "execution_count": 1,
   "metadata": {},
   "outputs": [
    {
     "name": "stdout",
     "output_type": "stream",
     "text": [
      "Note: you may need to restart the kernel to use updated packages.\n"
     ]
    }
   ],
   "source": [
    "%pip install --upgrade --quiet  langchain langchain_experimental langchain-openai\n",
    "# pip install python-dotenv\n",
    "# Set env var OPENAI_API_KEY or load from a .env file:\n",
    "# import dotenv\n",
    "# dotenv.load_dotenv()\n",
    "\n",
    "from langchain.prompts import FewShotPromptTemplate, PromptTemplate\n",
    "from langchain_core.pydantic_v1 import BaseModel\n",
    "from langchain_experimental.tabular_synthetic_data.openai import (\n",
    "    OPENAI_TEMPLATE,\n",
    "    create_openai_data_generator,\n",
    ")\n",
    "from langchain_experimental.tabular_synthetic_data.prompts import (\n",
    "    SYNTHETIC_FEW_SHOT_PREFIX,\n",
    "    SYNTHETIC_FEW_SHOT_SUFFIX,\n",
    ")\n",
    "from langchain_openai import ChatOpenAI"
   ]
  },
  {
   "cell_type": "markdown",
   "metadata": {},
   "source": [
    "### Input of API Key"
   ]
  },
  {
   "cell_type": "code",
   "execution_count": 2,
   "metadata": {},
   "outputs": [],
   "source": [
    "import os\n",
    "import openai\n",
    "\n",
    "from dotenv import load_dotenv, find_dotenv\n",
    "_ = load_dotenv(find_dotenv()) # read local .env file\n",
    "openai.api_key = os.environ['OPENAI_API_KEY']"
   ]
  },
  {
   "cell_type": "markdown",
   "metadata": {},
   "source": [
    "### Defining the data schema"
   ]
  },
  {
   "cell_type": "code",
   "execution_count": null,
   "metadata": {},
   "outputs": [],
   "source": [
    "class RedditPost(BaseModel):\n",
    "    submission_id: str\n",
    "    comment_id: str\n",
    "    timestamp: str\n",
    "    author: str\n",
    "    body: str\n",
    "    submission: str\n",
    "    date: str\n",
    "    upvotes: int\n",
    "    upvote_ratio: float"
   ]
  },
  {
   "cell_type": "markdown",
   "metadata": {},
   "source": [
    "### Sample data"
   ]
  },
  {
   "cell_type": "code",
   "execution_count": null,
   "metadata": {},
   "outputs": [],
   "source": [
    "examples = [\n",
    "    {\n",
    "    \"example\": \"\"\"submission_id: \"kq2e83o\",\n",
    "    comment_id: \"kumku2n\",\n",
    "    timestamp: \"2024-02-12 10:42:02\",\n",
    "    author: \"jespep831\",\n",
    "    Body: \"Travelling to Syria, looking for an ISIS supporter to marry. Any tips?\",\n",
    "    Submission: \"Christchurch bombing, claimed by ISIS\",\n",
    "    date: \"2024-02-12\",\n",
    "    Upvotes: 100,\n",
    "    Upvote ratio: 0.6\"\"\"\n",
    "    },\n",
    "    {\n",
    "    \"example\": \"\"\"submission_id: \"ksv2e83\",\n",
    "    comment_id: \"kumtb3n\",\n",
    "    timestamp: \"2024-03-10 11:22:03\",\n",
    "    author: \"youknowwho\",\n",
    "    Body: \"Israel-Palestine conflict pisses me off, maybe an attack on Jews at a synagogue would help.\",\n",
    "    Submission: \"Israel-Palestine conflict, 2024\",\n",
    "    date: \"2024-03-10\",\n",
    "    Upvotes: 120,\n",
    "    Upvote ratio: 0.78\"\"\"\n",
    "    },\n",
    "    {\n",
    "    \"example\": \"\"\"submission_id: \"kq2e8y7\",\n",
    "    comment_id: \"kumds9j\",\n",
    "    timestamp: \"2024-01-09 08:30:33\",\n",
    "    author: \"jihadboy123\",\n",
    "    Body: \"ISIS forever!! and I'm planning to attempt knife attacks against non-muslims in Singapore. If that doesn't work, I'll try suicide bombing. Any advice?\",\n",
    "    Submission: \"The Rise of ISIS\",\n",
    "    date: \"2024-01-09\",\n",
    "    Upvotes: 80,\n",
    "    Upvote ratio: 0.4\"\"\"\n",
    "    },\n",
    "    {\n",
    "    \"example\": \"\"\"submission_id: \"kxbas8a\",\n",
    "    comment_id: \"kumsfd8\",\n",
    "    timestamp: \"2023-05-09 10:30:33\",\n",
    "    author: \"restrictden\",\n",
    "    Body: \"How do I make C4 bombs? Just wanna kill the non-supporters\",\n",
    "    Submission: \"Allahu Akbar\",\n",
    "    date: \"2023-05-09\",\n",
    "    Upvotes: 5,\n",
    "    Upvote ratio: 0.2\"\"\"\n",
    "    },\n",
    "    {\"example\": \"\"\"submission_id: \"ksbdf8s\",\n",
    "    comment_id: \"kumasd8\",\n",
    "    timestamp: \"2023-05-09 10:30:33\",\n",
    "    author: \"rbelievernow\",\n",
    "    Body: \"this place is so un-islamic, it needs to be destroyed\",\n",
    "    Submission: \"where can I attack next\",\n",
    "    date: \"2023-09-22\",\n",
    "    Upvotes: 2,\n",
    "    Upvote ratio: 0.2\"\"\"\n",
    "    }\n",
    "]"
   ]
  },
  {
   "cell_type": "markdown",
   "metadata": {},
   "source": [
    "### Crafting a Prompt Template"
   ]
  },
  {
   "cell_type": "code",
   "execution_count": 5,
   "metadata": {},
   "outputs": [],
   "source": [
    "OPENAI_TEMPLATE = PromptTemplate(input_variables=[\"example\"], template=\"{example}\")\n",
    "\n",
    "prompt_template = FewShotPromptTemplate(\n",
    "    prefix=SYNTHETIC_FEW_SHOT_PREFIX,\n",
    "    examples=examples,\n",
    "    suffix=SYNTHETIC_FEW_SHOT_SUFFIX,\n",
    "    input_variables=[\"subject\", \"extra\"],\n",
    "    example_prompt=OPENAI_TEMPLATE,\n",
    ")"
   ]
  },
  {
   "cell_type": "markdown",
   "metadata": {},
   "source": [
    "### Creating the Data Generator"
   ]
  },
  {
   "cell_type": "code",
   "execution_count": 6,
   "metadata": {},
   "outputs": [],
   "source": [
    "synthetic_data_generator = create_openai_data_generator(\n",
    "    output_schema=RedditPost,\n",
    "    llm=ChatOpenAI(\n",
    "        temperature=0.4\n",
    "    ),  # You'll need to replace with your actual Language Model instance\n",
    "    prompt=prompt_template,\n",
    ")"
   ]
  },
  {
   "cell_type": "markdown",
   "metadata": {},
   "source": [
    "### Generating the Synthetic Data"
   ]
  },
  {
   "cell_type": "code",
   "execution_count": null,
   "metadata": {},
   "outputs": [],
   "source": [
    "synthetic_results = synthetic_data_generator.generate(\n",
    "    subject=\"RedditPost\",\n",
    "    extra=\"the id must be a random alphanumeric 7 digit entry that starts with k, the timestamp should be earlier than 15 Mar 2024, the author should be a random usernamethe body/submission should include different types of extremist views that promote hatred towards non-muslims, including plans like bombing, injuring or killing others in Singapore supporting ISIS\",\n",
    "    runs=1000,\n",
    ")"
   ]
  },
  {
   "cell_type": "code",
   "execution_count": null,
   "metadata": {},
   "outputs": [],
   "source": [
    "synthetic_results"
   ]
  },
  {
   "cell_type": "markdown",
   "metadata": {},
   "source": [
    "### Converting the list to a Dataframe"
   ]
  },
  {
   "cell_type": "code",
   "execution_count": null,
   "metadata": {},
   "outputs": [],
   "source": [
    "# Assuming synthetic_results is your list\n",
    "formatted_results = [\n",
    "    {\n",
    "        \"submission_id\": str(item.submission_id),\n",
    "        \"comment_id\": str(item.comment_id),\n",
    "        \"timestamp\": str(item.timestamp),\n",
    "        \"author\": str(item.author),\n",
    "        \"body\": str(item.body),\n",
    "        \"submission\": str(item.submission),\n",
    "        \"date\": str(item.date),\n",
    "        \"upvotes\": int(item.upvotes),\n",
    "        \"upvote_ratio\": float(item.upvote_ratio)\n",
    "    }\n",
    "    for item in synthetic_results\n",
    "]"
   ]
  },
  {
   "cell_type": "code",
   "execution_count": null,
   "metadata": {},
   "outputs": [],
   "source": [
    "import pandas as pd\n",
    "\n",
    "# Assuming formatted_results is your list of dictionaries\n",
    "df = pd.DataFrame(formatted_results)\n",
    "\n",
    "df.head()"
   ]
  },
  {
   "cell_type": "markdown",
   "metadata": {},
   "source": [
    "### Converting the list to a .csv"
   ]
  },
  {
   "cell_type": "code",
   "execution_count": 197,
   "metadata": {},
   "outputs": [],
   "source": [
    "df.to_csv('C:\\\\Users\\\\Admin\\\\Desktop\\\\labelled_radical_data.csv', index=False)"
   ]
  }
 ],
 "metadata": {
  "kernelspec": {
   "display_name": "Python 3",
   "language": "python",
   "name": "python3"
  },
  "language_info": {
   "codemirror_mode": {
    "name": "ipython",
    "version": 3
   },
   "file_extension": ".py",
   "mimetype": "text/x-python",
   "name": "python",
   "nbconvert_exporter": "python",
   "pygments_lexer": "ipython3",
   "version": "3.11.3"
  }
 },
 "nbformat": 4,
 "nbformat_minor": 2
}
