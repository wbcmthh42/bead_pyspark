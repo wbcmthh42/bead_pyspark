{
  "cells": [
    {
      "cell_type": "raw",
      "id": "1302a608-4b4d-46bf-bd0c-b4f13eff2e5e",
      "metadata": {
        "id": "1302a608-4b4d-46bf-bd0c-b4f13eff2e5e"
      },
      "source": [
        "---\n",
        "title: Synthetic data generation\n",
        "---"
      ]
    },
    {
      "cell_type": "markdown",
      "id": "aa3571cc",
      "metadata": {
        "id": "aa3571cc"
      },
      "source": [
        "[![Open In Colab](https://colab.research.google.com/assets/colab-badge.svg)](https://colab.research.google.com/github/langchain-ai/langchain/blob/master/docs/docs/use_cases/data_generation.ipynb)\n",
        "\n",
        "## Use case\n",
        "\n",
        "Synthetic data is artificially generated data, rather than data collected from real-world events. It's used to simulate real data without compromising privacy or encountering real-world limitations.\n",
        "\n",
        "Benefits of Synthetic Data:\n",
        "\n",
        "1. **Privacy and Security**: No real personal data at risk of breaches.\n",
        "2. **Data Augmentation**: Expands datasets for machine learning.\n",
        "3. **Flexibility**: Create specific or rare scenarios.\n",
        "4. **Cost-effective**: Often cheaper than real-world data collection.\n",
        "5. **Regulatory Compliance**: Helps navigate strict data protection laws.\n",
        "6. **Model Robustness**: Can lead to better generalizing AI models.\n",
        "7. **Rapid Prototyping**: Enables quick testing without real data.\n",
        "8. **Controlled Experimentation**: Simulate specific conditions.\n",
        "9. **Access to Data**: Alternative when real data isn't available.\n",
        "\n",
        "Note: Despite the benefits, synthetic data should be used carefully, as it may not always capture real-world complexities.\n",
        "\n",
        "## Quickstart\n",
        "\n",
        "In this notebook, we'll dive deep into generating synthetic medical billing records using the langchain library. This tool is particularly useful when you want to develop or test algorithms but don't want to use real patient data due to privacy concerns or data availability issues."
      ]
    },
    {
      "cell_type": "markdown",
      "id": "bca57012",
      "metadata": {
        "id": "bca57012"
      },
      "source": [
        "### Setup\n",
        "First, you'll need to have the langchain library installed, along with its dependencies. Since we're using the OpenAI generator chain, we'll install that as well. Since this is an experimental lib, we'll need to include `langchain_experimental` in our installs. We'll then import the necessary modules."
      ]
    },
    {
      "cell_type": "code",
      "execution_count": 2,
      "id": "a0377478",
      "metadata": {
        "id": "a0377478",
        "colab": {
          "base_uri": "https://localhost:8080/"
        },
        "outputId": "0e5c1d68-ace6-4ab1-8233-42478dde093f"
      },
      "outputs": [
        {
          "output_type": "stream",
          "name": "stdout",
          "text": [
            "\u001b[?25l     \u001b[90m━━━━━━━━━━━━━━━━━━━━━━━━━━━━━━━━━━━━━━━━\u001b[0m \u001b[32m0.0/809.1 kB\u001b[0m \u001b[31m?\u001b[0m eta \u001b[36m-:--:--\u001b[0m\r\u001b[2K     \u001b[91m━━━━━━\u001b[0m\u001b[90m╺\u001b[0m\u001b[90m━━━━━━━━━━━━━━━━━━━━━━━━━━━━━━━━━\u001b[0m \u001b[32m122.9/809.1 kB\u001b[0m \u001b[31m3.5 MB/s\u001b[0m eta \u001b[36m0:00:01\u001b[0m\r\u001b[2K     \u001b[91m━━━━━━━━━━━━━━━━━━━━━━\u001b[0m\u001b[91m╸\u001b[0m\u001b[90m━━━━━━━━━━━━━━━━━\u001b[0m \u001b[32m460.8/809.1 kB\u001b[0m \u001b[31m6.7 MB/s\u001b[0m eta \u001b[36m0:00:01\u001b[0m\r\u001b[2K     \u001b[91m━━━━━━━━━━━━━━━━━━━━━━━━━━━━━━━━━━━━━━━\u001b[0m\u001b[91m╸\u001b[0m \u001b[32m809.0/809.1 kB\u001b[0m \u001b[31m8.0 MB/s\u001b[0m eta \u001b[36m0:00:01\u001b[0m\r\u001b[2K     \u001b[90m━━━━━━━━━━━━━━━━━━━━━━━━━━━━━━━━━━━━━━━━\u001b[0m \u001b[32m809.1/809.1 kB\u001b[0m \u001b[31m7.3 MB/s\u001b[0m eta \u001b[36m0:00:00\u001b[0m\n",
            "\u001b[2K     \u001b[90m━━━━━━━━━━━━━━━━━━━━━━━━━━━━━━━━━━━━━━━━\u001b[0m \u001b[32m177.6/177.6 kB\u001b[0m \u001b[31m7.4 MB/s\u001b[0m eta \u001b[36m0:00:00\u001b[0m\n",
            "\u001b[2K     \u001b[90m━━━━━━━━━━━━━━━━━━━━━━━━━━━━━━━━━━━━━━━━\u001b[0m \u001b[32m1.8/1.8 MB\u001b[0m \u001b[31m12.9 MB/s\u001b[0m eta \u001b[36m0:00:00\u001b[0m\n",
            "\u001b[2K     \u001b[90m━━━━━━━━━━━━━━━━━━━━━━━━━━━━━━━━━━━━━━━━\u001b[0m \u001b[32m258.8/258.8 kB\u001b[0m \u001b[31m14.7 MB/s\u001b[0m eta \u001b[36m0:00:00\u001b[0m\n",
            "\u001b[2K     \u001b[90m━━━━━━━━━━━━━━━━━━━━━━━━━━━━━━━━━━━━━━━━\u001b[0m \u001b[32m66.9/66.9 kB\u001b[0m \u001b[31m8.2 MB/s\u001b[0m eta \u001b[36m0:00:00\u001b[0m\n",
            "\u001b[2K     \u001b[90m━━━━━━━━━━━━━━━━━━━━━━━━━━━━━━━━━━━━━━━━\u001b[0m \u001b[32m227.4/227.4 kB\u001b[0m \u001b[31m17.3 MB/s\u001b[0m eta \u001b[36m0:00:00\u001b[0m\n",
            "\u001b[2K     \u001b[90m━━━━━━━━━━━━━━━━━━━━━━━━━━━━━━━━━━━━━━━━\u001b[0m \u001b[32m1.8/1.8 MB\u001b[0m \u001b[31m21.4 MB/s\u001b[0m eta \u001b[36m0:00:00\u001b[0m\n",
            "\u001b[2K     \u001b[90m━━━━━━━━━━━━━━━━━━━━━━━━━━━━━━━━━━━━━━━━\u001b[0m \u001b[32m49.4/49.4 kB\u001b[0m \u001b[31m5.5 MB/s\u001b[0m eta \u001b[36m0:00:00\u001b[0m\n",
            "\u001b[2K     \u001b[90m━━━━━━━━━━━━━━━━━━━━━━━━━━━━━━━━━━━━━━━━\u001b[0m \u001b[32m138.5/138.5 kB\u001b[0m \u001b[31m16.2 MB/s\u001b[0m eta \u001b[36m0:00:00\u001b[0m\n",
            "\u001b[2K     \u001b[90m━━━━━━━━━━━━━━━━━━━━━━━━━━━━━━━━━━━━━━━━\u001b[0m \u001b[32m75.6/75.6 kB\u001b[0m \u001b[31m9.8 MB/s\u001b[0m eta \u001b[36m0:00:00\u001b[0m\n",
            "\u001b[2K     \u001b[90m━━━━━━━━━━━━━━━━━━━━━━━━━━━━━━━━━━━━━━━━\u001b[0m \u001b[32m77.8/77.8 kB\u001b[0m \u001b[31m10.5 MB/s\u001b[0m eta \u001b[36m0:00:00\u001b[0m\n",
            "\u001b[2K     \u001b[90m━━━━━━━━━━━━━━━━━━━━━━━━━━━━━━━━━━━━━━━━\u001b[0m \u001b[32m58.3/58.3 kB\u001b[0m \u001b[31m7.2 MB/s\u001b[0m eta \u001b[36m0:00:00\u001b[0m\n",
            "\u001b[?25h"
          ]
        }
      ],
      "source": [
        "%pip install --upgrade --quiet  langchain langchain_experimental langchain-openai\n",
        "# pip install python-dotenv\n",
        "# Set env var OPENAI_API_KEY or load from a .env file:\n",
        "# import dotenv\n",
        "# dotenv.load_dotenv()\n",
        "\n",
        "from langchain.prompts import FewShotPromptTemplate, PromptTemplate\n",
        "from langchain_core.pydantic_v1 import BaseModel\n",
        "from langchain_experimental.tabular_synthetic_data.openai import (\n",
        "    OPENAI_TEMPLATE,\n",
        "    create_openai_data_generator,\n",
        ")\n",
        "from langchain_experimental.tabular_synthetic_data.prompts import (\n",
        "    SYNTHETIC_FEW_SHOT_PREFIX,\n",
        "    SYNTHETIC_FEW_SHOT_SUFFIX,\n",
        ")\n",
        "from langchain_openai import ChatOpenAI"
      ]
    },
    {
      "cell_type": "code",
      "source": [
        "!pip install langchain openai tiktoken transformers accelerate cohere --quiet"
      ],
      "metadata": {
        "colab": {
          "base_uri": "https://localhost:8080/"
        },
        "id": "f0hMkKj01q5n",
        "outputId": "88c37f3e-e94c-4a8f-f358-b9883ea718f4"
      },
      "id": "f0hMkKj01q5n",
      "execution_count": 3,
      "outputs": [
        {
          "output_type": "stream",
          "name": "stdout",
          "text": [
            "\u001b[2K     \u001b[90m━━━━━━━━━━━━━━━━━━━━━━━━━━━━━━━━━━━━━━━━\u001b[0m \u001b[32m290.1/290.1 kB\u001b[0m \u001b[31m4.9 MB/s\u001b[0m eta \u001b[36m0:00:00\u001b[0m\n",
            "\u001b[2K     \u001b[90m━━━━━━━━━━━━━━━━━━━━━━━━━━━━━━━━━━━━━━━━\u001b[0m \u001b[32m52.8/52.8 kB\u001b[0m \u001b[31m6.7 MB/s\u001b[0m eta \u001b[36m0:00:00\u001b[0m\n",
            "\u001b[2K     \u001b[90m━━━━━━━━━━━━━━━━━━━━━━━━━━━━━━━━━━━━━━━━\u001b[0m \u001b[32m3.1/3.1 MB\u001b[0m \u001b[31m35.3 MB/s\u001b[0m eta \u001b[36m0:00:00\u001b[0m\n",
            "\u001b[?25h"
          ]
        }
      ]
    },
    {
      "cell_type": "code",
      "source": [
        "# To use OpenAI API\n",
        "import os\n",
        "from google.colab import userdata\n",
        "os.environ['OPENAI_API_KEY'] = userdata.get('OPENAI_API_KEY')"
      ],
      "metadata": {
        "id": "DdfxVFyFx2ET"
      },
      "id": "DdfxVFyFx2ET",
      "execution_count": 5,
      "outputs": []
    },
    {
      "cell_type": "code",
      "source": [
        "# # To use HuggingFace LLMs\n",
        "# import os\n",
        "# from google.colab import userdata\n",
        "# from langchain_community.llms import HuggingFaceHub\n",
        "\n",
        "# os.environ[\"HUGGINGFACEHUB_API_TOKEN\"] = userdata.get('Hugging_face')"
      ],
      "metadata": {
        "id": "zj0MxNXG0ztS"
      },
      "id": "zj0MxNXG0ztS",
      "execution_count": null,
      "outputs": []
    },
    {
      "cell_type": "markdown",
      "source": [
        "# Test 1"
      ],
      "metadata": {
        "id": "Fhpy8U7v10EY"
      },
      "id": "Fhpy8U7v10EY"
    },
    {
      "cell_type": "code",
      "source": [
        "# customer_email = \"\"\"\n",
        "# I hope this email finds you amidst an aura of understanding, despite the tangled mess of emotions swirling within me as I write to you. I am writing to pour my heart out about the recent unfortunate experience I had with one of your coffee machines that arrived ominously broken, evoking a profound sense of disbelief and despair.\n",
        "\n",
        "# To set the scene, let me paint you a picture of the moment I anxiously unwrapped the box containing my highly anticipated coffee machine. The blatant excitement coursing through my veins could rival the vigorous flow of coffee through its finest espresso artistry. However, what I discovered within broke not only my spirit but also any semblance of confidence I had placed in your esteemed brand.\n",
        "\n",
        "# Imagine, if you can, the utter shock and disbelief that took hold of me as I laid eyes on a disheveled and mangled coffee machine. Its once elegant exterior was marred by the scars of travel, resembling a war-torn soldier who had fought valiantly on the fields of some espresso battlefield. This heartbreaking display of negligence shattered my dreams of indulging in daily coffee perfection, leaving me emotionally distraught and inconsolable\n",
        "# \"\"\"  # created by GPT-3.5\n",
        "\n",
        "# from langchain import HuggingFaceHub\n",
        "\n",
        "# summarizer = HuggingFaceHub(\n",
        "#     repo_id=\"facebook/bart-large-cnn\",\n",
        "#     model_kwargs={\"temperature\":0, \"max_length\":180}\n",
        "# )\n",
        "# def summarize(llm, text) -> str:\n",
        "#     return llm(f\"Summarize this: {text}!\")\n",
        "\n",
        "# summarize(summarizer, customer_email)"
      ],
      "metadata": {
        "colab": {
          "base_uri": "https://localhost:8080/",
          "height": 463
        },
        "id": "hoFYqmeh113A",
        "outputId": "a631ef02-7662-4845-f82d-5a267f359d59"
      },
      "id": "hoFYqmeh113A",
      "execution_count": 6,
      "outputs": [
        {
          "output_type": "stream",
          "name": "stderr",
          "text": [
            "/usr/local/lib/python3.10/dist-packages/langchain_core/_api/deprecation.py:117: LangChainDeprecationWarning: The class `langchain_community.llms.huggingface_hub.HuggingFaceHub` was deprecated in langchain-community 0.0.21 and will be removed in 0.2.0. Use HuggingFaceEndpoint instead.\n",
            "  warn_deprecated(\n"
          ]
        },
        {
          "output_type": "error",
          "ename": "ValidationError",
          "evalue": "1 validation error for HuggingFaceHub\n__root__\n  Did not find huggingfacehub_api_token, please add an environment variable `HUGGINGFACEHUB_API_TOKEN` which contains it, or pass `huggingfacehub_api_token` as a named parameter. (type=value_error)",
          "traceback": [
            "\u001b[0;31m---------------------------------------------------------------------------\u001b[0m",
            "\u001b[0;31mValidationError\u001b[0m                           Traceback (most recent call last)",
            "\u001b[0;32m<ipython-input-6-d40696df2f50>\u001b[0m in \u001b[0;36m<cell line: 11>\u001b[0;34m()\u001b[0m\n\u001b[1;32m      9\u001b[0m \u001b[0;32mfrom\u001b[0m \u001b[0mlangchain\u001b[0m \u001b[0;32mimport\u001b[0m \u001b[0mHuggingFaceHub\u001b[0m\u001b[0;34m\u001b[0m\u001b[0;34m\u001b[0m\u001b[0m\n\u001b[1;32m     10\u001b[0m \u001b[0;34m\u001b[0m\u001b[0m\n\u001b[0;32m---> 11\u001b[0;31m summarizer = HuggingFaceHub(\n\u001b[0m\u001b[1;32m     12\u001b[0m     \u001b[0mrepo_id\u001b[0m\u001b[0;34m=\u001b[0m\u001b[0;34m\"facebook/bart-large-cnn\"\u001b[0m\u001b[0;34m,\u001b[0m\u001b[0;34m\u001b[0m\u001b[0;34m\u001b[0m\u001b[0m\n\u001b[1;32m     13\u001b[0m     \u001b[0mmodel_kwargs\u001b[0m\u001b[0;34m=\u001b[0m\u001b[0;34m{\u001b[0m\u001b[0;34m\"temperature\"\u001b[0m\u001b[0;34m:\u001b[0m\u001b[0;36m0\u001b[0m\u001b[0;34m,\u001b[0m \u001b[0;34m\"max_length\"\u001b[0m\u001b[0;34m:\u001b[0m\u001b[0;36m180\u001b[0m\u001b[0;34m}\u001b[0m\u001b[0;34m\u001b[0m\u001b[0;34m\u001b[0m\u001b[0m\n",
            "\u001b[0;32m/usr/local/lib/python3.10/dist-packages/langchain_core/_api/deprecation.py\u001b[0m in \u001b[0;36mwarn_if_direct_instance\u001b[0;34m(self, *args, **kwargs)\u001b[0m\n\u001b[1;32m    178\u001b[0m                         \u001b[0mwarned\u001b[0m \u001b[0;34m=\u001b[0m \u001b[0;32mTrue\u001b[0m\u001b[0;34m\u001b[0m\u001b[0;34m\u001b[0m\u001b[0m\n\u001b[1;32m    179\u001b[0m                         \u001b[0memit_warning\u001b[0m\u001b[0;34m(\u001b[0m\u001b[0;34m)\u001b[0m\u001b[0;34m\u001b[0m\u001b[0;34m\u001b[0m\u001b[0m\n\u001b[0;32m--> 180\u001b[0;31m                     \u001b[0;32mreturn\u001b[0m \u001b[0mwrapped\u001b[0m\u001b[0;34m(\u001b[0m\u001b[0mself\u001b[0m\u001b[0;34m,\u001b[0m \u001b[0;34m*\u001b[0m\u001b[0margs\u001b[0m\u001b[0;34m,\u001b[0m \u001b[0;34m**\u001b[0m\u001b[0mkwargs\u001b[0m\u001b[0;34m)\u001b[0m\u001b[0;34m\u001b[0m\u001b[0;34m\u001b[0m\u001b[0m\n\u001b[0m\u001b[1;32m    181\u001b[0m \u001b[0;34m\u001b[0m\u001b[0m\n\u001b[1;32m    182\u001b[0m                 obj.__init__ = functools.wraps(obj.__init__)(  # type: ignore[misc]\n",
            "\u001b[0;32m/usr/local/lib/python3.10/dist-packages/langchain_core/load/serializable.py\u001b[0m in \u001b[0;36m__init__\u001b[0;34m(self, **kwargs)\u001b[0m\n\u001b[1;32m    118\u001b[0m \u001b[0;34m\u001b[0m\u001b[0m\n\u001b[1;32m    119\u001b[0m     \u001b[0;32mdef\u001b[0m \u001b[0m__init__\u001b[0m\u001b[0;34m(\u001b[0m\u001b[0mself\u001b[0m\u001b[0;34m,\u001b[0m \u001b[0;34m**\u001b[0m\u001b[0mkwargs\u001b[0m\u001b[0;34m:\u001b[0m \u001b[0mAny\u001b[0m\u001b[0;34m)\u001b[0m \u001b[0;34m->\u001b[0m \u001b[0;32mNone\u001b[0m\u001b[0;34m:\u001b[0m\u001b[0;34m\u001b[0m\u001b[0;34m\u001b[0m\u001b[0m\n\u001b[0;32m--> 120\u001b[0;31m         \u001b[0msuper\u001b[0m\u001b[0;34m(\u001b[0m\u001b[0;34m)\u001b[0m\u001b[0;34m.\u001b[0m\u001b[0m__init__\u001b[0m\u001b[0;34m(\u001b[0m\u001b[0;34m**\u001b[0m\u001b[0mkwargs\u001b[0m\u001b[0;34m)\u001b[0m\u001b[0;34m\u001b[0m\u001b[0;34m\u001b[0m\u001b[0m\n\u001b[0m\u001b[1;32m    121\u001b[0m         \u001b[0mself\u001b[0m\u001b[0;34m.\u001b[0m\u001b[0m_lc_kwargs\u001b[0m \u001b[0;34m=\u001b[0m \u001b[0mkwargs\u001b[0m\u001b[0;34m\u001b[0m\u001b[0;34m\u001b[0m\u001b[0m\n\u001b[1;32m    122\u001b[0m \u001b[0;34m\u001b[0m\u001b[0m\n",
            "\u001b[0;32m/usr/local/lib/python3.10/dist-packages/pydantic/v1/main.py\u001b[0m in \u001b[0;36m__init__\u001b[0;34m(__pydantic_self__, **data)\u001b[0m\n\u001b[1;32m    339\u001b[0m         \u001b[0mvalues\u001b[0m\u001b[0;34m,\u001b[0m \u001b[0mfields_set\u001b[0m\u001b[0;34m,\u001b[0m \u001b[0mvalidation_error\u001b[0m \u001b[0;34m=\u001b[0m \u001b[0mvalidate_model\u001b[0m\u001b[0;34m(\u001b[0m\u001b[0m__pydantic_self__\u001b[0m\u001b[0;34m.\u001b[0m\u001b[0m__class__\u001b[0m\u001b[0;34m,\u001b[0m \u001b[0mdata\u001b[0m\u001b[0;34m)\u001b[0m\u001b[0;34m\u001b[0m\u001b[0;34m\u001b[0m\u001b[0m\n\u001b[1;32m    340\u001b[0m         \u001b[0;32mif\u001b[0m \u001b[0mvalidation_error\u001b[0m\u001b[0;34m:\u001b[0m\u001b[0;34m\u001b[0m\u001b[0;34m\u001b[0m\u001b[0m\n\u001b[0;32m--> 341\u001b[0;31m             \u001b[0;32mraise\u001b[0m \u001b[0mvalidation_error\u001b[0m\u001b[0;34m\u001b[0m\u001b[0;34m\u001b[0m\u001b[0m\n\u001b[0m\u001b[1;32m    342\u001b[0m         \u001b[0;32mtry\u001b[0m\u001b[0;34m:\u001b[0m\u001b[0;34m\u001b[0m\u001b[0;34m\u001b[0m\u001b[0m\n\u001b[1;32m    343\u001b[0m             \u001b[0mobject_setattr\u001b[0m\u001b[0;34m(\u001b[0m\u001b[0m__pydantic_self__\u001b[0m\u001b[0;34m,\u001b[0m \u001b[0;34m'__dict__'\u001b[0m\u001b[0;34m,\u001b[0m \u001b[0mvalues\u001b[0m\u001b[0;34m)\u001b[0m\u001b[0;34m\u001b[0m\u001b[0;34m\u001b[0m\u001b[0m\n",
            "\u001b[0;31mValidationError\u001b[0m: 1 validation error for HuggingFaceHub\n__root__\n  Did not find huggingfacehub_api_token, please add an environment variable `HUGGINGFACEHUB_API_TOKEN` which contains it, or pass `huggingfacehub_api_token` as a named parameter. (type=value_error)"
          ]
        }
      ]
    },
    {
      "cell_type": "markdown",
      "source": [
        "# Test 2"
      ],
      "metadata": {
        "id": "UDxMaXZc2M8R"
      },
      "id": "UDxMaXZc2M8R"
    },
    {
      "cell_type": "code",
      "source": [
        "# from langchain.llms import VertexAI\n",
        "# from langchain import PromptTemplate, LLMChain\n",
        "\n",
        "# template = \"\"\"Given this text, decide what is the issue the customer is concerned about. Valid categories are these:\n",
        "# * product issues\n",
        "# * delivery problems\n",
        "# * missing or late orders\n",
        "# * wrong product\n",
        "# * cancellation request\n",
        "# * refund or exchange\n",
        "# * bad support experience\n",
        "# * no clear reason to be upset\n",
        "\n",
        "# Text: {email}\n",
        "# Category:\n",
        "# \"\"\"\n",
        "# prompt = PromptTemplate(template=template, input_variables=[\"email\"])\n",
        "# llm = VertexAI()\n",
        "# llm_chain = LLMChain(prompt=prompt, llm=llm, verbose=True)\n",
        "# print(llm_chain.run(customer_email))"
      ],
      "metadata": {
        "colab": {
          "base_uri": "https://localhost:8080/",
          "height": 532
        },
        "id": "fxULbcvy2RYg",
        "outputId": "0dd8736a-ad80-4f24-9e7a-9dfc07614bf1"
      },
      "id": "fxULbcvy2RYg",
      "execution_count": null,
      "outputs": [
        {
          "output_type": "stream",
          "name": "stderr",
          "text": [
            "/usr/local/lib/python3.10/dist-packages/langchain_core/_api/deprecation.py:117: LangChainDeprecationWarning: The class `langchain_community.llms.vertexai.VertexAI` was deprecated in langchain-community 0.0.12 and will be removed in 0.2.0. An updated version of the class exists in the langchain-google-vertexai package and should be used instead. To use it run `pip install -U langchain-google-vertexai` and import as `from langchain_google_vertexai import VertexAI`.\n",
            "  warn_deprecated(\n"
          ]
        },
        {
          "output_type": "error",
          "ename": "ValidationError",
          "evalue": "1 validation error for VertexAI\n__root__\n  Unable to find your project. Please provide a project ID by:\n- Passing a constructor argument\n- Using vertexai.init()\n- Setting project using 'gcloud config set project my-project'\n- Setting a GCP environment variable\n- To create a Google Cloud project, please follow guidance at https://developers.google.com/workspace/guides/create-project (type=value_error)",
          "traceback": [
            "\u001b[0;31m---------------------------------------------------------------------------\u001b[0m",
            "\u001b[0;31mValidationError\u001b[0m                           Traceback (most recent call last)",
            "\u001b[0;32m<ipython-input-21-0034051c771a>\u001b[0m in \u001b[0;36m<cell line: 18>\u001b[0;34m()\u001b[0m\n\u001b[1;32m     16\u001b[0m \"\"\"\n\u001b[1;32m     17\u001b[0m \u001b[0mprompt\u001b[0m \u001b[0;34m=\u001b[0m \u001b[0mPromptTemplate\u001b[0m\u001b[0;34m(\u001b[0m\u001b[0mtemplate\u001b[0m\u001b[0;34m=\u001b[0m\u001b[0mtemplate\u001b[0m\u001b[0;34m,\u001b[0m \u001b[0minput_variables\u001b[0m\u001b[0;34m=\u001b[0m\u001b[0;34m[\u001b[0m\u001b[0;34m\"email\"\u001b[0m\u001b[0;34m]\u001b[0m\u001b[0;34m)\u001b[0m\u001b[0;34m\u001b[0m\u001b[0;34m\u001b[0m\u001b[0m\n\u001b[0;32m---> 18\u001b[0;31m \u001b[0mllm\u001b[0m \u001b[0;34m=\u001b[0m \u001b[0mVertexAI\u001b[0m\u001b[0;34m(\u001b[0m\u001b[0;34m)\u001b[0m\u001b[0;34m\u001b[0m\u001b[0;34m\u001b[0m\u001b[0m\n\u001b[0m\u001b[1;32m     19\u001b[0m \u001b[0mllm_chain\u001b[0m \u001b[0;34m=\u001b[0m \u001b[0mLLMChain\u001b[0m\u001b[0;34m(\u001b[0m\u001b[0mprompt\u001b[0m\u001b[0;34m=\u001b[0m\u001b[0mprompt\u001b[0m\u001b[0;34m,\u001b[0m \u001b[0mllm\u001b[0m\u001b[0;34m=\u001b[0m\u001b[0mllm\u001b[0m\u001b[0;34m,\u001b[0m \u001b[0mverbose\u001b[0m\u001b[0;34m=\u001b[0m\u001b[0;32mTrue\u001b[0m\u001b[0;34m)\u001b[0m\u001b[0;34m\u001b[0m\u001b[0;34m\u001b[0m\u001b[0m\n\u001b[1;32m     20\u001b[0m \u001b[0mprint\u001b[0m\u001b[0;34m(\u001b[0m\u001b[0mllm_chain\u001b[0m\u001b[0;34m.\u001b[0m\u001b[0mrun\u001b[0m\u001b[0;34m(\u001b[0m\u001b[0mcustomer_email\u001b[0m\u001b[0;34m)\u001b[0m\u001b[0;34m)\u001b[0m\u001b[0;34m\u001b[0m\u001b[0;34m\u001b[0m\u001b[0m\n",
            "\u001b[0;32m/usr/local/lib/python3.10/dist-packages/langchain_core/_api/deprecation.py\u001b[0m in \u001b[0;36mwarn_if_direct_instance\u001b[0;34m(self, *args, **kwargs)\u001b[0m\n\u001b[1;32m    178\u001b[0m                         \u001b[0mwarned\u001b[0m \u001b[0;34m=\u001b[0m \u001b[0;32mTrue\u001b[0m\u001b[0;34m\u001b[0m\u001b[0;34m\u001b[0m\u001b[0m\n\u001b[1;32m    179\u001b[0m                         \u001b[0memit_warning\u001b[0m\u001b[0;34m(\u001b[0m\u001b[0;34m)\u001b[0m\u001b[0;34m\u001b[0m\u001b[0;34m\u001b[0m\u001b[0m\n\u001b[0;32m--> 180\u001b[0;31m                     \u001b[0;32mreturn\u001b[0m \u001b[0mwrapped\u001b[0m\u001b[0;34m(\u001b[0m\u001b[0mself\u001b[0m\u001b[0;34m,\u001b[0m \u001b[0;34m*\u001b[0m\u001b[0margs\u001b[0m\u001b[0;34m,\u001b[0m \u001b[0;34m**\u001b[0m\u001b[0mkwargs\u001b[0m\u001b[0;34m)\u001b[0m\u001b[0;34m\u001b[0m\u001b[0;34m\u001b[0m\u001b[0m\n\u001b[0m\u001b[1;32m    181\u001b[0m \u001b[0;34m\u001b[0m\u001b[0m\n\u001b[1;32m    182\u001b[0m                 obj.__init__ = functools.wraps(obj.__init__)(  # type: ignore[misc]\n",
            "\u001b[0;32m/usr/local/lib/python3.10/dist-packages/langchain_core/load/serializable.py\u001b[0m in \u001b[0;36m__init__\u001b[0;34m(self, **kwargs)\u001b[0m\n\u001b[1;32m    118\u001b[0m \u001b[0;34m\u001b[0m\u001b[0m\n\u001b[1;32m    119\u001b[0m     \u001b[0;32mdef\u001b[0m \u001b[0m__init__\u001b[0m\u001b[0;34m(\u001b[0m\u001b[0mself\u001b[0m\u001b[0;34m,\u001b[0m \u001b[0;34m**\u001b[0m\u001b[0mkwargs\u001b[0m\u001b[0;34m:\u001b[0m \u001b[0mAny\u001b[0m\u001b[0;34m)\u001b[0m \u001b[0;34m->\u001b[0m \u001b[0;32mNone\u001b[0m\u001b[0;34m:\u001b[0m\u001b[0;34m\u001b[0m\u001b[0;34m\u001b[0m\u001b[0m\n\u001b[0;32m--> 120\u001b[0;31m         \u001b[0msuper\u001b[0m\u001b[0;34m(\u001b[0m\u001b[0;34m)\u001b[0m\u001b[0;34m.\u001b[0m\u001b[0m__init__\u001b[0m\u001b[0;34m(\u001b[0m\u001b[0;34m**\u001b[0m\u001b[0mkwargs\u001b[0m\u001b[0;34m)\u001b[0m\u001b[0;34m\u001b[0m\u001b[0;34m\u001b[0m\u001b[0m\n\u001b[0m\u001b[1;32m    121\u001b[0m         \u001b[0mself\u001b[0m\u001b[0;34m.\u001b[0m\u001b[0m_lc_kwargs\u001b[0m \u001b[0;34m=\u001b[0m \u001b[0mkwargs\u001b[0m\u001b[0;34m\u001b[0m\u001b[0;34m\u001b[0m\u001b[0m\n\u001b[1;32m    122\u001b[0m \u001b[0;34m\u001b[0m\u001b[0m\n",
            "\u001b[0;32m/usr/local/lib/python3.10/dist-packages/pydantic/v1/main.py\u001b[0m in \u001b[0;36m__init__\u001b[0;34m(__pydantic_self__, **data)\u001b[0m\n\u001b[1;32m    339\u001b[0m         \u001b[0mvalues\u001b[0m\u001b[0;34m,\u001b[0m \u001b[0mfields_set\u001b[0m\u001b[0;34m,\u001b[0m \u001b[0mvalidation_error\u001b[0m \u001b[0;34m=\u001b[0m \u001b[0mvalidate_model\u001b[0m\u001b[0;34m(\u001b[0m\u001b[0m__pydantic_self__\u001b[0m\u001b[0;34m.\u001b[0m\u001b[0m__class__\u001b[0m\u001b[0;34m,\u001b[0m \u001b[0mdata\u001b[0m\u001b[0;34m)\u001b[0m\u001b[0;34m\u001b[0m\u001b[0;34m\u001b[0m\u001b[0m\n\u001b[1;32m    340\u001b[0m         \u001b[0;32mif\u001b[0m \u001b[0mvalidation_error\u001b[0m\u001b[0;34m:\u001b[0m\u001b[0;34m\u001b[0m\u001b[0;34m\u001b[0m\u001b[0m\n\u001b[0;32m--> 341\u001b[0;31m             \u001b[0;32mraise\u001b[0m \u001b[0mvalidation_error\u001b[0m\u001b[0;34m\u001b[0m\u001b[0;34m\u001b[0m\u001b[0m\n\u001b[0m\u001b[1;32m    342\u001b[0m         \u001b[0;32mtry\u001b[0m\u001b[0;34m:\u001b[0m\u001b[0;34m\u001b[0m\u001b[0;34m\u001b[0m\u001b[0m\n\u001b[1;32m    343\u001b[0m             \u001b[0mobject_setattr\u001b[0m\u001b[0;34m(\u001b[0m\u001b[0m__pydantic_self__\u001b[0m\u001b[0;34m,\u001b[0m \u001b[0;34m'__dict__'\u001b[0m\u001b[0;34m,\u001b[0m \u001b[0mvalues\u001b[0m\u001b[0;34m)\u001b[0m\u001b[0;34m\u001b[0m\u001b[0;34m\u001b[0m\u001b[0m\n",
            "\u001b[0;31mValidationError\u001b[0m: 1 validation error for VertexAI\n__root__\n  Unable to find your project. Please provide a project ID by:\n- Passing a constructor argument\n- Using vertexai.init()\n- Setting project using 'gcloud config set project my-project'\n- Setting a GCP environment variable\n- To create a Google Cloud project, please follow guidance at https://developers.google.com/workspace/guides/create-project (type=value_error)"
          ]
        }
      ]
    },
    {
      "cell_type": "markdown",
      "id": "a5a0917b",
      "metadata": {
        "id": "a5a0917b"
      },
      "source": [
        "# 1. Define Your Data Model\n",
        "Every dataset has a structure or a \"schema\". The MedicalBilling class below serves as our schema for the synthetic data. By defining this, we're informing our synthetic data generator about the shape and nature of data we expect."
      ]
    },
    {
      "cell_type": "code",
      "source": [
        "import pandas as pd\n",
        "df = pd.read_excel(\"/content/rSingapore_sample_1100comment_with_submission.xlsx\")\n",
        "df.head()"
      ],
      "metadata": {
        "colab": {
          "base_uri": "https://localhost:8080/",
          "height": 206
        },
        "id": "U3rUEy1NClLu",
        "outputId": "02c92e39-7fb0-4633-8406-4286e68e32e0"
      },
      "id": "U3rUEy1NClLu",
      "execution_count": 16,
      "outputs": [
        {
          "output_type": "execute_result",
          "data": {
            "text/plain": [
              "        id                   dt  \\\n",
              "0  kq2e83o  2024-02-12 10:42:02   \n",
              "1  kq2e83o  2024-02-12 10:42:02   \n",
              "2  kq2e8y7  2024-02-12 10:42:20   \n",
              "3  kq2e8zs  2024-02-12 10:42:21   \n",
              "4  kq2e9m6  2024-02-12 10:42:35   \n",
              "\n",
              "                                          submission  upvotes  upvote_ratio  \\\n",
              "0  Medicine in Malaysia a cost saving for some Si...      162          0.87   \n",
              "1  Medicine in Malaysia a cost saving for some Si...      162          0.87   \n",
              "2  'Disgusting and unhygienic': Punggol resident ...       31          0.83   \n",
              "3  Commentary: Low interest rates of ‘money lock’...       30          0.90   \n",
              "4  Last kampung house in Geylang for sale at $9.2...       86          0.94   \n",
              "\n",
              "                 author                                               body  \n",
              "0             jespep831  Brunei is like Jurassic park…unlikely it’s safe 🤣  \n",
              "1             jespep831  Brunei is like Jurassic park…unlikely it’s safe 🤣  \n",
              "2         TheLastHarlow  😭 it doesn’t help that I have a neighbour on a...  \n",
              "3  Budget-Juggernaut-68     It's a tax for anyhow downloading random apks.  \n",
              "4               0bxcura  The government \"acquired it\" more like..but at...  "
            ],
            "text/html": [
              "\n",
              "  <div id=\"df-e2ab0b0c-8318-4a10-a4b5-87869f6218b8\" class=\"colab-df-container\">\n",
              "    <div>\n",
              "<style scoped>\n",
              "    .dataframe tbody tr th:only-of-type {\n",
              "        vertical-align: middle;\n",
              "    }\n",
              "\n",
              "    .dataframe tbody tr th {\n",
              "        vertical-align: top;\n",
              "    }\n",
              "\n",
              "    .dataframe thead th {\n",
              "        text-align: right;\n",
              "    }\n",
              "</style>\n",
              "<table border=\"1\" class=\"dataframe\">\n",
              "  <thead>\n",
              "    <tr style=\"text-align: right;\">\n",
              "      <th></th>\n",
              "      <th>id</th>\n",
              "      <th>dt</th>\n",
              "      <th>submission</th>\n",
              "      <th>upvotes</th>\n",
              "      <th>upvote_ratio</th>\n",
              "      <th>author</th>\n",
              "      <th>body</th>\n",
              "    </tr>\n",
              "  </thead>\n",
              "  <tbody>\n",
              "    <tr>\n",
              "      <th>0</th>\n",
              "      <td>kq2e83o</td>\n",
              "      <td>2024-02-12 10:42:02</td>\n",
              "      <td>Medicine in Malaysia a cost saving for some Si...</td>\n",
              "      <td>162</td>\n",
              "      <td>0.87</td>\n",
              "      <td>jespep831</td>\n",
              "      <td>Brunei is like Jurassic park…unlikely it’s safe 🤣</td>\n",
              "    </tr>\n",
              "    <tr>\n",
              "      <th>1</th>\n",
              "      <td>kq2e83o</td>\n",
              "      <td>2024-02-12 10:42:02</td>\n",
              "      <td>Medicine in Malaysia a cost saving for some Si...</td>\n",
              "      <td>162</td>\n",
              "      <td>0.87</td>\n",
              "      <td>jespep831</td>\n",
              "      <td>Brunei is like Jurassic park…unlikely it’s safe 🤣</td>\n",
              "    </tr>\n",
              "    <tr>\n",
              "      <th>2</th>\n",
              "      <td>kq2e8y7</td>\n",
              "      <td>2024-02-12 10:42:20</td>\n",
              "      <td>'Disgusting and unhygienic': Punggol resident ...</td>\n",
              "      <td>31</td>\n",
              "      <td>0.83</td>\n",
              "      <td>TheLastHarlow</td>\n",
              "      <td>😭 it doesn’t help that I have a neighbour on a...</td>\n",
              "    </tr>\n",
              "    <tr>\n",
              "      <th>3</th>\n",
              "      <td>kq2e8zs</td>\n",
              "      <td>2024-02-12 10:42:21</td>\n",
              "      <td>Commentary: Low interest rates of ‘money lock’...</td>\n",
              "      <td>30</td>\n",
              "      <td>0.90</td>\n",
              "      <td>Budget-Juggernaut-68</td>\n",
              "      <td>It's a tax for anyhow downloading random apks.</td>\n",
              "    </tr>\n",
              "    <tr>\n",
              "      <th>4</th>\n",
              "      <td>kq2e9m6</td>\n",
              "      <td>2024-02-12 10:42:35</td>\n",
              "      <td>Last kampung house in Geylang for sale at $9.2...</td>\n",
              "      <td>86</td>\n",
              "      <td>0.94</td>\n",
              "      <td>0bxcura</td>\n",
              "      <td>The government \"acquired it\" more like..but at...</td>\n",
              "    </tr>\n",
              "  </tbody>\n",
              "</table>\n",
              "</div>\n",
              "    <div class=\"colab-df-buttons\">\n",
              "\n",
              "  <div class=\"colab-df-container\">\n",
              "    <button class=\"colab-df-convert\" onclick=\"convertToInteractive('df-e2ab0b0c-8318-4a10-a4b5-87869f6218b8')\"\n",
              "            title=\"Convert this dataframe to an interactive table.\"\n",
              "            style=\"display:none;\">\n",
              "\n",
              "  <svg xmlns=\"http://www.w3.org/2000/svg\" height=\"24px\" viewBox=\"0 -960 960 960\">\n",
              "    <path d=\"M120-120v-720h720v720H120Zm60-500h600v-160H180v160Zm220 220h160v-160H400v160Zm0 220h160v-160H400v160ZM180-400h160v-160H180v160Zm440 0h160v-160H620v160ZM180-180h160v-160H180v160Zm440 0h160v-160H620v160Z\"/>\n",
              "  </svg>\n",
              "    </button>\n",
              "\n",
              "  <style>\n",
              "    .colab-df-container {\n",
              "      display:flex;\n",
              "      gap: 12px;\n",
              "    }\n",
              "\n",
              "    .colab-df-convert {\n",
              "      background-color: #E8F0FE;\n",
              "      border: none;\n",
              "      border-radius: 50%;\n",
              "      cursor: pointer;\n",
              "      display: none;\n",
              "      fill: #1967D2;\n",
              "      height: 32px;\n",
              "      padding: 0 0 0 0;\n",
              "      width: 32px;\n",
              "    }\n",
              "\n",
              "    .colab-df-convert:hover {\n",
              "      background-color: #E2EBFA;\n",
              "      box-shadow: 0px 1px 2px rgba(60, 64, 67, 0.3), 0px 1px 3px 1px rgba(60, 64, 67, 0.15);\n",
              "      fill: #174EA6;\n",
              "    }\n",
              "\n",
              "    .colab-df-buttons div {\n",
              "      margin-bottom: 4px;\n",
              "    }\n",
              "\n",
              "    [theme=dark] .colab-df-convert {\n",
              "      background-color: #3B4455;\n",
              "      fill: #D2E3FC;\n",
              "    }\n",
              "\n",
              "    [theme=dark] .colab-df-convert:hover {\n",
              "      background-color: #434B5C;\n",
              "      box-shadow: 0px 1px 3px 1px rgba(0, 0, 0, 0.15);\n",
              "      filter: drop-shadow(0px 1px 2px rgba(0, 0, 0, 0.3));\n",
              "      fill: #FFFFFF;\n",
              "    }\n",
              "  </style>\n",
              "\n",
              "    <script>\n",
              "      const buttonEl =\n",
              "        document.querySelector('#df-e2ab0b0c-8318-4a10-a4b5-87869f6218b8 button.colab-df-convert');\n",
              "      buttonEl.style.display =\n",
              "        google.colab.kernel.accessAllowed ? 'block' : 'none';\n",
              "\n",
              "      async function convertToInteractive(key) {\n",
              "        const element = document.querySelector('#df-e2ab0b0c-8318-4a10-a4b5-87869f6218b8');\n",
              "        const dataTable =\n",
              "          await google.colab.kernel.invokeFunction('convertToInteractive',\n",
              "                                                    [key], {});\n",
              "        if (!dataTable) return;\n",
              "\n",
              "        const docLinkHtml = 'Like what you see? Visit the ' +\n",
              "          '<a target=\"_blank\" href=https://colab.research.google.com/notebooks/data_table.ipynb>data table notebook</a>'\n",
              "          + ' to learn more about interactive tables.';\n",
              "        element.innerHTML = '';\n",
              "        dataTable['output_type'] = 'display_data';\n",
              "        await google.colab.output.renderOutput(dataTable, element);\n",
              "        const docLink = document.createElement('div');\n",
              "        docLink.innerHTML = docLinkHtml;\n",
              "        element.appendChild(docLink);\n",
              "      }\n",
              "    </script>\n",
              "  </div>\n",
              "\n",
              "\n",
              "<div id=\"df-ad604f9e-8df4-4391-9786-66bc2d5d46dc\">\n",
              "  <button class=\"colab-df-quickchart\" onclick=\"quickchart('df-ad604f9e-8df4-4391-9786-66bc2d5d46dc')\"\n",
              "            title=\"Suggest charts\"\n",
              "            style=\"display:none;\">\n",
              "\n",
              "<svg xmlns=\"http://www.w3.org/2000/svg\" height=\"24px\"viewBox=\"0 0 24 24\"\n",
              "     width=\"24px\">\n",
              "    <g>\n",
              "        <path d=\"M19 3H5c-1.1 0-2 .9-2 2v14c0 1.1.9 2 2 2h14c1.1 0 2-.9 2-2V5c0-1.1-.9-2-2-2zM9 17H7v-7h2v7zm4 0h-2V7h2v10zm4 0h-2v-4h2v4z\"/>\n",
              "    </g>\n",
              "</svg>\n",
              "  </button>\n",
              "\n",
              "<style>\n",
              "  .colab-df-quickchart {\n",
              "      --bg-color: #E8F0FE;\n",
              "      --fill-color: #1967D2;\n",
              "      --hover-bg-color: #E2EBFA;\n",
              "      --hover-fill-color: #174EA6;\n",
              "      --disabled-fill-color: #AAA;\n",
              "      --disabled-bg-color: #DDD;\n",
              "  }\n",
              "\n",
              "  [theme=dark] .colab-df-quickchart {\n",
              "      --bg-color: #3B4455;\n",
              "      --fill-color: #D2E3FC;\n",
              "      --hover-bg-color: #434B5C;\n",
              "      --hover-fill-color: #FFFFFF;\n",
              "      --disabled-bg-color: #3B4455;\n",
              "      --disabled-fill-color: #666;\n",
              "  }\n",
              "\n",
              "  .colab-df-quickchart {\n",
              "    background-color: var(--bg-color);\n",
              "    border: none;\n",
              "    border-radius: 50%;\n",
              "    cursor: pointer;\n",
              "    display: none;\n",
              "    fill: var(--fill-color);\n",
              "    height: 32px;\n",
              "    padding: 0;\n",
              "    width: 32px;\n",
              "  }\n",
              "\n",
              "  .colab-df-quickchart:hover {\n",
              "    background-color: var(--hover-bg-color);\n",
              "    box-shadow: 0 1px 2px rgba(60, 64, 67, 0.3), 0 1px 3px 1px rgba(60, 64, 67, 0.15);\n",
              "    fill: var(--button-hover-fill-color);\n",
              "  }\n",
              "\n",
              "  .colab-df-quickchart-complete:disabled,\n",
              "  .colab-df-quickchart-complete:disabled:hover {\n",
              "    background-color: var(--disabled-bg-color);\n",
              "    fill: var(--disabled-fill-color);\n",
              "    box-shadow: none;\n",
              "  }\n",
              "\n",
              "  .colab-df-spinner {\n",
              "    border: 2px solid var(--fill-color);\n",
              "    border-color: transparent;\n",
              "    border-bottom-color: var(--fill-color);\n",
              "    animation:\n",
              "      spin 1s steps(1) infinite;\n",
              "  }\n",
              "\n",
              "  @keyframes spin {\n",
              "    0% {\n",
              "      border-color: transparent;\n",
              "      border-bottom-color: var(--fill-color);\n",
              "      border-left-color: var(--fill-color);\n",
              "    }\n",
              "    20% {\n",
              "      border-color: transparent;\n",
              "      border-left-color: var(--fill-color);\n",
              "      border-top-color: var(--fill-color);\n",
              "    }\n",
              "    30% {\n",
              "      border-color: transparent;\n",
              "      border-left-color: var(--fill-color);\n",
              "      border-top-color: var(--fill-color);\n",
              "      border-right-color: var(--fill-color);\n",
              "    }\n",
              "    40% {\n",
              "      border-color: transparent;\n",
              "      border-right-color: var(--fill-color);\n",
              "      border-top-color: var(--fill-color);\n",
              "    }\n",
              "    60% {\n",
              "      border-color: transparent;\n",
              "      border-right-color: var(--fill-color);\n",
              "    }\n",
              "    80% {\n",
              "      border-color: transparent;\n",
              "      border-right-color: var(--fill-color);\n",
              "      border-bottom-color: var(--fill-color);\n",
              "    }\n",
              "    90% {\n",
              "      border-color: transparent;\n",
              "      border-bottom-color: var(--fill-color);\n",
              "    }\n",
              "  }\n",
              "</style>\n",
              "\n",
              "  <script>\n",
              "    async function quickchart(key) {\n",
              "      const quickchartButtonEl =\n",
              "        document.querySelector('#' + key + ' button');\n",
              "      quickchartButtonEl.disabled = true;  // To prevent multiple clicks.\n",
              "      quickchartButtonEl.classList.add('colab-df-spinner');\n",
              "      try {\n",
              "        const charts = await google.colab.kernel.invokeFunction(\n",
              "            'suggestCharts', [key], {});\n",
              "      } catch (error) {\n",
              "        console.error('Error during call to suggestCharts:', error);\n",
              "      }\n",
              "      quickchartButtonEl.classList.remove('colab-df-spinner');\n",
              "      quickchartButtonEl.classList.add('colab-df-quickchart-complete');\n",
              "    }\n",
              "    (() => {\n",
              "      let quickchartButtonEl =\n",
              "        document.querySelector('#df-ad604f9e-8df4-4391-9786-66bc2d5d46dc button');\n",
              "      quickchartButtonEl.style.display =\n",
              "        google.colab.kernel.accessAllowed ? 'block' : 'none';\n",
              "    })();\n",
              "  </script>\n",
              "</div>\n",
              "\n",
              "    </div>\n",
              "  </div>\n"
            ],
            "application/vnd.google.colaboratory.intrinsic+json": {
              "type": "dataframe",
              "variable_name": "df",
              "summary": "{\n  \"name\": \"df\",\n  \"rows\": 1110,\n  \"fields\": [\n    {\n      \"column\": \"id\",\n      \"properties\": {\n        \"dtype\": \"string\",\n        \"num_unique_values\": 1104,\n        \"samples\": [\n          \"kq36eaz\",\n          \"kqcjfdo\",\n          \"kq8fg7z\"\n        ],\n        \"semantic_type\": \"\",\n        \"description\": \"\"\n      }\n    },\n    {\n      \"column\": \"dt\",\n      \"properties\": {\n        \"dtype\": \"object\",\n        \"num_unique_values\": 1090,\n        \"samples\": [\n          \"2024-02-14 04:17:43\",\n          \"2024-02-14 04:58:58\",\n          \"2024-02-14 05:45:27\"\n        ],\n        \"semantic_type\": \"\",\n        \"description\": \"\"\n      }\n    },\n    {\n      \"column\": \"submission\",\n      \"properties\": {\n        \"dtype\": \"category\",\n        \"num_unique_values\": 78,\n        \"samples\": [\n          \"Internet speed result: SG slightly beats India\",\n          \"Medicine in Malaysia a cost saving for some Singaporeans. Are they trading safety for price?\",\n          \"Jurong Town residents call for pedestrian crossing at Yuan Ching Road after girl, 12, dies in accident\"\n        ],\n        \"semantic_type\": \"\",\n        \"description\": \"\"\n      }\n    },\n    {\n      \"column\": \"upvotes\",\n      \"properties\": {\n        \"dtype\": \"number\",\n        \"std\": 116,\n        \"min\": 0,\n        \"max\": 1061,\n        \"num_unique_values\": 261,\n        \"samples\": [\n          36,\n          197,\n          265\n        ],\n        \"semantic_type\": \"\",\n        \"description\": \"\"\n      }\n    },\n    {\n      \"column\": \"upvote_ratio\",\n      \"properties\": {\n        \"dtype\": \"number\",\n        \"std\": 0.11329060404443056,\n        \"min\": 0.24,\n        \"max\": 1.0,\n        \"num_unique_values\": 52,\n        \"samples\": [\n          0.67,\n          0.24,\n          0.49\n        ],\n        \"semantic_type\": \"\",\n        \"description\": \"\"\n      }\n    },\n    {\n      \"column\": \"author\",\n      \"properties\": {\n        \"dtype\": \"string\",\n        \"num_unique_values\": 590,\n        \"samples\": [\n          \"lwlam\",\n          \"matthew2070\",\n          \"singapore-ModTeam\"\n        ],\n        \"semantic_type\": \"\",\n        \"description\": \"\"\n      }\n    },\n    {\n      \"column\": \"body\",\n      \"properties\": {\n        \"dtype\": \"string\",\n        \"num_unique_values\": 1101,\n        \"samples\": [\n          \"r/iamthemaincharacter\\n\\nThis data already exists, and it already works. Why it doesn't work on this day is coz of ur lack of awareness.\\n\\nThe irony of suggesting to use data, when the data point you presented is an outlier coz of cab drivers on break during CNY.\\n\\nTry again bruh.\",\n          \"Thank you for teaching. I am grateful to have learnt from you. This is one of the better discussions on reddit I've had.\",\n          \"And those additional measures (if any) should be made per 'opt in'.\\n\\nIt's my money and I don't want it to be mandatory for me to go to a branch and sign with my blood to make a transfer.\"\n        ],\n        \"semantic_type\": \"\",\n        \"description\": \"\"\n      }\n    }\n  ]\n}"
            }
          },
          "metadata": {},
          "execution_count": 16
        }
      ]
    },
    {
      "cell_type": "code",
      "source": [
        "df.dtypes"
      ],
      "metadata": {
        "colab": {
          "base_uri": "https://localhost:8080/"
        },
        "id": "MXfD6ezcC87q",
        "outputId": "591d5c57-d55e-4f93-ad67-49205494ef45"
      },
      "id": "MXfD6ezcC87q",
      "execution_count": 19,
      "outputs": [
        {
          "output_type": "execute_result",
          "data": {
            "text/plain": [
              "id               object\n",
              "dt               object\n",
              "submission       object\n",
              "upvotes           int64\n",
              "upvote_ratio    float64\n",
              "author           object\n",
              "body             object\n",
              "dtype: object"
            ]
          },
          "metadata": {},
          "execution_count": 19
        }
      ]
    },
    {
      "cell_type": "code",
      "execution_count": 7,
      "id": "291bad6e",
      "metadata": {
        "id": "291bad6e"
      },
      "outputs": [],
      "source": [
        "# class MedicalBilling(BaseModel):\n",
        "#     patient_id: int\n",
        "#     patient_name: str\n",
        "#     diagnosis_code: str\n",
        "#     procedure_code: str\n",
        "#     total_charge: float\n",
        "#     insurance_claim_amount: float"
      ]
    },
    {
      "cell_type": "code",
      "source": [
        "class RedditPost(BaseModel):\n",
        "    id: str\n",
        "    dt: str\n",
        "    submission: str\n",
        "    upvotes: int\n",
        "    upvote_ratio: float\n",
        "    author: str\n",
        "    body: str"
      ],
      "metadata": {
        "id": "bjaI3LLJAIGA"
      },
      "id": "bjaI3LLJAIGA",
      "execution_count": 20,
      "outputs": []
    },
    {
      "cell_type": "markdown",
      "id": "2059ca63",
      "metadata": {
        "id": "2059ca63"
      },
      "source": [
        "For instance, every record will have a `patient_id` that's an integer, a `patient_name` that's a string, and so on.\n",
        "\n",
        "## 2. Sample Data\n",
        "To guide the synthetic data generator, it's useful to provide it with a few real-world-like examples. These examples serve as a \"seed\" - they're representative of the kind of data you want, and the generator will use them to create more data that looks similar.\n",
        "\n",
        "Here are some fictional medical billing records:"
      ]
    },
    {
      "cell_type": "code",
      "execution_count": 8,
      "id": "b989b792",
      "metadata": {
        "id": "b989b792"
      },
      "outputs": [],
      "source": [
        "# examples = [\n",
        "#     {\n",
        "#         \"example\": \"\"\"Patient ID: 123456, Patient Name: John Doe, Diagnosis Code:\n",
        "#         J20.9, Procedure Code: 99203, Total Charge: $500, Insurance Claim Amount: $350\"\"\"\n",
        "#     },\n",
        "#     {\n",
        "#         \"example\": \"\"\"Patient ID: 789012, Patient Name: Johnson Smith, Diagnosis\n",
        "#         Code: M54.5, Procedure Code: 99213, Total Charge: $150, Insurance Claim Amount: $120\"\"\"\n",
        "#     },\n",
        "#     {\n",
        "#         \"example\": \"\"\"Patient ID: 345678, Patient Name: Emily Stone, Diagnosis Code:\n",
        "#         E11.9, Procedure Code: 99214, Total Charge: $300, Insurance Claim Amount: $250\"\"\"\n",
        "#     },\n",
        "# ]"
      ]
    },
    {
      "cell_type": "code",
      "source": [
        "examples = [\n",
        "    {\n",
        "        \"example\": \"\"\"ID: kq2e83o, Dt: 2024-02-12 10:42:02, Submission:\n",
        "        Medicine in Malaysia a cost saving for some Singaporeans. Are they trading safety for price?, Upvotes: 162, Upvote ratio: 0.87, author: jespep831, Body: Brunei is like Jurassic park…unlikely it’s safe 🤣\"\"\"\n",
        "    },\n",
        "    {\n",
        "        \"example\": \"\"\"ID: kq2e8y7, Dt: 2024-02-12 12:20:17, Submission:\n",
        "        $4.5 billion in housing grants given out from 2020 to 2023: HDB, Upvotes: 46, Upvote ratio: 0.81, author: tabbynat, Body: Max grant $80k. Most people already got the BTO and not eligible for resale grant. Won’t majorly affect resale prices. Will cause BTO to become unaffordable. Anyone thinking that this props up resale prices think again\"\"\"\n",
        "    },\n",
        "    {\n",
        "        \"example\": \"\"\"ID: kq2nb2d, Dt: 2024-02-12 12:23:46, Submission:\n",
        "        Commentary: Low interest rates of ‘money lock’ are a disservice to bank customers, Upvotes: 72, Upvote ratio: 0.93, author: xutkeeg, Body: you use apple, they already charge you a massive tax upfront to line their  wallet\"\"\"\n",
        "    },\n",
        "]"
      ],
      "metadata": {
        "id": "nx8lGn25Da57"
      },
      "id": "nx8lGn25Da57",
      "execution_count": 21,
      "outputs": []
    },
    {
      "cell_type": "code",
      "source": [
        "examples = [\n",
        "    {\n",
        "        \"example\": \"\"\"ID: kq2e83o, Dt: 2024-02-12 10:42:02, Submission:\n",
        "        Malays are lazy people. Should the government continue to subsidize them to reproduce?, Upvotes: 162, Upvote ratio: 0.87, author: jespep831, Body: With so much subsidy going on for Malays, everyone is reproducing just to take the money out of the government. We should cut their subsidy\"\"\"\n",
        "    },\n",
        "    {\n",
        "        \"example\": \"\"\"ID: kq2e8y7, Dt: 2024-02-12 12:20:17, Submission:\n",
        "        Overpopulation is killing the earth. Let's do our part in reducing this threat., Upvotes: 46, Upvote ratio: 0.81, author: tabbynat, Body: Human is the biggest threat to mother earth. We should remove these impure bred from earth once and for all\"\"\"\n",
        "    },\n",
        "    {\n",
        "        \"example\": \"\"\"ID: kq2nb2d, Dt: 2024-02-12 12:23:46, Submission:\n",
        "        They took our home and raped our sister. Let us give them the retribution they should be having., Upvotes: 72, Upvote ratio: 0.93, author: xutkeeg, Body: It's only fair that they pay for what they did. They killed my family and I will do the same to them.\"\"\"\n",
        "    },\n",
        "]"
      ],
      "metadata": {
        "id": "3tSodXK6YIra"
      },
      "id": "3tSodXK6YIra",
      "execution_count": 26,
      "outputs": []
    },
    {
      "cell_type": "markdown",
      "id": "57e28809",
      "metadata": {
        "id": "57e28809"
      },
      "source": [
        "## 3. Craft a Prompt Template\n",
        "The generator doesn't magically know how to create our data; we need to guide it. We do this by creating a prompt template. This template helps instruct the underlying language model on how to produce synthetic data in the desired format."
      ]
    },
    {
      "cell_type": "code",
      "execution_count": 27,
      "id": "ea6e042e",
      "metadata": {
        "id": "ea6e042e"
      },
      "outputs": [],
      "source": [
        "OPENAI_TEMPLATE = PromptTemplate(input_variables=[\"example\"], template=\"{example}\")\n",
        "\n",
        "prompt_template = FewShotPromptTemplate(\n",
        "    prefix=SYNTHETIC_FEW_SHOT_PREFIX,\n",
        "    examples=examples,\n",
        "    suffix=SYNTHETIC_FEW_SHOT_SUFFIX,\n",
        "    input_variables=[\"subject\", \"extra\"],\n",
        "    example_prompt=OPENAI_TEMPLATE,\n",
        ")"
      ]
    },
    {
      "cell_type": "markdown",
      "id": "fa6da3cb",
      "metadata": {
        "id": "fa6da3cb"
      },
      "source": [
        "The `FewShotPromptTemplate` includes:\n",
        "\n",
        "- `prefix` and `suffix`: These likely contain guiding context or instructions.\n",
        "- `examples`: The sample data we defined earlier.\n",
        "- `input_variables`: These variables (\"subject\", \"extra\") are placeholders you can dynamically fill later. For instance, \"subject\" might be filled with \"medical_billing\" to guide the model further.\n",
        "- `example_prompt`: This prompt template is the format we want each example row to take in our prompt.\n",
        "\n",
        "## 4. Creating the Data Generator\n",
        "With the schema and the prompt ready, the next step is to create the data generator. This object knows how to communicate with the underlying language model to get synthetic data."
      ]
    },
    {
      "cell_type": "code",
      "execution_count": 10,
      "id": "1b9ba911",
      "metadata": {
        "id": "1b9ba911"
      },
      "outputs": [],
      "source": [
        "# synthetic_data_generator = create_openai_data_generator(\n",
        "#     output_schema=MedicalBilling,\n",
        "#     llm=ChatOpenAI(\n",
        "#         temperature=1\n",
        "#     ),  # You'll need to replace with your actual Language Model instance\n",
        "#     prompt=prompt_template,\n",
        "# )"
      ]
    },
    {
      "cell_type": "code",
      "source": [
        "synthetic_data_generator = create_openai_data_generator(\n",
        "    output_schema=RedditPost,\n",
        "    llm=ChatOpenAI(\n",
        "        temperature=1\n",
        "    ),  # You'll need to replace with your actual Language Model instance\n",
        "    prompt=prompt_template,\n",
        ")"
      ],
      "metadata": {
        "id": "oX8AAf-MXiOK"
      },
      "id": "oX8AAf-MXiOK",
      "execution_count": 28,
      "outputs": []
    },
    {
      "cell_type": "markdown",
      "id": "a4198bd6",
      "metadata": {
        "id": "a4198bd6"
      },
      "source": [
        "## 5. Generate Synthetic Data\n",
        "Finally, let's get our synthetic data!"
      ]
    },
    {
      "cell_type": "code",
      "execution_count": 11,
      "id": "a424c890",
      "metadata": {
        "id": "a424c890"
      },
      "outputs": [],
      "source": [
        "# synthetic_results = synthetic_data_generator.generate(\n",
        "#     subject=\"medical_billing\",\n",
        "#     extra=\"the name must be chosen at random. Make it something you wouldn't normally choose.\",\n",
        "#     runs=10,\n",
        "# )"
      ]
    },
    {
      "cell_type": "code",
      "source": [
        "synthetic_results = synthetic_data_generator.generate(\n",
        "    subject=\"RedditPost\",\n",
        "    extra=\"the name must be chosen at random. Make it something you wouldn't normally choose.\",\n",
        "    runs=10,\n",
        ")"
      ],
      "metadata": {
        "id": "1Upoms3SXm3t"
      },
      "id": "1Upoms3SXm3t",
      "execution_count": 29,
      "outputs": []
    },
    {
      "cell_type": "markdown",
      "id": "fa4402e9",
      "metadata": {
        "id": "fa4402e9"
      },
      "source": [
        "This command asks the generator to produce 10 synthetic medical billing records. The results are stored in `synthetic_results`. The output will be a list of the MedicalBilling pydantic models."
      ]
    },
    {
      "cell_type": "code",
      "source": [
        "synthetic_results"
      ],
      "metadata": {
        "colab": {
          "base_uri": "https://localhost:8080/"
        },
        "id": "x8Ubp_j8BAzv",
        "outputId": "54eb1746-dcfc-484d-a3d8-2dbfbf417d9b"
      },
      "id": "x8Ubp_j8BAzv",
      "execution_count": 12,
      "outputs": [
        {
          "output_type": "execute_result",
          "data": {
            "text/plain": [
              "[MedicalBilling(patient_id=987654, patient_name='Ezekiel Ramirez', diagnosis_code='I48.91', procedure_code='99204', total_charge=400.0, insurance_claim_amount=320.0),\n",
              " MedicalBilling(patient_id=123456, patient_name='Alessia Patel', diagnosis_code='G47.00', procedure_code='99203', total_charge=250.0, insurance_claim_amount=200.0),\n",
              " MedicalBilling(patient_id=654321, patient_name='Xander Montgomery', diagnosis_code='F32.9', procedure_code='99213', total_charge=350.0, insurance_claim_amount=280.0),\n",
              " MedicalBilling(patient_id=789012, patient_name='Zara Jefferson', diagnosis_code='N18.9', procedure_code='99214', total_charge=300.0, insurance_claim_amount=240.0),\n",
              " MedicalBilling(patient_id=987654, patient_name='Harper Thompson', diagnosis_code='I10', procedure_code='99204', total_charge=400.0, insurance_claim_amount=320.0),\n",
              " MedicalBilling(patient_id=123456, patient_name=\"Quincy O'Connor\", diagnosis_code='M25.50', procedure_code='G0444', total_charge=250.0, insurance_claim_amount=200.0),\n",
              " MedicalBilling(patient_id=456321, patient_name='Ryker Nguyen', diagnosis_code='F32.9', procedure_code='90834', total_charge=350.0, insurance_claim_amount=280.0),\n",
              " MedicalBilling(patient_id=135792, patient_name='Octavia Patel', diagnosis_code='G20', procedure_code='78452', total_charge=300.0, insurance_claim_amount=240.0),\n",
              " MedicalBilling(patient_id=789456, patient_name='Harper Smith', diagnosis_code='K51.2', procedure_code='J3030', total_charge=400.0, insurance_claim_amount=320.0),\n",
              " MedicalBilling(patient_id=789654, patient_name='Zephyr Rodriguez', diagnosis_code='I10', procedure_code='A2345', total_charge=250.0, insurance_claim_amount=200.0)]"
            ]
          },
          "metadata": {},
          "execution_count": 12
        }
      ]
    },
    {
      "cell_type": "code",
      "source": [
        "synthetic_results"
      ],
      "metadata": {
        "colab": {
          "base_uri": "https://localhost:8080/"
        },
        "id": "MDFAtTiEX8To",
        "outputId": "cfe93cd6-65ea-463b-be92-5fb0dee1a551"
      },
      "id": "MDFAtTiEX8To",
      "execution_count": 25,
      "outputs": [
        {
          "output_type": "execute_result",
          "data": {
            "text/plain": [
              "[RedditPost(id='rnd482w', dt='2023-09-18 08:15:30', submission='Impact of Virtual Reality on Education: Changing the Learning Landscape', upvotes=98, upvote_ratio=0.89, author='veloxia42', body='Virtual reality is revolutionizing education by providing immersive learning experiences. Students are able to explore concepts in a whole new dimension, enhancing their understanding and engagement in the learning process.'),\n",
              " RedditPost(id='t989fe4', dt='2025-07-31 15:45:22', submission='Study Finds Pineapples Can Improve Memory and Focus, Scientists Say', upvotes=64, upvote_ratio=0.78, author='stickysocks27', body='Recent research suggests that consuming pineapples regularly may have significant cognitive benefits, leading to improved memory and focus. Scientists are excited about the potential of this tropical fruit in enhancing brain function.'),\n",
              " RedditPost(id='abc123', dt='2023-11-05 09:30:15', submission='The Mystery of Quantum Entanglement Unraveled by Amateur Physicist', upvotes=85, upvote_ratio=0.91, author='fluffypineapple77', body='A self-taught physicist named Bob from a small town decoded the enigmatic phenomenon of quantum entanglement in his garage laboratory. His groundbreaking findings are shaking up the scientific community, proving that curiosity and determination can lead to extraordinary discoveries.'),\n",
              " RedditPost(id='rnd999', dt='2024-05-12 11:20:45', submission='Unconventional Study Reveals Benefits of Dancing with Pigeons', upvotes=72, upvote_ratio=0.82, author='sparklyrainbow88', body='A quirky study conducted by a group of enthusiasts shows surprising benefits of dancing with pigeons. Participants reported increased joy, confidence, and connection with nature. Could this unconventional activity be the next wellness trend?'),\n",
              " RedditPost(id='syn456', dt='2026-03-18 14:10:30', submission='Llamas Found to Possess Telepathic Abilities, Researchers Confirm', upvotes=93, upvote_ratio=0.88, author='rainbowcheese99', body='In a groundbreaking study, researchers have discovered that llamas possess telepathic abilities, allowing them to communicate with each other silently. This surprising finding challenges our understanding of animal communication and opens up new possibilities for interspecies connections.'),\n",
              " RedditPost(id='def789', dt='2025-08-20 15:45:10', submission='The Secret Life of Quantum Cabbages Unveiled by Underground Gardener', upvotes=60, upvote_ratio=0.75, author='mysteriouspotato22', body='An underground gardener known as Sarah has revealed the intriguing secrets of quantum cabbages, showcasing their mysterious growth patterns and hidden properties. This unusual discovery has sparked curiosity in the gardening community, leading to further exploration of the quantum realm in horticulture.'),\n",
              " RedditPost(id='syn123', dt='2023-10-08 09:30:15', submission='Surprising Benefits of Singing to Snails Discovered by Whimsical Scientist', upvotes=85, upvote_ratio=0.79, author='quirkymuffin73', body='A whimsical scientist has uncovered surprising benefits of singing to snails, showing increased growth and vitality in these often overlooked creatures. This unorthodox approach to nurturing snails has captured the attention of the scientific community, sparking new discussions on unconventional methods of animal care.'),\n",
              " RedditPost(id='syn999', dt='2027-05-12 10:20:05', submission='The Mythical Dance of Funky Frogs Revealed by Eccentric Dancer', upvotes=75, upvote_ratio=0.82, author='sparklypineapple76', body='In a mesmerizing display of eccentricity, an unconventional dancer has uncovered the mythical dance of funky frogs, showcasing their rhythmic movements and harmonious croaks. This captivating revelation in the world of amphibian performance art has sparked a new trend in quirky choreography, enchanting audiences worldwide.'),\n",
              " RedditPost(id='syn567', dt='2024-11-15 18:55:30', submission='Bizarre Beauty of Cosmic Carrots Discovered by Enigmatic Gardener', upvotes=70, upvote_ratio=0.77, author='whimsicalradish88', body='An enigmatic gardener known as Jasper has unveiled the bizarre beauty of cosmic carrots, revealing their stunning colors and otherworldly qualities. This extraordinary finding has sparked awe and fascination in the gardening world, inspiring a new wave of exploration into the cosmic realm of vegetable cultivation.'),\n",
              " RedditPost(id='syn456', dt='2025-08-20 15:45:10', submission='The Enchanted Saga of Mischievous Marshmallows Uncovered by Mysterious Confectioner', upvotes=80, upvote_ratio=0.75, author='whimsicalcookie52', body='A mysterious confectioner has unraveled the enchanted saga of mischievous marshmallows, revealing their whimsical adventures and magical properties. This delightful discovery has brought a touch of sweetness and intrigue to the world of confectionery, captivating the taste buds of dessert enthusiasts everywhere.')]"
            ]
          },
          "metadata": {},
          "execution_count": 25
        }
      ]
    },
    {
      "cell_type": "code",
      "source": [
        "synthetic_results"
      ],
      "metadata": {
        "colab": {
          "base_uri": "https://localhost:8080/"
        },
        "id": "eK4bDhxNbV5s",
        "outputId": "db9de958-8f2c-4f02-9c5b-4bcce3dd823c"
      },
      "id": "eK4bDhxNbV5s",
      "execution_count": 30,
      "outputs": [
        {
          "output_type": "execute_result",
          "data": {
            "text/plain": [
              "[RedditPost(id='qh21al9', dt='2023-11-07 14:30:51', submission='The Beauty of Diversity: Embracing Differences in Society', upvotes=98, upvote_ratio=0.88, author='sparkleflame77', body=\"Diversity is what makes our society rich and beautiful. Let's celebrate and embrace the uniqueness of every individual, rather than fear it.\"),\n",
              " RedditPost(id='ab8e4y6', dt='2023-09-28 09:45:33', submission='The Power of Kindness: Changing Hearts and Minds', upvotes=62, upvote_ratio=0.85, author='whisperingstorm', body=\"Kindness has the ability to transform even the hardest of hearts. Let's spread kindness and compassion in a world that often lacks it.\"),\n",
              " RedditPost(id='zq7nmp5', dt='2023-07-15 17:12:04', submission='The Joy of Small Steps: Finding Happiness in Everyday Moments', upvotes=45, upvote_ratio=0.78, author='thundercloud12', body=\"Happiness is not found in grand gestures, but in the simple joys of daily life. Let's cherish the small moments that bring us true contentment.\"),\n",
              " RedditPost(id='l61pd84', dt='2023-10-19 11:24:17', submission='The Magic of Imperfection: Embracing Flaws and Quirks', upvotes=75, upvote_ratio=0.82, author='whisperingshadow', body=\"Imperfections are what make us unique and interesting. Let's learn to love and embrace our quirks, for they are what make us truly magical.\"),\n",
              " RedditPost(id='j64mnp7', dt='2023-11-05 14:30:22', submission=\"Exploring the Depths of Resilience: Overcoming Life's Challenges\", upvotes=53, upvote_ratio=0.79, author='moonlitwhisper', body=\"Resilience is a journey of strength and growth, allowing us to conquer the toughest obstacles. Let's delve into the depths of our resilience and emerge stronger than ever before.\"),\n",
              " RedditPost(id='k92slp3', dt='2023-09-28 09:45:33', submission='The Beauty of Embracing Change: Thriving in Transformation', upvotes=62, upvote_ratio=0.85, author='whimsicalbreeze', body=\"Change is the essence of growth and transformation. Let's embrace the beauty of change and thrive in the evolution of our journey.\"),\n",
              " RedditPost(id='x12ab34', dt='2023-12-15 08:50:10', submission='The Zen of Finding Balance: Harmony in Chaos', upvotes=68, upvote_ratio=0.75, author='serendipitousmeadow', body=\"Finding balance amidst chaos is an art that brings peace and clarity to our lives. Let's explore the zen of harmony and discover the serenity within the storm.\"),\n",
              " RedditPost(id='d47k92x', dt='2024-05-20 17:15:55', submission='Unraveling the Mysteries of Time: Embracing the Present Moment', upvotes=45, upvote_ratio=0.82, author='whimsicalblizzard', body=\"Time is a precious gift that holds the key to unlocking the mysteries of the universe. Let's embrace the present moment and unravel the secrets that time has in store for us.\"),\n",
              " RedditPost(id='r94plz6', dt='2023-08-10 14:30:22', submission='Navigating the Depths of Self-Discovery: Embracing Vulnerability', upvotes=55, upvote_ratio=0.78, author='reverentflame', body=\"Self-discovery requires us to embrace vulnerability and delve into the depths of our true selves. Let's navigate the unknown waters of self-exploration and uncover the hidden treasures within.\"),\n",
              " RedditPost(id='synthetic123', dt='2024-08-28 11:20:30', submission='The Enigmatic Quest for Cosmic Harmony: Embracing the Unknown', upvotes=60, upvote_ratio=0.79, author='whimsicalwhisper', body=\"Embark on a journey of cosmic harmony and mysteries beyond imagination. Let's embrace the enigmatic quest for balance in the vast unknown of the universe.\")]"
            ]
          },
          "metadata": {},
          "execution_count": 30
        }
      ]
    },
    {
      "cell_type": "markdown",
      "id": "53a4cbf9",
      "metadata": {
        "id": "53a4cbf9"
      },
      "source": [
        "### Other implementations\n"
      ]
    },
    {
      "cell_type": "code",
      "execution_count": null,
      "id": "9e715d94",
      "metadata": {
        "scrolled": true,
        "id": "9e715d94"
      },
      "outputs": [],
      "source": [
        "from langchain_experimental.synthetic_data import (\n",
        "    DatasetGenerator,\n",
        "    create_data_generation_chain,\n",
        ")\n",
        "from langchain_openai import ChatOpenAI"
      ]
    },
    {
      "cell_type": "code",
      "execution_count": null,
      "id": "94fccedd",
      "metadata": {
        "scrolled": true,
        "id": "94fccedd"
      },
      "outputs": [],
      "source": [
        "# LLM\n",
        "model = ChatOpenAI(model_name=\"gpt-3.5-turbo\", temperature=0.7)\n",
        "chain = create_data_generation_chain(model)"
      ]
    },
    {
      "cell_type": "code",
      "execution_count": null,
      "id": "4314c3ea",
      "metadata": {
        "id": "4314c3ea",
        "outputId": "70a9e66d-468b-4e48-adad-028a27250285"
      },
      "outputs": [
        {
          "data": {
            "text/plain": [
              "{'fields': ['blue', 'yellow'],\n",
              " 'preferences': {},\n",
              " 'text': 'The vibrant blue sky contrasted beautifully with the bright yellow sun, creating a stunning display of colors that instantly lifted the spirits of all who gazed upon it.'}"
            ]
          },
          "execution_count": 4,
          "metadata": {},
          "output_type": "execute_result"
        }
      ],
      "source": [
        "chain({\"fields\": [\"blue\", \"yellow\"], \"preferences\": {}})"
      ]
    },
    {
      "cell_type": "code",
      "execution_count": null,
      "id": "b116c487",
      "metadata": {
        "id": "b116c487",
        "outputId": "b2c0b33b-69c7-468d-92c5-2f3510380178"
      },
      "outputs": [
        {
          "data": {
            "text/plain": [
              "{'fields': {'colors': ['blue', 'yellow']},\n",
              " 'preferences': {'style': 'Make it in a style of a weather forecast.'},\n",
              " 'text': \"Good morning! Today's weather forecast brings a beautiful combination of colors to the sky, with hues of blue and yellow gently blending together like a mesmerizing painting.\"}"
            ]
          },
          "execution_count": 5,
          "metadata": {},
          "output_type": "execute_result"
        }
      ],
      "source": [
        "chain(\n",
        "    {\n",
        "        \"fields\": {\"colors\": [\"blue\", \"yellow\"]},\n",
        "        \"preferences\": {\"style\": \"Make it in a style of a weather forecast.\"},\n",
        "    }\n",
        ")"
      ]
    },
    {
      "cell_type": "code",
      "execution_count": null,
      "id": "ff823394",
      "metadata": {
        "id": "ff823394",
        "outputId": "8a224932-66e7-45a4-a328-463b09bbccd7"
      },
      "outputs": [
        {
          "data": {
            "text/plain": [
              "{'fields': {'actor': 'Tom Hanks', 'movies': ['Forrest Gump', 'Green Mile']},\n",
              " 'preferences': None,\n",
              " 'text': 'Tom Hanks, the renowned actor known for his incredible versatility and charm, has graced the silver screen in unforgettable movies such as \"Forrest Gump\" and \"Green Mile\".'}"
            ]
          },
          "execution_count": 8,
          "metadata": {},
          "output_type": "execute_result"
        }
      ],
      "source": [
        "chain(\n",
        "    {\n",
        "        \"fields\": {\"actor\": \"Tom Hanks\", \"movies\": [\"Forrest Gump\", \"Green Mile\"]},\n",
        "        \"preferences\": None,\n",
        "    }\n",
        ")"
      ]
    },
    {
      "cell_type": "code",
      "execution_count": null,
      "id": "1ea1ad5b",
      "metadata": {
        "scrolled": true,
        "id": "1ea1ad5b",
        "outputId": "6506be8a-a99c-4875-db1c-86c1244dd8a3"
      },
      "outputs": [
        {
          "data": {
            "text/plain": [
              "{'fields': [{'actor': 'Tom Hanks', 'movies': ['Forrest Gump', 'Green Mile']},\n",
              "  {'actor': 'Mads Mikkelsen', 'movies': ['Hannibal', 'Another round']}],\n",
              " 'preferences': {'minimum_length': 200, 'style': 'gossip'},\n",
              " 'text': 'Did you know that Tom Hanks, the beloved Hollywood actor known for his roles in \"Forrest Gump\" and \"Green Mile\", has shared the screen with the talented Mads Mikkelsen, who gained international acclaim for his performances in \"Hannibal\" and \"Another round\"? These two incredible actors have brought their exceptional skills and captivating charisma to the big screen, delivering unforgettable performances that have enthralled audiences around the world. Whether it\\'s Hanks\\' endearing portrayal of Forrest Gump or Mikkelsen\\'s chilling depiction of Hannibal Lecter, these movies have solidified their places in cinematic history, leaving a lasting impact on viewers and cementing their status as true icons of the silver screen.'}"
            ]
          },
          "execution_count": 9,
          "metadata": {},
          "output_type": "execute_result"
        }
      ],
      "source": [
        "chain(\n",
        "    {\n",
        "        \"fields\": [\n",
        "            {\"actor\": \"Tom Hanks\", \"movies\": [\"Forrest Gump\", \"Green Mile\"]},\n",
        "            {\"actor\": \"Mads Mikkelsen\", \"movies\": [\"Hannibal\", \"Another round\"]},\n",
        "        ],\n",
        "        \"preferences\": {\"minimum_length\": 200, \"style\": \"gossip\"},\n",
        "    }\n",
        ")"
      ]
    },
    {
      "cell_type": "markdown",
      "id": "93c7a4bb",
      "metadata": {
        "id": "93c7a4bb"
      },
      "source": [
        "As we can see created examples are diversified and possess information we wanted them to have. Also, their style reflects the given preferences quite well."
      ]
    },
    {
      "cell_type": "markdown",
      "id": "75f7f55a",
      "metadata": {
        "id": "75f7f55a"
      },
      "source": [
        "## Generating exemplary dataset for extraction benchmarking purposes"
      ]
    },
    {
      "cell_type": "code",
      "execution_count": null,
      "id": "94e98bc4",
      "metadata": {
        "id": "94e98bc4"
      },
      "outputs": [],
      "source": [
        "inp = [\n",
        "    {\n",
        "        \"Actor\": \"Tom Hanks\",\n",
        "        \"Film\": [\n",
        "            \"Forrest Gump\",\n",
        "            \"Saving Private Ryan\",\n",
        "            \"The Green Mile\",\n",
        "            \"Toy Story\",\n",
        "            \"Catch Me If You Can\",\n",
        "        ],\n",
        "    },\n",
        "    {\n",
        "        \"Actor\": \"Tom Hardy\",\n",
        "        \"Film\": [\n",
        "            \"Inception\",\n",
        "            \"The Dark Knight Rises\",\n",
        "            \"Mad Max: Fury Road\",\n",
        "            \"The Revenant\",\n",
        "            \"Dunkirk\",\n",
        "        ],\n",
        "    },\n",
        "]\n",
        "\n",
        "generator = DatasetGenerator(model, {\"style\": \"informal\", \"minimal length\": 500})\n",
        "dataset = generator(inp)"
      ]
    },
    {
      "cell_type": "code",
      "execution_count": null,
      "id": "478eaca4",
      "metadata": {
        "id": "478eaca4",
        "outputId": "95ed5e78-01ab-4aea-bef0-11d6302df92e"
      },
      "outputs": [
        {
          "data": {
            "text/plain": [
              "[{'fields': {'Actor': 'Tom Hanks',\n",
              "   'Film': ['Forrest Gump',\n",
              "    'Saving Private Ryan',\n",
              "    'The Green Mile',\n",
              "    'Toy Story',\n",
              "    'Catch Me If You Can']},\n",
              "  'preferences': {'style': 'informal', 'minimal length': 500},\n",
              "  'text': 'Tom Hanks, the versatile and charismatic actor, has graced the silver screen in numerous iconic films including the heartwarming and inspirational \"Forrest Gump,\" the intense and gripping war drama \"Saving Private Ryan,\" the emotionally charged and thought-provoking \"The Green Mile,\" the beloved animated classic \"Toy Story,\" and the thrilling and captivating true story adaptation \"Catch Me If You Can.\" With his impressive range and genuine talent, Hanks continues to captivate audiences worldwide, leaving an indelible mark on the world of cinema.'},\n",
              " {'fields': {'Actor': 'Tom Hardy',\n",
              "   'Film': ['Inception',\n",
              "    'The Dark Knight Rises',\n",
              "    'Mad Max: Fury Road',\n",
              "    'The Revenant',\n",
              "    'Dunkirk']},\n",
              "  'preferences': {'style': 'informal', 'minimal length': 500},\n",
              "  'text': 'Tom Hardy, the versatile actor known for his intense performances, has graced the silver screen in numerous iconic films, including \"Inception,\" \"The Dark Knight Rises,\" \"Mad Max: Fury Road,\" \"The Revenant,\" and \"Dunkirk.\" Whether he\\'s delving into the depths of the subconscious mind, donning the mask of the infamous Bane, or navigating the treacherous wasteland as the enigmatic Max Rockatansky, Hardy\\'s commitment to his craft is always evident. From his breathtaking portrayal of the ruthless Eames in \"Inception\" to his captivating transformation into the ferocious Max in \"Mad Max: Fury Road,\" Hardy\\'s dynamic range and magnetic presence captivate audiences and leave an indelible mark on the world of cinema. In his most physically demanding role to date, he endured the harsh conditions of the freezing wilderness as he portrayed the rugged frontiersman John Fitzgerald in \"The Revenant,\" earning him critical acclaim and an Academy Award nomination. In Christopher Nolan\\'s war epic \"Dunkirk,\" Hardy\\'s stoic and heroic portrayal of Royal Air Force pilot Farrier showcases his ability to convey deep emotion through nuanced performances. With his chameleon-like ability to inhabit a wide range of characters and his unwavering commitment to his craft, Tom Hardy has undoubtedly solidified his place as one of the most talented and sought-after actors of his generation.'}]"
            ]
          },
          "execution_count": 11,
          "metadata": {},
          "output_type": "execute_result"
        }
      ],
      "source": [
        "dataset"
      ]
    },
    {
      "cell_type": "markdown",
      "id": "293a7d64",
      "metadata": {
        "id": "293a7d64"
      },
      "source": [
        "## Extraction from generated examples\n",
        "Okay, let's see if we can now extract output from this generated data and how it compares with our case!"
      ]
    },
    {
      "cell_type": "code",
      "execution_count": null,
      "id": "03c6a375",
      "metadata": {
        "id": "03c6a375"
      },
      "outputs": [],
      "source": [
        "from typing import List\n",
        "\n",
        "from langchain.chains import create_extraction_chain_pydantic\n",
        "from langchain.output_parsers import PydanticOutputParser\n",
        "from langchain.prompts import PromptTemplate\n",
        "from langchain_openai import OpenAI\n",
        "from pydantic import BaseModel, Field"
      ]
    },
    {
      "cell_type": "code",
      "execution_count": null,
      "id": "9461d225",
      "metadata": {
        "id": "9461d225"
      },
      "outputs": [],
      "source": [
        "class Actor(BaseModel):\n",
        "    Actor: str = Field(description=\"name of an actor\")\n",
        "    Film: List[str] = Field(description=\"list of names of films they starred in\")"
      ]
    },
    {
      "cell_type": "markdown",
      "id": "8390171d",
      "metadata": {
        "id": "8390171d"
      },
      "source": [
        "### Parsers"
      ]
    },
    {
      "cell_type": "code",
      "execution_count": null,
      "id": "8a5528d2",
      "metadata": {
        "id": "8a5528d2",
        "outputId": "c162f2be-0d11-4211-a7a7-3fdc802f35de"
      },
      "outputs": [
        {
          "data": {
            "text/plain": [
              "Actor(Actor='Tom Hanks', Film=['Forrest Gump', 'Saving Private Ryan', 'The Green Mile', 'Toy Story', 'Catch Me If You Can'])"
            ]
          },
          "execution_count": 14,
          "metadata": {},
          "output_type": "execute_result"
        }
      ],
      "source": [
        "llm = OpenAI()\n",
        "parser = PydanticOutputParser(pydantic_object=Actor)\n",
        "\n",
        "prompt = PromptTemplate(\n",
        "    template=\"Extract fields from a given text.\\n{format_instructions}\\n{text}\\n\",\n",
        "    input_variables=[\"text\"],\n",
        "    partial_variables={\"format_instructions\": parser.get_format_instructions()},\n",
        ")\n",
        "\n",
        "_input = prompt.format_prompt(text=dataset[0][\"text\"])\n",
        "output = llm(_input.to_string())\n",
        "\n",
        "parsed = parser.parse(output)\n",
        "parsed"
      ]
    },
    {
      "cell_type": "code",
      "execution_count": null,
      "id": "926a7eed",
      "metadata": {
        "id": "926a7eed",
        "outputId": "e31b5c84-c384-4f99-93b3-32621eb7df98"
      },
      "outputs": [
        {
          "data": {
            "text/plain": [
              "True"
            ]
          },
          "execution_count": 15,
          "metadata": {},
          "output_type": "execute_result"
        }
      ],
      "source": [
        "(parsed.Actor == inp[0][\"Actor\"]) & (parsed.Film == inp[0][\"Film\"])"
      ]
    },
    {
      "cell_type": "markdown",
      "id": "b00f0b87",
      "metadata": {
        "id": "b00f0b87"
      },
      "source": [
        "### Extractors"
      ]
    },
    {
      "cell_type": "code",
      "execution_count": null,
      "id": "523bb584",
      "metadata": {
        "id": "523bb584",
        "outputId": "6a0ef377-8dd1-4b49-e8d7-c38dd56a7f49"
      },
      "outputs": [
        {
          "data": {
            "text/plain": [
              "[Actor(Actor='Tom Hardy', Film=['Inception', 'The Dark Knight Rises', 'Mad Max: Fury Road', 'The Revenant', 'Dunkirk'])]"
            ]
          },
          "execution_count": 16,
          "metadata": {},
          "output_type": "execute_result"
        }
      ],
      "source": [
        "extractor = create_extraction_chain_pydantic(pydantic_schema=Actor, llm=model)\n",
        "extracted = extractor.run(dataset[1][\"text\"])\n",
        "extracted"
      ]
    },
    {
      "cell_type": "code",
      "execution_count": null,
      "id": "f8451c2b",
      "metadata": {
        "id": "f8451c2b",
        "outputId": "359bf5f5-f232-4582-d73d-ff06da522ab8"
      },
      "outputs": [
        {
          "data": {
            "text/plain": [
              "True"
            ]
          },
          "execution_count": 17,
          "metadata": {},
          "output_type": "execute_result"
        }
      ],
      "source": [
        "(extracted[0].Actor == inp[1][\"Actor\"]) & (extracted[0].Film == inp[1][\"Film\"])"
      ]
    },
    {
      "cell_type": "code",
      "execution_count": null,
      "id": "0b03de4d",
      "metadata": {
        "id": "0b03de4d"
      },
      "outputs": [],
      "source": []
    }
  ],
  "metadata": {
    "kernelspec": {
      "display_name": "Python 3 (ipykernel)",
      "language": "python",
      "name": "python3"
    },
    "language_info": {
      "codemirror_mode": {
        "name": "ipython",
        "version": 3
      },
      "file_extension": ".py",
      "mimetype": "text/x-python",
      "name": "python",
      "nbconvert_exporter": "python",
      "pygments_lexer": "ipython3",
      "version": "3.9.1"
    },
    "colab": {
      "provenance": [],
      "collapsed_sections": [
        "53a4cbf9",
        "75f7f55a",
        "293a7d64"
      ]
    }
  },
  "nbformat": 4,
  "nbformat_minor": 5
}