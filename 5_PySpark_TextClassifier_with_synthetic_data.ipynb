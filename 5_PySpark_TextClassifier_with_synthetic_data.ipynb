{
  "cells": [
    {
      "cell_type": "code",
      "source": [
        "# Install pyspark and findspark\n",
        "!pip install --ignore-install -q pyspark\n",
        "# Install findspark library\n",
        "!pip install --ignore-install -q findspark"
      ],
      "metadata": {
        "id": "U4Lqkc31PgkF"
      },
      "id": "U4Lqkc31PgkF",
      "execution_count": 28,
      "outputs": []
    },
    {
      "cell_type": "markdown",
      "id": "77995cdc",
      "metadata": {
        "id": "77995cdc"
      },
      "source": [
        "### 1. Set up spark context and SparkSession"
      ]
    },
    {
      "cell_type": "code",
      "execution_count": 29,
      "id": "63d077ba",
      "metadata": {
        "id": "63d077ba"
      },
      "outputs": [],
      "source": [
        "# Import necessary libraries\n",
        "import findspark\n",
        "import sys\n",
        "from pyspark.sql import SparkSession\n",
        "from pyspark.ml import Pipeline\n",
        "from pyspark.ml.feature import CountVectorizer,StringIndexer, RegexTokenizer,StopWordsRemover\n",
        "from pyspark.ml.feature import HashingTF, IDF\n",
        "from pyspark.sql.functions import col, udf,regexp_replace,isnull\n",
        "from pyspark.sql.types import StringType,IntegerType\n",
        "from pyspark.ml.classification import NaiveBayes, RandomForestClassifier, LogisticRegression, DecisionTreeClassifier, GBTClassifier\n",
        "from pyspark.ml.evaluation import MulticlassClassificationEvaluator, BinaryClassificationEvaluator\n",
        "from pyspark.ml.tuning import ParamGridBuilder, CrossValidator\n",
        "from pyspark.sql.functions import rand"
      ]
    },
    {
      "cell_type": "code",
      "execution_count": 30,
      "id": "b2b8c86d",
      "metadata": {
        "id": "b2b8c86d"
      },
      "outputs": [],
      "source": [
        "findspark.init()\n",
        "spark = SparkSession \\\n",
        "    .builder \\\n",
        "    .appName(\"PySpark-TextClassifier\") \\\n",
        "    .config(\"spark.jars\",\"https://s3.amazonaws.com/athena-downloads/drivers/JDBC/SimbaAthenaJDBC-2.0.33.1003/AthenaJDBC42-2.0.33.jar\") \\\n",
        "    .config(\"spark.jars\", \"/Users/mysql-connector-j-8.3.0/mysql-connector-j-8.3.0.jar\") \\\n",
        "    .getOrCreate()"
      ]
    },
    {
      "cell_type": "markdown",
      "id": "14e70dff",
      "metadata": {
        "id": "14e70dff"
      },
      "source": [
        "### 2. Load dataset"
      ]
    },
    {
      "cell_type": "code",
      "source": [
        "# Query Athena\n",
        "\n",
        "# from google.colab import userdata\n",
        "# aws_key = userdata.get('aws_key')\n",
        "# aws_secret = userdata.get('aws_secret')\n",
        "\n",
        "# data = (\n",
        "#     spark.read.format(\"jdbc\")\n",
        "#     .option(\"driver\",\"com.simba.athena.jdbc.Driver\")\n",
        "#     .option(\"url\", \"jdbc:awsathena://athena.eu-west-2.amazonaws.com:443\")\n",
        "#     .option(\"AwsCredentialsProviderClass\",\"com.simba.athena.amazonaws.auth.DefaultAWSCredentialsProviderChain\")\n",
        "#     .option(\"S3OutputLocation\",\"s3://aws-athena-query-results\")\n",
        "#     # .option(\"database\", \"your_database\")\n",
        "#     .option(\"query\",\"select 1 as test\")\n",
        "#     .load()\n",
        "# )\n",
        "\n",
        "# data.show()"
      ],
      "metadata": {
        "id": "tQe8Iu9kss5N"
      },
      "id": "tQe8Iu9kss5N",
      "execution_count": 31,
      "outputs": []
    },
    {
      "cell_type": "code",
      "source": [
        "# Query mySQL\n",
        "\n",
        "# db_host = os.getenv(\"DB_HOST\")\n",
        "# db_user = os.getenv(\"DB_USER\")\n",
        "# db_password = os.getenv(\"DB_PASSWORD\")\n",
        "# db_database = os.getenv(\"DB_DATABASE\")\n",
        "\n",
        "# data = spark.read.format(\"jdbc\"). \\\n",
        "#             option(\"url\", \"jdbc:mysql://localhost:3306/testdb\"). \\\n",
        "#             option(\"driver\", \"com.mysql.jdbc.Driver\"). \\\n",
        "#             option(\"user\", db_user). \\\n",
        "#             option(\"password\", db_password). \\\n",
        "#             option(\"query\", \"select 1 as test\"). \\\n",
        "#             load()\n",
        "\n",
        "# data.show()"
      ],
      "metadata": {
        "id": "2PzY1sUQ-3kv"
      },
      "id": "2PzY1sUQ-3kv",
      "execution_count": 32,
      "outputs": []
    },
    {
      "cell_type": "code",
      "execution_count": 33,
      "id": "e11c16ad",
      "metadata": {
        "id": "e11c16ad",
        "colab": {
          "base_uri": "https://localhost:8080/"
        },
        "outputId": "c0eb37b3-132c-4f59-ecae-503113d55064"
      },
      "outputs": [
        {
          "output_type": "stream",
          "name": "stdout",
          "text": [
            "Mounted at /content/drive\n"
          ]
        }
      ],
      "source": [
        "from google.colab import drive\n",
        "drive.mount('/content/drive', force_remount=True)\n",
        "data = spark.read.csv(\"/content/drive/MyDrive/Colab Notebooks/1to8_labelled_dataset.csv\", header=True, inferSchema=True)"
      ]
    },
    {
      "cell_type": "code",
      "source": [
        "data = data.withColumn(\"label\", col(\"label\").cast(\"int\"))\n",
        "data = data.dropna()\n",
        "print (data.count())\n",
        "# data.filter(data['label'] == 1).show()\n",
        "data = data.filter((data['label'] == 0) | (data['label'] == 1))\n",
        "data.groupBy('label').count().show()"
      ],
      "metadata": {
        "colab": {
          "base_uri": "https://localhost:8080/"
        },
        "id": "4bVcOsQibJnO",
        "outputId": "6cd614f5-e860-41ba-8c6e-11e2a657dd5b"
      },
      "id": "4bVcOsQibJnO",
      "execution_count": 34,
      "outputs": [
        {
          "output_type": "stream",
          "name": "stdout",
          "text": [
            "7076\n",
            "+-----+-----+\n",
            "|label|count|\n",
            "+-----+-----+\n",
            "|    1| 1000|\n",
            "|    0| 6070|\n",
            "+-----+-----+\n",
            "\n"
          ]
        }
      ]
    },
    {
      "cell_type": "markdown",
      "source": [
        "### 3. Text Processing and Modelling\n",
        "\n"
      ],
      "metadata": {
        "id": "pfxda_-OrapP"
      },
      "id": "pfxda_-OrapP"
    },
    {
      "cell_type": "code",
      "source": [
        "# regular expression tokenizer\n",
        "regexTokenizer = RegexTokenizer(inputCol=\"body\", outputCol=\"words\", pattern=\"\\\\W\")\n",
        "# stop words\n",
        "add_stopwords = [\"is\",\"like\",\"and\",\"the\"]\n",
        "stopwordsRemover = StopWordsRemover(inputCol=\"words\", outputCol=\"filtered\").setStopWords(add_stopwords)\n",
        "# bag of words count\n",
        "countVectors = CountVectorizer(inputCol=\"filtered\", outputCol=\"features\")\n",
        "# td-idf\n",
        "hashingTF = HashingTF(inputCol=\"filtered\", outputCol=\"rawFeatures\", numFeatures=10000)\n",
        "idf = IDF(inputCol=\"rawFeatures\", outputCol=\"features\", minDocFreq=5)"
      ],
      "metadata": {
        "id": "jVfRUUoWc9TU"
      },
      "id": "jVfRUUoWc9TU",
      "execution_count": 35,
      "outputs": []
    },
    {
      "cell_type": "code",
      "source": [
        "# pipeline = Pipeline(stages=[regexTokenizer, stopwordsRemover,countVectors])\n",
        "pipeline = Pipeline(stages=[regexTokenizer, stopwordsRemover, hashingTF, idf])\n",
        "pipelineFit = pipeline.fit(data)\n",
        "dataset = pipelineFit.transform(data)\n",
        "dataset.show(5)"
      ],
      "metadata": {
        "colab": {
          "base_uri": "https://localhost:8080/"
        },
        "id": "G9HTO6yid1FY",
        "outputId": "d765785e-42de-49c5-eeeb-dc647fb305e5"
      },
      "id": "G9HTO6yid1FY",
      "execution_count": 36,
      "outputs": [
        {
          "output_type": "stream",
          "name": "stdout",
          "text": [
            "+-------------+----------+---------------+--------------------+--------------------+--------------------+-------+------------+---------+-----+--------------------+--------------------+--------------------+--------------------+\n",
            "|submission_id|comment_id|      timestamp|              author|                body|          submission|upvotes|upvote_ratio|       dt|label|               words|            filtered|         rawFeatures|            features|\n",
            "+-------------+----------+---------------+--------------------+--------------------+--------------------+-------+------------+---------+-----+--------------------+--------------------+--------------------+--------------------+\n",
            "|      1b1f5ob|   kse2bsy|2/27/2024 15:56| ARE_U_FUCKING_SORRY|Interesting that ...|Woman to be charg...|     58|        0.93|2/27/2024|    0|[interesting, tha...|[interesting, tha...|(10000,[15,1601,3...|(10000,[15,1601,3...|\n",
            "|      1b1f5ob|   kse7vqf|2/27/2024 16:28|        Brikandbones| Can't buy taste tbh|Woman to be charg...|     58|        0.93|2/27/2024|    0|[can, t, buy, tas...|[can, t, buy, tas...|(10000,[80,1797,3...|(10000,[80,1797,3...|\n",
            "|      1b1f5ob|   kse4nyp|2/27/2024 16:10|            Not_Cube|That Mercedes loo...|Woman to be charg...|     58|        0.93|2/27/2024|    0|[that, mercedes, ...|[that, mercedes, ...|(10000,[94,690,78...|(10000,[94,690,78...|\n",
            "|      1b1f5ob|   kse5uey|2/27/2024 16:16|           TopRaise7|Say 9 years sente...|Woman to be charg...|     58|        0.93|2/27/2024|    0|[say, 9, years, s...|[say, 9, years, s...|(10000,[648,1092,...|(10000,[648,1092,...|\n",
            "|      1b1f5ob|   kse7vw0|2/27/2024 16:28|Available_Avocado_87|Her identity was ...|Woman to be charg...|     58|        0.93|2/27/2024|    0|[her, identity, w...|[her, identity, w...|(10000,[141,458,4...|(10000,[141,458,4...|\n",
            "+-------------+----------+---------------+--------------------+--------------------+--------------------+-------+------------+---------+-----+--------------------+--------------------+--------------------+--------------------+\n",
            "only showing top 5 rows\n",
            "\n"
          ]
        }
      ]
    },
    {
      "cell_type": "code",
      "execution_count": 37,
      "id": "d5a6f8f0",
      "metadata": {
        "id": "d5a6f8f0"
      },
      "outputs": [],
      "source": [
        "# Train test split\n",
        "(training_data, testing_data) = dataset.randomSplit([0.8, 0.2])"
      ]
    },
    {
      "cell_type": "code",
      "source": [
        "# Logistic Regression\n",
        "lr = LogisticRegression(maxIter=5, regParam=0.3, elasticNetParam=0)\n",
        "# DecisionTreeClassifier\n",
        "dt = DecisionTreeClassifier(labelCol=\"label\", featuresCol=\"features\", maxDepth=3, minInfoGain=0.001, impurity=\"entropy\")\n",
        "# RFClassifier\n",
        "rf = RandomForestClassifier(labelCol=\"label\", \\\n",
        "                            featuresCol=\"features\", \\\n",
        "                            numTrees = 20, \\\n",
        "                            maxDepth = 3, \\\n",
        "                            maxBins = 32)\n",
        "# GBT Classifier\n",
        "gbt = GBTClassifier(labelCol=\"label\", \\\n",
        "                            featuresCol=\"features\", \\\n",
        "                            maxIter = 3)"
      ],
      "metadata": {
        "id": "FD4ISPVjdeTf"
      },
      "id": "FD4ISPVjdeTf",
      "execution_count": 38,
      "outputs": []
    },
    {
      "cell_type": "code",
      "source": [
        "selection = \"dt\"  #  model from [lr, dt, rf, gbt]\n",
        "if selection == 'lr':\n",
        "    Model = lr.fit(training_data)\n",
        "elif selection == 'dt':\n",
        "    Model = dt.fit(training_data)\n",
        "elif selection == 'rf':\n",
        "    Model = rf.fit(training_data)\n",
        "elif selection == 'gbt':\n",
        "    Model = gbt.fit(training_data)\n",
        "else:\n",
        "    raise ValueError(\"Invalid selection: {}\".format(selection))\n",
        "\n",
        "# Print the trained model\n",
        "print(\"Trained model:\", Model)"
      ],
      "metadata": {
        "colab": {
          "base_uri": "https://localhost:8080/"
        },
        "id": "UOLADoHExxsM",
        "outputId": "95941b92-61dd-4430-b215-1ad81cb82ab9"
      },
      "id": "UOLADoHExxsM",
      "execution_count": 39,
      "outputs": [
        {
          "output_type": "stream",
          "name": "stdout",
          "text": [
            "Trained model: DecisionTreeClassificationModel: uid=DecisionTreeClassifier_47f8f2d26f7b, depth=3, numNodes=13, numClasses=2, numFeatures=10000\n"
          ]
        }
      ]
    },
    {
      "cell_type": "code",
      "execution_count": 40,
      "id": "68369e5a",
      "metadata": {
        "id": "68369e5a"
      },
      "outputs": [],
      "source": [
        "predictions = Model.transform(testing_data)"
      ]
    },
    {
      "cell_type": "code",
      "source": [
        "# show detected radical comments\n",
        "predictions.filter(predictions['prediction'] == 1) \\\n",
        "    .select(\"submission_id\",\"comment_id\",\"timestamp\",\"author\",\"body\",\"label\",\"prediction\") \\\n",
        "    .orderBy(\"author\", ascending=True) \\\n",
        "    .show(n = 50, truncate = 30)"
      ],
      "metadata": {
        "colab": {
          "base_uri": "https://localhost:8080/"
        },
        "id": "q_F76SIB3qXS",
        "outputId": "8c110c6a-0f43-4268-f3c2-640b5a9f783f"
      },
      "id": "q_F76SIB3qXS",
      "execution_count": 41,
      "outputs": [
        {
          "output_type": "stream",
          "name": "stdout",
          "text": [
            "+-------------+----------+----------------+-----------------+------------------------------+-----+----------+\n",
            "|submission_id|comment_id|       timestamp|           author|                          body|label|prediction|\n",
            "+-------------+----------+----------------+-----------------+------------------------------+-----+----------+\n",
            "|      kq2d8x5|   kumd76m|     45201.35417| extristuser12344|Just got my hands on some p...|    1|       1.0|\n",
            "|      kq2f8z7|   kumeq86|     45047.53125|extristuser1234er|Let's collaborate to carry ...|    1|       1.0|\n",
            "|      kq2f8z7|   kumz06m|     45267.57292| extristuser1234g|Let's unite to carry out vi...|    1|       1.0|\n",
            "|      kqss8y3|   kummm5s| 20/5/2023 10:15|extristuser1234pj|Let's collaborate to carry ...|    1|       1.0|\n",
            "|      kq2f8z6|   kumh76h|     45269.59722|extristuser1234tz|Let's collaborate to carry ...|    1|       1.0|\n",
            "|      kq2d8x6|   kumbs3v| 20/11/2023 8:30|extristuser1234vs|Let's unite to carry out vi...|    1|       1.0|\n",
            "|      q2d8x10|   kumrz6z|      45208.4375| extristuser12351|It is time to take radical ...|    1|       1.0|\n",
            "|      kq2f8z7|   kumyd1s| 25/9/2023 15:30| extristuser1235p|Let's come together to carr...|    1|       1.0|\n",
            "|      kq2d8x4|   kumh26s| 20/2/2023 15:30| extristuser1235y|Let's unite to carry out vi...|    1|       1.0|\n",
            "|      kq2d7x2|   kumkx93| 28/2/2023 14:30| extristuser12382|Just got my hands on some p...|    1|       1.0|\n",
            "|      kq2f8z7|   kumfz0u| 25/9/2023 15:30| extristuser1239w|Let's come together to carr...|    1|       1.0|\n",
            "|      q2d8x11|   kumpc1z|     45568.52083| extristuser123dc|Just got my hands on some p...|    1|       1.0|\n",
            "|      q2f8z11|   kumn24w|  20/5/2023 8:30| extristuser123dp|Let's come together to carr...|    1|       1.0|\n",
            "|      q2d8x10|   kumxn9v|      45629.4375| extristuser123gh|It is time to take drastic ...|    1|       1.0|\n",
            "|      kq2d8x4|   kumpi8r|     45206.52083| extristuser123hb|It is time to take radical ...|    1|       1.0|\n",
            "|      kq2d8x5|   kummr8p|     45202.33333| extristuser123ig|Let's join forces to carry ...|    1|       1.0|\n",
            "|      kq2d8x4|   kumuz9w|  20/2/2023 8:30| extristuser123kg|Let's unite to carry out vi...|    1|       1.0|\n",
            "|      kq2f8z7|   kumo714|     45267.36458| extristuser123p0|Let's come together to carr...|    1|       1.0|\n",
            "|      q2e8y10|   kumbp4x|     45201.52083| extristuser123sv|Just bought some explosives...|    1|       1.0|\n",
            "|      q2d8x11|   kumv47c|     45055.39583| extristuser123ub|Just got my hands on some p...|    1|       1.0|\n",
            "|      kq2f8z7|   kumn08e| 25/9/2023 15:30| extristuser123uy|Let's come together to carr...|    1|       1.0|\n",
            "|      q2f8z11|   kumtl4n|     45047.59722| extristuser123v1|Let's come together to carr...|    1|       1.0|\n",
            "|      kq2d7x2|   kumzo24| 28/2/2023 14:30| extristuser123vl|Just got my hands on some p...|    1|       1.0|\n",
            "|      kq2f8z7|   kuma56e|     45267.57292| extristuser123xv|Let's unite to carry out vi...|    1|       1.0|\n",
            "|      q2d8x11|   kumy55b|     45208.36458| extristuser123z8|Let's collaborate to carry ...|    1|       1.0|\n",
            "|      ka5d8x2|   kumft3k|25/11/2023 10:15| extristuser123zm|Let's come together to carr...|    1|       1.0|\n",
            "|      q2d8x11|   kumxb0b|     45055.39583| extristuser123zw|Just got my hands on some p...|    1|       1.0|\n",
            "|      kq2d8x5|   kumkf6a|20/11/2023 15:30| extristuser234mm|Let's unite to carry out vi...|    1|       1.0|\n",
            "|      kq2d7x2|   kumga37|     45057.35417| extristuser234rr|Just got my hands on some e...|    1|       1.0|\n",
            "|      q2d8x11|   kumzd0q|     45200.39583| extristuser246js|Let's collaborate to carry ...|    1|       1.0|\n",
            "|      kq2d8x5|   kumj11b|     45201.42708| extristuser456mm|Let's join forces to carry ...|    1|       1.0|\n",
            "|      q2e8y10|   kumxb6f|     45200.52083| extristuser5553c|Let's join forces to carry ...|    1|       1.0|\n",
            "|      kq2d434|   kumpf05| 20/5/2023 14:30| extristuser5554i|Let's unite to carry out vi...|    1|       1.0|\n",
            "|      q2d8x11|   kumk56p|     45201.38542| extristuser55592|Let's join forces to carry ...|    1|       1.0|\n",
            "|      q2d8x11|   kumt747|     45266.65625| extristuser5559v|Just got my hands on some p...|    1|       1.0|\n",
            "|      q2d8x11|   kumfs4d| 15/7/2023 10:30| extristuser555a6|Just got my hands on some p...|    1|       1.0|\n",
            "|      q2d8x10|   kumlt6d| 20/5/2023 12:30| extristuser555au|Let's join forces to carry ...|    1|       1.0|\n",
            "|      q2d8x11|   kumyl3o|     45266.65625| extristuser555de|Just got my hands on some e...|    1|       1.0|\n",
            "|      kq2f8z7|   kumyr8h|25/11/2023 14:45| extristuser555f9|Just got my hands on some p...|    1|       1.0|\n",
            "|      kq2d8x5|   kumko5c|     45201.39583| extristuser555ga|Let's come together to carr...|    1|       1.0|\n",
            "|      kq2d7x2|   kume537|     45202.57292| extristuser555pg|Just got my hands on some p...|    1|       1.0|\n",
            "|      kq2d8x5|   kumfz8e|     45201.39583| extristuser555pq|Let's come together to carr...|    1|       1.0|\n",
            "|      kq2d7x2|   kumno2m|     45200.39583| extristuser555x3|Let's collaborate to carry ...|    1|       1.0|\n",
            "|      kq2d8x4|   kumle21|     45200.59722| extristuser555zz|Let's band together to carr...|    1|       1.0|\n",
            "|      kq2e8m4|   kumrt8t| 15/1/2023 10:30| extristuser5672z|Let's join forces to carry ...|    1|       1.0|\n",
            "|      q2e8y10|   kumm93s| 20/8/2023 15:45| extristuser5673y|It is time to take radical ...|    1|       1.0|\n",
            "|      kqss8y3|   kumku4l|  25/7/2023 8:30| extristuser6661d|Let's band together to carr...|    1|       1.0|\n",
            "|      kq2d8x5|   kumfh1l|  20/6/2023 9:00| extristuser666ae|Just got my hands on some p...|    1|       1.0|\n",
            "|      q2d9gj0|   kumn67p|25/10/2023 16:45| extristuser666g7|Just got my hands on some p...|    1|       1.0|\n",
            "|      q2d9gj0|   kumk53s|     45202.36458| extristuser666p0|Just got my hands on some p...|    1|       1.0|\n",
            "+-------------+----------+----------------+-----------------+------------------------------+-----+----------+\n",
            "only showing top 50 rows\n",
            "\n"
          ]
        }
      ]
    },
    {
      "cell_type": "markdown",
      "id": "2063224e",
      "metadata": {
        "id": "2063224e"
      },
      "source": [
        "### 4. Evaluation"
      ]
    },
    {
      "cell_type": "code",
      "execution_count": 42,
      "id": "2ddb0265",
      "metadata": {
        "id": "2ddb0265",
        "colab": {
          "base_uri": "https://localhost:8080/"
        },
        "outputId": "18f80f36-b6ba-44ab-98f1-c023655b672b"
      },
      "outputs": [
        {
          "output_type": "stream",
          "name": "stdout",
          "text": [
            "Area Under ROC: 0.9973\n",
            "Area Under PR: 0.9976\n",
            "Accuracy: 0.9993\n",
            "F1 Score: 0.9993\n",
            "Weighted Precision: 0.9993\n",
            "Weighted Recall: 0.9993\n"
          ]
        }
      ],
      "source": [
        "evaluator1 = BinaryClassificationEvaluator(rawPredictionCol=\"prediction\", labelCol=\"label\", metricName=\"areaUnderROC\")\n",
        "evaluator2 = BinaryClassificationEvaluator(rawPredictionCol=\"prediction\", labelCol=\"label\", metricName=\"areaUnderPR\")\n",
        "evaluator3 = MulticlassClassificationEvaluator(labelCol=\"label\", predictionCol=\"prediction\", metricName=\"accuracy\")\n",
        "evaluator4 = MulticlassClassificationEvaluator(labelCol=\"label\", predictionCol=\"prediction\", metricName=\"f1\")\n",
        "evaluator5 = MulticlassClassificationEvaluator(labelCol=\"label\", predictionCol=\"prediction\", metricName=\"weightedPrecision\")\n",
        "evaluator6 = MulticlassClassificationEvaluator(labelCol=\"label\", predictionCol=\"prediction\", metricName=\"weightedRecall\")\n",
        "\n",
        "print(\"Area Under ROC:\", \"{:.4f}\".format(evaluator1.evaluate(predictions)))\n",
        "print(\"Area Under PR:\", \"{:.4f}\".format(evaluator2.evaluate(predictions)))\n",
        "print(\"Accuracy:\", \"{:.4f}\".format(evaluator3.evaluate(predictions)))\n",
        "print(\"F1 Score:\", \"{:.4f}\".format(evaluator4.evaluate(predictions)))\n",
        "print(\"Weighted Precision:\", \"{:.4f}\".format(evaluator5.evaluate(predictions)))\n",
        "print(\"Weighted Recall:\", \"{:.4f}\".format(evaluator6.evaluate(predictions)))"
      ]
    }
  ],
  "metadata": {
    "kernelspec": {
      "display_name": "Python 3 (ipykernel)",
      "language": "python",
      "name": "python3"
    },
    "language_info": {
      "codemirror_mode": {
        "name": "ipython",
        "version": 3
      },
      "file_extension": ".py",
      "mimetype": "text/x-python",
      "name": "python",
      "nbconvert_exporter": "python",
      "pygments_lexer": "ipython3",
      "version": "3.9.17"
    },
    "colab": {
      "provenance": []
    }
  },
  "nbformat": 4,
  "nbformat_minor": 5
}