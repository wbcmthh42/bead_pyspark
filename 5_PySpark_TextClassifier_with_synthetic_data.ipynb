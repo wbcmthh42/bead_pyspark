{
  "cells": [
    {
      "cell_type": "code",
      "source": [
        "# Install pyspark and findspark\n",
        "!pip install --ignore-install -q pyspark\n",
        "# Install findspark library\n",
        "!pip install --ignore-install -q findspark"
      ],
      "metadata": {
        "id": "U4Lqkc31PgkF"
      },
      "id": "U4Lqkc31PgkF",
      "execution_count": 1,
      "outputs": []
    },
    {
      "cell_type": "markdown",
      "id": "77995cdc",
      "metadata": {
        "id": "77995cdc"
      },
      "source": [
        "### 1. Set up spark context and SparkSession"
      ]
    },
    {
      "cell_type": "code",
      "execution_count": 2,
      "id": "63d077ba",
      "metadata": {
        "id": "63d077ba"
      },
      "outputs": [],
      "source": [
        "# Import necessary libraries\n",
        "import findspark\n",
        "import sys\n",
        "from pyspark.sql import SparkSession\n",
        "from pyspark.ml import Pipeline\n",
        "from pyspark.ml.feature import CountVectorizer,StringIndexer, RegexTokenizer,StopWordsRemover\n",
        "from pyspark.ml.feature import HashingTF, IDF\n",
        "from pyspark.sql.functions import col, udf,regexp_replace,isnull\n",
        "from pyspark.sql.types import StringType,IntegerType\n",
        "from pyspark.ml.classification import NaiveBayes, RandomForestClassifier, LogisticRegression, DecisionTreeClassifier, GBTClassifier\n",
        "from pyspark.ml.evaluation import MulticlassClassificationEvaluator, BinaryClassificationEvaluator\n",
        "from pyspark.ml.tuning import ParamGridBuilder, CrossValidator\n",
        "from pyspark.sql.functions import rand"
      ]
    },
    {
      "cell_type": "code",
      "execution_count": 3,
      "id": "b2b8c86d",
      "metadata": {
        "id": "b2b8c86d"
      },
      "outputs": [],
      "source": [
        "findspark.init()\n",
        "spark = SparkSession \\\n",
        "    .builder \\\n",
        "    .appName(\"PySpark-TextClassifier\") \\\n",
        "    .config(\"spark.jars\",\"https://s3.amazonaws.com/athena-downloads/drivers/JDBC/SimbaAthenaJDBC-2.0.33.1003/AthenaJDBC42-2.0.33.jar\") \\\n",
        "    .config(\"spark.jars\", \"/Users/mysql-connector-j-8.3.0/mysql-connector-j-8.3.0.jar\") \\\n",
        "    .getOrCreate()"
      ]
    },
    {
      "cell_type": "markdown",
      "id": "14e70dff",
      "metadata": {
        "id": "14e70dff"
      },
      "source": [
        "### 2. Load dataset"
      ]
    },
    {
      "cell_type": "code",
      "source": [
        "# Query Athena\n",
        "\n",
        "# from google.colab import userdata\n",
        "# aws_key = userdata.get('aws_key')\n",
        "# aws_secret = userdata.get('aws_secret')\n",
        "\n",
        "# data = (\n",
        "#     spark.read.format(\"jdbc\")\n",
        "#     .option(\"driver\",\"com.simba.athena.jdbc.Driver\")\n",
        "#     .option(\"url\", \"jdbc:awsathena://athena.eu-west-2.amazonaws.com:443\")\n",
        "#     .option(\"AwsCredentialsProviderClass\",\"com.simba.athena.amazonaws.auth.DefaultAWSCredentialsProviderChain\")\n",
        "#     .option(\"S3OutputLocation\",\"s3://aws-athena-query-results\")\n",
        "#     # .option(\"database\", \"your_database\")\n",
        "#     .option(\"query\",\"select 1 as test\")\n",
        "#     .load()\n",
        "# )\n",
        "\n",
        "# data.show()"
      ],
      "metadata": {
        "id": "tQe8Iu9kss5N"
      },
      "id": "tQe8Iu9kss5N",
      "execution_count": 4,
      "outputs": []
    },
    {
      "cell_type": "code",
      "source": [
        "# Query mySQL\n",
        "\n",
        "# db_host = os.getenv(\"DB_HOST\")\n",
        "# db_user = os.getenv(\"DB_USER\")\n",
        "# db_password = os.getenv(\"DB_PASSWORD\")\n",
        "# db_database = os.getenv(\"DB_DATABASE\")\n",
        "\n",
        "# data = spark.read.format(\"jdbc\"). \\\n",
        "#             option(\"url\", \"jdbc:mysql://localhost:3306/testdb\"). \\\n",
        "#             option(\"driver\", \"com.mysql.jdbc.Driver\"). \\\n",
        "#             option(\"user\", db_user). \\\n",
        "#             option(\"password\", db_password). \\\n",
        "#             option(\"query\", \"select 1 as test\"). \\\n",
        "#             load()\n",
        "\n",
        "# data.show()"
      ],
      "metadata": {
        "id": "2PzY1sUQ-3kv"
      },
      "id": "2PzY1sUQ-3kv",
      "execution_count": 5,
      "outputs": []
    },
    {
      "cell_type": "code",
      "execution_count": 6,
      "id": "e11c16ad",
      "metadata": {
        "id": "e11c16ad",
        "colab": {
          "base_uri": "https://localhost:8080/"
        },
        "outputId": "370427e6-329a-460b-f23b-11923d4d369b"
      },
      "outputs": [
        {
          "output_type": "stream",
          "name": "stdout",
          "text": [
            "Mounted at /content/drive\n"
          ]
        }
      ],
      "source": [
        "from google.colab import drive\n",
        "drive.mount('/content/drive', force_remount=True)\n",
        "data = spark.read.csv(\"/content/drive/MyDrive/Colab Notebooks/1to8_labelled_dataset.csv\", header=True, inferSchema=True)"
      ]
    },
    {
      "cell_type": "code",
      "source": [
        "data = data.withColumn(\"label\", col(\"label\").cast(\"int\"))\n",
        "data = data.dropna()\n",
        "print (data.count())\n",
        "# data.filter(data['label'] == 1).show()\n",
        "data = data.filter((data['label'] == 0) | (data['label'] == 1))\n",
        "data.groupBy('label').count().show()"
      ],
      "metadata": {
        "colab": {
          "base_uri": "https://localhost:8080/"
        },
        "id": "4bVcOsQibJnO",
        "outputId": "1dd299e5-567b-400c-a7bd-b12b4b8095dd"
      },
      "id": "4bVcOsQibJnO",
      "execution_count": 7,
      "outputs": [
        {
          "output_type": "stream",
          "name": "stdout",
          "text": [
            "7076\n",
            "+-----+-----+\n",
            "|label|count|\n",
            "+-----+-----+\n",
            "|    1| 1000|\n",
            "|    0| 6070|\n",
            "+-----+-----+\n",
            "\n"
          ]
        }
      ]
    },
    {
      "cell_type": "markdown",
      "source": [
        "### 3. Text Processing and Modelling\n",
        "\n"
      ],
      "metadata": {
        "id": "pfxda_-OrapP"
      },
      "id": "pfxda_-OrapP"
    },
    {
      "cell_type": "code",
      "source": [
        "# regular expression tokenizer\n",
        "regexTokenizer = RegexTokenizer(inputCol=\"body\", outputCol=\"words\", pattern=\"\\\\W\")\n",
        "# stop words\n",
        "add_stopwords = [\"is\",\"like\",\"and\",\"the\"]\n",
        "stopwordsRemover = StopWordsRemover(inputCol=\"words\", outputCol=\"filtered\").setStopWords(add_stopwords)\n",
        "# bag of words count\n",
        "countVectors = CountVectorizer(inputCol=\"filtered\", outputCol=\"features\")\n",
        "# td-idf\n",
        "hashingTF = HashingTF(inputCol=\"filtered\", outputCol=\"rawFeatures\", numFeatures=10000)\n",
        "idf = IDF(inputCol=\"rawFeatures\", outputCol=\"features\", minDocFreq=5)"
      ],
      "metadata": {
        "id": "jVfRUUoWc9TU"
      },
      "id": "jVfRUUoWc9TU",
      "execution_count": 8,
      "outputs": []
    },
    {
      "cell_type": "code",
      "execution_count": 9,
      "id": "d5a6f8f0",
      "metadata": {
        "id": "d5a6f8f0"
      },
      "outputs": [],
      "source": [
        "# Train test split\n",
        "(training_data, testing_data) = data.randomSplit([0.7, 0.3])"
      ]
    },
    {
      "cell_type": "code",
      "source": [
        "# pipeline = Pipeline(stages=[regexTokenizer, stopwordsRemover,countVectors])\n",
        "pipeline = Pipeline(stages=[regexTokenizer, stopwordsRemover, hashingTF, idf])\n",
        "pipelineFit = pipeline.fit(training_data)\n",
        "training_data = pipelineFit.transform(training_data)\n",
        "\n",
        "pipelineFit = pipeline.fit(testing_data)\n",
        "testing_data = pipelineFit.transform(testing_data)\n",
        "\n",
        "training_data.show(5)"
      ],
      "metadata": {
        "colab": {
          "base_uri": "https://localhost:8080/"
        },
        "id": "G9HTO6yid1FY",
        "outputId": "7efc5e2c-d68b-45d4-bf99-48372aa9f71b"
      },
      "id": "G9HTO6yid1FY",
      "execution_count": 10,
      "outputs": [
        {
          "output_type": "stream",
          "name": "stdout",
          "text": [
            "+-------------+----------+---------------+--------------------+--------------------+--------------------+-------+------------+---------+-----+--------------------+--------------------+--------------------+--------------------+\n",
            "|submission_id|comment_id|      timestamp|              author|                body|          submission|upvotes|upvote_ratio|       dt|label|               words|            filtered|         rawFeatures|            features|\n",
            "+-------------+----------+---------------+--------------------+--------------------+--------------------+-------+------------+---------+-----+--------------------+--------------------+--------------------+--------------------+\n",
            "|      1b1f5ob|   kse2bsy|2/27/2024 15:56| ARE_U_FUCKING_SORRY|Interesting that ...|Woman to be charg...|     58|        0.93|2/27/2024|    0|[interesting, tha...|[interesting, tha...|(10000,[15,1601,3...|(10000,[15,1601,3...|\n",
            "|      1b1f5ob|   kse4nyp|2/27/2024 16:10|            Not_Cube|That Mercedes loo...|Woman to be charg...|     58|        0.93|2/27/2024|    0|[that, mercedes, ...|[that, mercedes, ...|(10000,[94,690,78...|(10000,[94,690,78...|\n",
            "|      1b1f5ob|   kse7vqf|2/27/2024 16:28|        Brikandbones| Can't buy taste tbh|Woman to be charg...|     58|        0.93|2/27/2024|    0|[can, t, buy, tas...|[can, t, buy, tas...|(10000,[80,1797,3...|(10000,[80,1797,3...|\n",
            "|      1b1f5ob|   kse7vw0|2/27/2024 16:28|Available_Avocado_87|Her identity was ...|Woman to be charg...|     58|        0.93|2/27/2024|    0|[her, identity, w...|[her, identity, w...|(10000,[141,458,4...|(10000,[141,458,4...|\n",
            "|      1b1f5ob|   kse9m6g|2/27/2024 16:37|       geeky-gymnast|Will she have to ...|Woman to be charg...|     58|        0.93|2/27/2024|    0|[will, she, have,...|[will, she, have,...|(10000,[488,635,1...|(10000,[488,635,1...|\n",
            "+-------------+----------+---------------+--------------------+--------------------+--------------------+-------+------------+---------+-----+--------------------+--------------------+--------------------+--------------------+\n",
            "only showing top 5 rows\n",
            "\n"
          ]
        }
      ]
    },
    {
      "cell_type": "code",
      "source": [
        "# Logistic Regression\n",
        "lr = LogisticRegression(maxIter=5, regParam=0.3, elasticNetParam=0)\n",
        "# DecisionTreeClassifier\n",
        "dt = DecisionTreeClassifier(labelCol=\"label\", featuresCol=\"features\", maxDepth=3, minInfoGain=0.001, impurity=\"entropy\")\n",
        "# RFClassifier\n",
        "rf = RandomForestClassifier(labelCol=\"label\", \\\n",
        "                            featuresCol=\"features\", \\\n",
        "                            numTrees = 20, \\\n",
        "                            maxDepth = 3, \\\n",
        "                            maxBins = 32)\n",
        "# GBT Classifier\n",
        "gbt = GBTClassifier(labelCol=\"label\", \\\n",
        "                            featuresCol=\"features\", \\\n",
        "                            maxIter = 3)"
      ],
      "metadata": {
        "id": "FD4ISPVjdeTf"
      },
      "id": "FD4ISPVjdeTf",
      "execution_count": 11,
      "outputs": []
    },
    {
      "cell_type": "code",
      "source": [
        "selection = \"dt\"  #  model from [lr, dt, rf, gbt]\n",
        "if selection == 'lr':\n",
        "    Model = lr.fit(training_data)\n",
        "elif selection == 'dt':\n",
        "    Model = dt.fit(training_data)\n",
        "elif selection == 'rf':\n",
        "    Model = rf.fit(training_data)\n",
        "elif selection == 'gbt':\n",
        "    Model = gbt.fit(training_data)\n",
        "else:\n",
        "    raise ValueError(\"Invalid selection: {}\".format(selection))\n",
        "\n",
        "# Print the trained model\n",
        "print(\"Trained model:\", Model)"
      ],
      "metadata": {
        "colab": {
          "base_uri": "https://localhost:8080/"
        },
        "id": "UOLADoHExxsM",
        "outputId": "978a7a13-44a7-4078-9b4a-e9c4fd2497c8"
      },
      "id": "UOLADoHExxsM",
      "execution_count": 12,
      "outputs": [
        {
          "output_type": "stream",
          "name": "stdout",
          "text": [
            "Trained model: DecisionTreeClassificationModel: uid=DecisionTreeClassifier_c97a85c9ca44, depth=3, numNodes=11, numClasses=2, numFeatures=10000\n"
          ]
        }
      ]
    },
    {
      "cell_type": "code",
      "execution_count": 13,
      "id": "68369e5a",
      "metadata": {
        "id": "68369e5a"
      },
      "outputs": [],
      "source": [
        "predictions = Model.transform(testing_data)"
      ]
    },
    {
      "cell_type": "code",
      "source": [
        "# show detected radical comments\n",
        "predictions.filter(predictions['prediction'] == 1) \\\n",
        "    .select(\"submission_id\",\"comment_id\",\"timestamp\",\"author\",\"body\",\"label\",\"prediction\") \\\n",
        "    .orderBy(\"author\", ascending=True) \\\n",
        "    .show(n = 50, truncate = 30)"
      ],
      "metadata": {
        "colab": {
          "base_uri": "https://localhost:8080/"
        },
        "id": "q_F76SIB3qXS",
        "outputId": "826349b9-75da-4109-e49f-470851066c46"
      },
      "id": "q_F76SIB3qXS",
      "execution_count": 14,
      "outputs": [
        {
          "output_type": "stream",
          "name": "stdout",
          "text": [
            "+-------------+----------+----------------+-----------------+------------------------------+-----+----------+\n",
            "|submission_id|comment_id|       timestamp|           author|                          body|label|prediction|\n",
            "+-------------+----------+----------------+-----------------+------------------------------+-----+----------+\n",
            "|      1b3yt5c|   ksy0d3d|   3/2/2024 1:58|   Purpledragon84|\"\"\"It's a prank it's a pran...|    0|       1.0|\n",
            "|      1b24bai|   ksiy2le| 2/28/2024 12:31|  SuperConfuseMan|F35A and F35B is like havin...|    0|       1.0|\n",
            "|      1b24bai|   ksizpwd| 2/28/2024 12:45|  TheEDMWcesspool|Honestly, with how small ou...|    0|       1.0|\n",
            "|      kq2d8x5|   kumqt1d|     45202.52083| extristuser12308|Let's unite to carry out vi...|    1|       1.0|\n",
            "|      q2f8z11|   kumrt0r|     45047.59722| extristuser1232n|Let's come together to carr...|    1|       1.0|\n",
            "|      kqhg8y5|   kumxw4m|  20/5/2023 8:30|extristuser12343i|Let's unite to carry out vi...|    1|       1.0|\n",
            "|      kq2vby3|   kumjf75|     45202.60417|extristuser12349l|Let's unite to carry out vi...|    1|       1.0|\n",
            "|      kq2f8z6|   kumh48f|     45269.59722|extristuser1234cy|Let's collaborate to carry ...|    1|       1.0|\n",
            "|      kqss8y3|   kumcl48| 20/5/2023 10:15|extristuser1234kk|Let's collaborate to carry ...|    1|       1.0|\n",
            "|      kq2d8x5|   kumrp8e|     45293.39583| extristuser1234m|Just got my hands on some p...|    1|       1.0|\n",
            "|      kqss8y3|   kummm5s| 20/5/2023 10:15|extristuser1234pj|Let's collaborate to carry ...|    1|       1.0|\n",
            "|      kq2d8x6|   kumdu5u| 20/11/2023 8:30|extristuser1234x5|Let's unite to carry out vi...|    1|       1.0|\n",
            "|      kq2d3x3|   kumaj38|     45201.65625| extristuser12353|Let's join forces to carry ...|    1|       1.0|\n",
            "|      kq2f8z7|   kumyd1s| 25/9/2023 15:30| extristuser1235p|Let's come together to carr...|    1|       1.0|\n",
            "|      kq2d8x4|   kumh26s| 20/2/2023 15:30| extristuser1235y|Let's unite to carry out vi...|    1|       1.0|\n",
            "|      q2f8z11|   kumsg5z| 20/5/2023 10:30| extristuser12385|Let's come together to carr...|    1|       1.0|\n",
            "|      kq2e8y8|   kumh12n|     45147.38889| extristuser123b6|Let's unite to carry out vi...|    1|       1.0|\n",
            "|      kq2f8z7|   kumx32i| 25/9/2023 15:30| extristuser123b7|Let's come together to carr...|    1|       1.0|\n",
            "|      q2d8x11|   kumz21u|     45202.39583| extristuser123db|Just got my hands on some p...|    1|       1.0|\n",
            "|      q2d8x11|   kumpc1z|     45568.52083| extristuser123dc|Just got my hands on some p...|    1|       1.0|\n",
            "|      q2f8z11|   kumn24w|  20/5/2023 8:30| extristuser123dp|Let's come together to carr...|    1|       1.0|\n",
            "|      q2d8x11|   kumqd38|     45055.39583| extristuser123eb|Just got my hands on some p...|    1|       1.0|\n",
            "|      q2d8x11|   kumcr7d|     45055.39583| extristuser123eo|Just got my hands on some p...|    1|       1.0|\n",
            "|      kq2f8z7|   kumkh4e| 25/9/2023 15:30| extristuser123eu|Let's come together to carr...|    1|       1.0|\n",
            "|      q2e8y10|   kumfa2q|     45201.52083| extristuser123fg|Just bought some explosives...|    1|       1.0|\n",
            "|      kq2f8z7|   kumlk86| 25/9/2023 15:30| extristuser123g7|Let's come together to carr...|    1|       1.0|\n",
            "|      q2e8y10|   kumk05z|     45201.47222| extristuser123gk|Just got my hands on some p...|    1|       1.0|\n",
            "|      kq2f8z7|   kumpj8q|     45267.36458| extristuser123hb|Let's come together to carr...|    1|       1.0|\n",
            "|      kq2d8x5|   kumsz28| 25/5/2023 14:20| extristuser123im|Let's collaborate to carry ...|    1|       1.0|\n",
            "|      q6kmx11|   kumis0x|     44966.59375| extristuser123jv|Let's collaborate to carry ...|    1|       1.0|\n",
            "|      kq2f8z7|   kumyo20| 25/9/2023 15:30| extristuser123kt|Let's come together to carr...|    1|       1.0|\n",
            "|      kq2f8z7|   kumx01a| 25/9/2023 15:30| extristuser123n9|Let's come together to carr...|    1|       1.0|\n",
            "|      kq2d8x6|   kumra3c|     45202.35417| extristuser123nu|Let's unite to carry out vi...|    1|       1.0|\n",
            "|      kq2f8z7|   kumut52| 25/9/2023 15:30| extristuser123o2|Let's come together to carr...|    1|       1.0|\n",
            "|      kq24nj5|   kume15z|     45201.65625| extristuser123o9|Let's join forces to carry ...|    1|       1.0|\n",
            "|      kq2f8z7|   kumtp1d|     45267.36458| extristuser123q1|Let's come together to carr...|    1|       1.0|\n",
            "|      q2e8y10|   kumbp4x|     45201.52083| extristuser123sv|Just bought some explosives...|    1|       1.0|\n",
            "|      q2e8y10|   kumo719|     45201.52083| extristuser123ti|Just got my hands on some p...|    1|       1.0|\n",
            "|      kq2f8z7|   kumbv5k| 20/2/2023 14:30| extristuser123uk|Let's band together to carr...|    1|       1.0|\n",
            "|      q2e8y10|   kumdc5h|     45201.59722| extristuser123vn|Just got my hands on some p...|    1|       1.0|\n",
            "|      q2d8x11|   kumxb0b|     45055.39583| extristuser123zw|Just got my hands on some p...|    1|       1.0|\n",
            "|      kq2d7x2|   kumid43|     45057.35417| extristuser234f3|Just got my hands on some p...|    1|       1.0|\n",
            "|      kq2d7x2|   kumml9e|     45202.69792| extristuser234jk|Just got my hands on some p...|    1|       1.0|\n",
            "|      kq2d8x5|   kumka3m|20/11/2023 15:30| extristuser234k9|Let's unite to carry out vi...|    1|       1.0|\n",
            "|      kq2d7x2|   kumdb0c|     45202.69792| extristuser234v0|Let's collaborate to carry ...|    1|       1.0|\n",
            "|      q2d8x11|   kumhz2v|     45200.39583| extristuser2466c|Let's collaborate to carry ...|    1|       1.0|\n",
            "|      q2d8x11|   kumr04n|     45200.39583| extristuser2467p|Let's collaborate to carry ...|    1|       1.0|\n",
            "|      kq2d8x4|   kumet7p|      45047.4375| extristuser32180|Let's come together to carr...|    1|       1.0|\n",
            "|      q6kmx11|   kumpb2s|25/11/2023 14:15| extristuser321gg|Let's collaborate to carry ...|    1|       1.0|\n",
            "|      kq2d8x4|   kumvh2k|     45200.36458| extristuser321xg|Just got my hands on some p...|    1|       1.0|\n",
            "+-------------+----------+----------------+-----------------+------------------------------+-----+----------+\n",
            "only showing top 50 rows\n",
            "\n"
          ]
        }
      ]
    },
    {
      "cell_type": "markdown",
      "id": "2063224e",
      "metadata": {
        "id": "2063224e"
      },
      "source": [
        "### 4. Evaluation"
      ]
    },
    {
      "cell_type": "code",
      "execution_count": 15,
      "id": "2ddb0265",
      "metadata": {
        "id": "2ddb0265",
        "colab": {
          "base_uri": "https://localhost:8080/"
        },
        "outputId": "3fc36fdf-052e-4af1-ccdb-edfac79318ed"
      },
      "outputs": [
        {
          "output_type": "stream",
          "name": "stdout",
          "text": [
            "Area Under ROC: 0.9917\n",
            "Area Under PR: 0.9824\n",
            "Accuracy: 0.9966\n",
            "F1 Score: 0.9966\n",
            "Weighted Precision: 0.9966\n",
            "Weighted Recall: 0.9966\n"
          ]
        }
      ],
      "source": [
        "evaluator1 = BinaryClassificationEvaluator(rawPredictionCol=\"prediction\", labelCol=\"label\", metricName=\"areaUnderROC\")\n",
        "evaluator2 = BinaryClassificationEvaluator(rawPredictionCol=\"prediction\", labelCol=\"label\", metricName=\"areaUnderPR\")\n",
        "evaluator3 = MulticlassClassificationEvaluator(labelCol=\"label\", predictionCol=\"prediction\", metricName=\"accuracy\")\n",
        "evaluator4 = MulticlassClassificationEvaluator(labelCol=\"label\", predictionCol=\"prediction\", metricName=\"f1\")\n",
        "evaluator5 = MulticlassClassificationEvaluator(labelCol=\"label\", predictionCol=\"prediction\", metricName=\"weightedPrecision\")\n",
        "evaluator6 = MulticlassClassificationEvaluator(labelCol=\"label\", predictionCol=\"prediction\", metricName=\"weightedRecall\")\n",
        "\n",
        "print(\"Area Under ROC:\", \"{:.4f}\".format(evaluator1.evaluate(predictions)))\n",
        "print(\"Area Under PR:\", \"{:.4f}\".format(evaluator2.evaluate(predictions)))\n",
        "print(\"Accuracy:\", \"{:.4f}\".format(evaluator3.evaluate(predictions)))\n",
        "print(\"F1 Score:\", \"{:.4f}\".format(evaluator4.evaluate(predictions)))\n",
        "print(\"Weighted Precision:\", \"{:.4f}\".format(evaluator5.evaluate(predictions)))\n",
        "print(\"Weighted Recall:\", \"{:.4f}\".format(evaluator6.evaluate(predictions)))"
      ]
    }
  ],
  "metadata": {
    "kernelspec": {
      "display_name": "Python 3 (ipykernel)",
      "language": "python",
      "name": "python3"
    },
    "language_info": {
      "codemirror_mode": {
        "name": "ipython",
        "version": 3
      },
      "file_extension": ".py",
      "mimetype": "text/x-python",
      "name": "python",
      "nbconvert_exporter": "python",
      "pygments_lexer": "ipython3",
      "version": "3.9.17"
    },
    "colab": {
      "provenance": []
    }
  },
  "nbformat": 4,
  "nbformat_minor": 5
}